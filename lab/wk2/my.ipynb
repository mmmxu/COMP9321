{
 "nbformat": 4,
 "nbformat_minor": 2,
 "metadata": {
  "language_info": {
   "name": "python",
   "codemirror_mode": {
    "name": "ipython",
    "version": 3
   },
   "version": "3.7.5-final"
  },
  "orig_nbformat": 2,
  "file_extension": ".py",
  "mimetype": "text/x-python",
  "name": "python",
  "npconvert_exporter": "python",
  "pygments_lexer": "ipython3",
  "version": 3,
  "kernelspec": {
   "name": "python37564bit68f2165c283848adb813beb6702c2d62",
   "display_name": "Python 3.7.5 64-bit"
  }
 },
 "cells": [
  {
   "cell_type": "code",
   "execution_count": 22,
   "metadata": {},
   "outputs": [
    {
     "ename": "ModuleNotFoundError",
     "evalue": "No module named 'sqlalchemy'",
     "output_type": "error",
     "traceback": [
      "\u001b[0;31m---------------------------------------------------------------------------\u001b[0m",
      "\u001b[0;31mModuleNotFoundError\u001b[0m                       Traceback (most recent call last)",
      "\u001b[0;32m<ipython-input-22-2251f12cb9af>\u001b[0m in \u001b[0;36m<module>\u001b[0;34m\u001b[0m\n\u001b[1;32m      1\u001b[0m \u001b[0;32mimport\u001b[0m \u001b[0mpandas\u001b[0m \u001b[0;32mas\u001b[0m \u001b[0mpd\u001b[0m\u001b[0;34m\u001b[0m\u001b[0;34m\u001b[0m\u001b[0m\n\u001b[0;32m----> 2\u001b[0;31m \u001b[0;32mfrom\u001b[0m \u001b[0msqlalchemy\u001b[0m \u001b[0;32mimport\u001b[0m \u001b[0mcreate_engine\u001b[0m\u001b[0;34m\u001b[0m\u001b[0;34m\u001b[0m\u001b[0m\n\u001b[0m",
      "\u001b[0;31mModuleNotFoundError\u001b[0m: No module named 'sqlalchemy'"
     ]
    }
   ],
   "source": [
    "import pandas as pd\n",
    "from sqlalchemy import create_engine\n"
   ]
  },
  {
   "cell_type": "markdown",
   "metadata": {},
   "source": [
    "# Activitiy 1"
   ]
  },
  {
   "cell_type": "code",
   "execution_count": null,
   "metadata": {},
   "outputs": [],
   "source": [
    "df = pd.read_csv('./Demographic_Statistics_By_Zip_Code.csv')\n",
    "df"
   ]
  },
  {
   "cell_type": "code",
   "execution_count": null,
   "metadata": {},
   "outputs": [],
   "source": [
    "df.columns"
   ]
  },
  {
   "cell_type": "code",
   "execution_count": null,
   "metadata": {},
   "outputs": [],
   "source": [
    "# ref: https://stackoverflow.com/questions/16476924/how-to-iterate-over-rows-in-a-dataframe-in-pandas\n",
    "for idx, row in df.iterrows():\n",
    "    print(idx, int(row['JURISDICTION NAME']))\n"
   ]
  },
  {
   "cell_type": "code",
   "execution_count": null,
   "metadata": {},
   "outputs": [],
   "source": [
    "df.to_csv('./output.csv')"
   ]
  },
  {
   "cell_type": "markdown",
   "metadata": {},
   "source": [
    "# Activity 2"
   ]
  },
  {
   "cell_type": "code",
   "execution_count": null,
   "metadata": {},
   "outputs": [],
   "source": [
    "df"
   ]
  },
  {
   "cell_type": "code",
   "execution_count": null,
   "metadata": {},
   "outputs": [],
   "source": [
    "engine = create_engine('sqlite://', echo=False)\n",
    "df.to_sql('2output', con=engine)\n",
    "# engine.execute(\"SELECT * FROM 2outputs\").fetchall()"
   ]
  },
  {
   "cell_type": "code",
   "execution_count": null,
   "metadata": {},
   "outputs": [],
   "source": [
    "import sqlite3\n",
    "conn = sqlite3.connect('./2.sqlite')\n",
    "df.to_sql('output', conn, if_exists='replace', index=False)"
   ]
  },
  {
   "cell_type": "code",
   "execution_count": null,
   "metadata": {},
   "outputs": [],
   "source": [
    "pd.read_sql('select * from output', conn)"
   ]
  },
  {
   "cell_type": "markdown",
   "metadata": {},
   "source": [
    "# Activity 3"
   ]
  },
  {
   "cell_type": "code",
   "execution_count": 43,
   "metadata": {},
   "outputs": [],
   "source": [
    "import pymongo\n",
    "import json"
   ]
  },
  {
   "cell_type": "code",
   "execution_count": 44,
   "metadata": {},
   "outputs": [],
   "source": [
    "myclient = pymongo.MongoClient(\"mongodb://localhost:27017/\")"
   ]
  },
  {
   "cell_type": "code",
   "execution_count": 45,
   "metadata": {},
   "outputs": [],
   "source": [
    "mydb = myclient[\"COMP9321\"]"
   ]
  },
  {
   "cell_type": "code",
   "execution_count": 46,
   "metadata": {},
   "outputs": [],
   "source": [
    "mycol = mydb[\"Demographic_Statistics\"]"
   ]
  },
  {
   "cell_type": "code",
   "execution_count": 47,
   "metadata": {},
   "outputs": [],
   "source": [
    "records = json.loads(df.T.to_json()).values()"
   ]
  },
  {
   "cell_type": "code",
   "execution_count": 48,
   "metadata": {},
   "outputs": [
    {
     "data": {
      "text/plain": "[ObjectId('5e5780440c4cfcadb9ddfad1'),\n ObjectId('5e5780440c4cfcadb9ddfad2'),\n ObjectId('5e5780440c4cfcadb9ddfad3'),\n ObjectId('5e5780440c4cfcadb9ddfad4'),\n ObjectId('5e5780440c4cfcadb9ddfad5'),\n ObjectId('5e5780440c4cfcadb9ddfad6'),\n ObjectId('5e5780440c4cfcadb9ddfad7'),\n ObjectId('5e5780440c4cfcadb9ddfad8'),\n ObjectId('5e5780440c4cfcadb9ddfad9'),\n ObjectId('5e5780440c4cfcadb9ddfada'),\n ObjectId('5e5780440c4cfcadb9ddfadb'),\n ObjectId('5e5780440c4cfcadb9ddfadc'),\n ObjectId('5e5780440c4cfcadb9ddfadd'),\n ObjectId('5e5780440c4cfcadb9ddfade'),\n ObjectId('5e5780440c4cfcadb9ddfadf'),\n ObjectId('5e5780440c4cfcadb9ddfae0'),\n ObjectId('5e5780440c4cfcadb9ddfae1'),\n ObjectId('5e5780440c4cfcadb9ddfae2'),\n ObjectId('5e5780440c4cfcadb9ddfae3'),\n ObjectId('5e5780440c4cfcadb9ddfae4'),\n ObjectId('5e5780440c4cfcadb9ddfae5'),\n ObjectId('5e5780440c4cfcadb9ddfae6'),\n ObjectId('5e5780440c4cfcadb9ddfae7'),\n ObjectId('5e5780440c4cfcadb9ddfae8'),\n ObjectId('5e5780440c4cfcadb9ddfae9'),\n ObjectId('5e5780440c4cfcadb9ddfaea'),\n ObjectId('5e5780440c4cfcadb9ddfaeb'),\n ObjectId('5e5780440c4cfcadb9ddfaec'),\n ObjectId('5e5780440c4cfcadb9ddfaed'),\n ObjectId('5e5780440c4cfcadb9ddfaee'),\n ObjectId('5e5780440c4cfcadb9ddfaef'),\n ObjectId('5e5780440c4cfcadb9ddfaf0'),\n ObjectId('5e5780440c4cfcadb9ddfaf1'),\n ObjectId('5e5780440c4cfcadb9ddfaf2'),\n ObjectId('5e5780440c4cfcadb9ddfaf3'),\n ObjectId('5e5780440c4cfcadb9ddfaf4'),\n ObjectId('5e5780440c4cfcadb9ddfaf5'),\n ObjectId('5e5780440c4cfcadb9ddfaf6'),\n ObjectId('5e5780440c4cfcadb9ddfaf7'),\n ObjectId('5e5780440c4cfcadb9ddfaf8'),\n ObjectId('5e5780440c4cfcadb9ddfaf9'),\n ObjectId('5e5780440c4cfcadb9ddfafa'),\n ObjectId('5e5780440c4cfcadb9ddfafb'),\n ObjectId('5e5780440c4cfcadb9ddfafc'),\n ObjectId('5e5780440c4cfcadb9ddfafd'),\n ObjectId('5e5780440c4cfcadb9ddfafe'),\n ObjectId('5e5780440c4cfcadb9ddfaff'),\n ObjectId('5e5780440c4cfcadb9ddfb00'),\n ObjectId('5e5780440c4cfcadb9ddfb01'),\n ObjectId('5e5780440c4cfcadb9ddfb02'),\n ObjectId('5e5780440c4cfcadb9ddfb03'),\n ObjectId('5e5780440c4cfcadb9ddfb04'),\n ObjectId('5e5780440c4cfcadb9ddfb05'),\n ObjectId('5e5780440c4cfcadb9ddfb06'),\n ObjectId('5e5780440c4cfcadb9ddfb07'),\n ObjectId('5e5780440c4cfcadb9ddfb08'),\n ObjectId('5e5780440c4cfcadb9ddfb09'),\n ObjectId('5e5780440c4cfcadb9ddfb0a'),\n ObjectId('5e5780440c4cfcadb9ddfb0b'),\n ObjectId('5e5780440c4cfcadb9ddfb0c'),\n ObjectId('5e5780440c4cfcadb9ddfb0d'),\n ObjectId('5e5780440c4cfcadb9ddfb0e'),\n ObjectId('5e5780440c4cfcadb9ddfb0f'),\n ObjectId('5e5780440c4cfcadb9ddfb10'),\n ObjectId('5e5780440c4cfcadb9ddfb11'),\n ObjectId('5e5780440c4cfcadb9ddfb12'),\n ObjectId('5e5780440c4cfcadb9ddfb13'),\n ObjectId('5e5780440c4cfcadb9ddfb14'),\n ObjectId('5e5780440c4cfcadb9ddfb15'),\n ObjectId('5e5780440c4cfcadb9ddfb16'),\n ObjectId('5e5780440c4cfcadb9ddfb17'),\n ObjectId('5e5780440c4cfcadb9ddfb18'),\n ObjectId('5e5780440c4cfcadb9ddfb19'),\n ObjectId('5e5780440c4cfcadb9ddfb1a'),\n ObjectId('5e5780440c4cfcadb9ddfb1b'),\n ObjectId('5e5780440c4cfcadb9ddfb1c'),\n ObjectId('5e5780440c4cfcadb9ddfb1d'),\n ObjectId('5e5780440c4cfcadb9ddfb1e'),\n ObjectId('5e5780440c4cfcadb9ddfb1f'),\n ObjectId('5e5780440c4cfcadb9ddfb20'),\n ObjectId('5e5780440c4cfcadb9ddfb21'),\n ObjectId('5e5780440c4cfcadb9ddfb22'),\n ObjectId('5e5780440c4cfcadb9ddfb23'),\n ObjectId('5e5780440c4cfcadb9ddfb24'),\n ObjectId('5e5780440c4cfcadb9ddfb25'),\n ObjectId('5e5780440c4cfcadb9ddfb26'),\n ObjectId('5e5780440c4cfcadb9ddfb27'),\n ObjectId('5e5780440c4cfcadb9ddfb28'),\n ObjectId('5e5780440c4cfcadb9ddfb29'),\n ObjectId('5e5780440c4cfcadb9ddfb2a'),\n ObjectId('5e5780440c4cfcadb9ddfb2b'),\n ObjectId('5e5780440c4cfcadb9ddfb2c'),\n ObjectId('5e5780440c4cfcadb9ddfb2d'),\n ObjectId('5e5780440c4cfcadb9ddfb2e'),\n ObjectId('5e5780440c4cfcadb9ddfb2f'),\n ObjectId('5e5780440c4cfcadb9ddfb30'),\n ObjectId('5e5780440c4cfcadb9ddfb31'),\n ObjectId('5e5780440c4cfcadb9ddfb32'),\n ObjectId('5e5780440c4cfcadb9ddfb33'),\n ObjectId('5e5780440c4cfcadb9ddfb34'),\n ObjectId('5e5780440c4cfcadb9ddfb35'),\n ObjectId('5e5780440c4cfcadb9ddfb36'),\n ObjectId('5e5780440c4cfcadb9ddfb37'),\n ObjectId('5e5780440c4cfcadb9ddfb38'),\n ObjectId('5e5780440c4cfcadb9ddfb39'),\n ObjectId('5e5780440c4cfcadb9ddfb3a'),\n ObjectId('5e5780440c4cfcadb9ddfb3b'),\n ObjectId('5e5780440c4cfcadb9ddfb3c'),\n ObjectId('5e5780440c4cfcadb9ddfb3d'),\n ObjectId('5e5780440c4cfcadb9ddfb3e'),\n ObjectId('5e5780440c4cfcadb9ddfb3f'),\n ObjectId('5e5780440c4cfcadb9ddfb40'),\n ObjectId('5e5780440c4cfcadb9ddfb41'),\n ObjectId('5e5780440c4cfcadb9ddfb42'),\n ObjectId('5e5780440c4cfcadb9ddfb43'),\n ObjectId('5e5780440c4cfcadb9ddfb44'),\n ObjectId('5e5780440c4cfcadb9ddfb45'),\n ObjectId('5e5780440c4cfcadb9ddfb46'),\n ObjectId('5e5780440c4cfcadb9ddfb47'),\n ObjectId('5e5780440c4cfcadb9ddfb48'),\n ObjectId('5e5780440c4cfcadb9ddfb49'),\n ObjectId('5e5780440c4cfcadb9ddfb4a'),\n ObjectId('5e5780440c4cfcadb9ddfb4b'),\n ObjectId('5e5780440c4cfcadb9ddfb4c'),\n ObjectId('5e5780440c4cfcadb9ddfb4d'),\n ObjectId('5e5780440c4cfcadb9ddfb4e'),\n ObjectId('5e5780440c4cfcadb9ddfb4f'),\n ObjectId('5e5780440c4cfcadb9ddfb50'),\n ObjectId('5e5780440c4cfcadb9ddfb51'),\n ObjectId('5e5780440c4cfcadb9ddfb52'),\n ObjectId('5e5780440c4cfcadb9ddfb53'),\n ObjectId('5e5780440c4cfcadb9ddfb54'),\n ObjectId('5e5780440c4cfcadb9ddfb55'),\n ObjectId('5e5780440c4cfcadb9ddfb56'),\n ObjectId('5e5780440c4cfcadb9ddfb57'),\n ObjectId('5e5780440c4cfcadb9ddfb58'),\n ObjectId('5e5780440c4cfcadb9ddfb59'),\n ObjectId('5e5780440c4cfcadb9ddfb5a'),\n ObjectId('5e5780440c4cfcadb9ddfb5b'),\n ObjectId('5e5780440c4cfcadb9ddfb5c'),\n ObjectId('5e5780440c4cfcadb9ddfb5d'),\n ObjectId('5e5780440c4cfcadb9ddfb5e'),\n ObjectId('5e5780440c4cfcadb9ddfb5f'),\n ObjectId('5e5780440c4cfcadb9ddfb60'),\n ObjectId('5e5780440c4cfcadb9ddfb61'),\n ObjectId('5e5780440c4cfcadb9ddfb62'),\n ObjectId('5e5780440c4cfcadb9ddfb63'),\n ObjectId('5e5780440c4cfcadb9ddfb64'),\n ObjectId('5e5780440c4cfcadb9ddfb65'),\n ObjectId('5e5780440c4cfcadb9ddfb66'),\n ObjectId('5e5780440c4cfcadb9ddfb67'),\n ObjectId('5e5780440c4cfcadb9ddfb68'),\n ObjectId('5e5780440c4cfcadb9ddfb69'),\n ObjectId('5e5780440c4cfcadb9ddfb6a'),\n ObjectId('5e5780440c4cfcadb9ddfb6b'),\n ObjectId('5e5780440c4cfcadb9ddfb6c'),\n ObjectId('5e5780440c4cfcadb9ddfb6d'),\n ObjectId('5e5780440c4cfcadb9ddfb6e'),\n ObjectId('5e5780440c4cfcadb9ddfb6f'),\n ObjectId('5e5780440c4cfcadb9ddfb70'),\n ObjectId('5e5780440c4cfcadb9ddfb71'),\n ObjectId('5e5780440c4cfcadb9ddfb72'),\n ObjectId('5e5780440c4cfcadb9ddfb73'),\n ObjectId('5e5780440c4cfcadb9ddfb74'),\n ObjectId('5e5780440c4cfcadb9ddfb75'),\n ObjectId('5e5780440c4cfcadb9ddfb76'),\n ObjectId('5e5780440c4cfcadb9ddfb77'),\n ObjectId('5e5780440c4cfcadb9ddfb78'),\n ObjectId('5e5780440c4cfcadb9ddfb79'),\n ObjectId('5e5780440c4cfcadb9ddfb7a'),\n ObjectId('5e5780440c4cfcadb9ddfb7b'),\n ObjectId('5e5780440c4cfcadb9ddfb7c'),\n ObjectId('5e5780440c4cfcadb9ddfb7d'),\n ObjectId('5e5780440c4cfcadb9ddfb7e'),\n ObjectId('5e5780440c4cfcadb9ddfb7f'),\n ObjectId('5e5780440c4cfcadb9ddfb80'),\n ObjectId('5e5780440c4cfcadb9ddfb81'),\n ObjectId('5e5780440c4cfcadb9ddfb82'),\n ObjectId('5e5780440c4cfcadb9ddfb83'),\n ObjectId('5e5780440c4cfcadb9ddfb84'),\n ObjectId('5e5780440c4cfcadb9ddfb85'),\n ObjectId('5e5780440c4cfcadb9ddfb86'),\n ObjectId('5e5780440c4cfcadb9ddfb87'),\n ObjectId('5e5780440c4cfcadb9ddfb88'),\n ObjectId('5e5780440c4cfcadb9ddfb89'),\n ObjectId('5e5780440c4cfcadb9ddfb8a'),\n ObjectId('5e5780440c4cfcadb9ddfb8b'),\n ObjectId('5e5780440c4cfcadb9ddfb8c'),\n ObjectId('5e5780440c4cfcadb9ddfb8d'),\n ObjectId('5e5780440c4cfcadb9ddfb8e'),\n ObjectId('5e5780440c4cfcadb9ddfb8f'),\n ObjectId('5e5780440c4cfcadb9ddfb90'),\n ObjectId('5e5780440c4cfcadb9ddfb91'),\n ObjectId('5e5780440c4cfcadb9ddfb92'),\n ObjectId('5e5780440c4cfcadb9ddfb93'),\n ObjectId('5e5780440c4cfcadb9ddfb94'),\n ObjectId('5e5780440c4cfcadb9ddfb95'),\n ObjectId('5e5780440c4cfcadb9ddfb96'),\n ObjectId('5e5780440c4cfcadb9ddfb97'),\n ObjectId('5e5780440c4cfcadb9ddfb98'),\n ObjectId('5e5780440c4cfcadb9ddfb99'),\n ObjectId('5e5780440c4cfcadb9ddfb9a'),\n ObjectId('5e5780440c4cfcadb9ddfb9b'),\n ObjectId('5e5780440c4cfcadb9ddfb9c'),\n ObjectId('5e5780440c4cfcadb9ddfb9d'),\n ObjectId('5e5780440c4cfcadb9ddfb9e'),\n ObjectId('5e5780440c4cfcadb9ddfb9f'),\n ObjectId('5e5780440c4cfcadb9ddfba0'),\n ObjectId('5e5780440c4cfcadb9ddfba1'),\n ObjectId('5e5780440c4cfcadb9ddfba2'),\n ObjectId('5e5780440c4cfcadb9ddfba3'),\n ObjectId('5e5780440c4cfcadb9ddfba4'),\n ObjectId('5e5780440c4cfcadb9ddfba5'),\n ObjectId('5e5780440c4cfcadb9ddfba6'),\n ObjectId('5e5780440c4cfcadb9ddfba7'),\n ObjectId('5e5780440c4cfcadb9ddfba8'),\n ObjectId('5e5780440c4cfcadb9ddfba9'),\n ObjectId('5e5780440c4cfcadb9ddfbaa'),\n ObjectId('5e5780440c4cfcadb9ddfbab'),\n ObjectId('5e5780440c4cfcadb9ddfbac'),\n ObjectId('5e5780440c4cfcadb9ddfbad'),\n ObjectId('5e5780440c4cfcadb9ddfbae'),\n ObjectId('5e5780440c4cfcadb9ddfbaf'),\n ObjectId('5e5780440c4cfcadb9ddfbb0'),\n ObjectId('5e5780440c4cfcadb9ddfbb1'),\n ObjectId('5e5780440c4cfcadb9ddfbb2'),\n ObjectId('5e5780440c4cfcadb9ddfbb3'),\n ObjectId('5e5780440c4cfcadb9ddfbb4'),\n ObjectId('5e5780440c4cfcadb9ddfbb5'),\n ObjectId('5e5780440c4cfcadb9ddfbb6'),\n ObjectId('5e5780440c4cfcadb9ddfbb7'),\n ObjectId('5e5780440c4cfcadb9ddfbb8'),\n ObjectId('5e5780440c4cfcadb9ddfbb9'),\n ObjectId('5e5780440c4cfcadb9ddfbba'),\n ObjectId('5e5780440c4cfcadb9ddfbbb'),\n ObjectId('5e5780440c4cfcadb9ddfbbc')]"
     },
     "execution_count": 48,
     "metadata": {},
     "output_type": "execute_result"
    }
   ],
   "source": [
    "mycol.insert(records)"
   ]
  },
  {
   "cell_type": "code",
   "execution_count": 50,
   "metadata": {},
   "outputs": [
    {
     "data": {
      "text/html": "<div>\n<style scoped>\n    .dataframe tbody tr th:only-of-type {\n        vertical-align: middle;\n    }\n\n    .dataframe tbody tr th {\n        vertical-align: top;\n    }\n\n    .dataframe thead th {\n        text-align: right;\n    }\n</style>\n<table border=\"1\" class=\"dataframe\">\n  <thead>\n    <tr style=\"text-align: right;\">\n      <th></th>\n      <th>_id</th>\n      <th>JURISDICTION NAME</th>\n      <th>COUNT PARTICIPANTS</th>\n      <th>COUNT FEMALE</th>\n      <th>PERCENT FEMALE</th>\n      <th>COUNT MALE</th>\n      <th>PERCENT MALE</th>\n      <th>COUNT GENDER UNKNOWN</th>\n      <th>PERCENT GENDER UNKNOWN</th>\n      <th>COUNT GENDER TOTAL</th>\n      <th>...</th>\n      <th>COUNT CITIZEN STATUS TOTAL</th>\n      <th>PERCENT CITIZEN STATUS TOTAL</th>\n      <th>COUNT RECEIVES PUBLIC ASSISTANCE</th>\n      <th>PERCENT RECEIVES PUBLIC ASSISTANCE</th>\n      <th>COUNT NRECEIVES PUBLIC ASSISTANCE</th>\n      <th>PERCENT NRECEIVES PUBLIC ASSISTANCE</th>\n      <th>COUNT PUBLIC ASSISTANCE UNKNOWN</th>\n      <th>PERCENT PUBLIC ASSISTANCE UNKNOWN</th>\n      <th>COUNT PUBLIC ASSISTANCE TOTAL</th>\n      <th>PERCENT PUBLIC ASSISTANCE TOTAL</th>\n    </tr>\n  </thead>\n  <tbody>\n    <tr>\n      <th>0</th>\n      <td>5e5780440c4cfcadb9ddfad1</td>\n      <td>10001.0</td>\n      <td>44.0</td>\n      <td>22.0</td>\n      <td>0.50</td>\n      <td>22.0</td>\n      <td>0.50</td>\n      <td>0.0</td>\n      <td>0.0</td>\n      <td>44.0</td>\n      <td>...</td>\n      <td>44.0</td>\n      <td>100.0</td>\n      <td>20.0</td>\n      <td>0.45</td>\n      <td>24.0</td>\n      <td>0.55</td>\n      <td>0.0</td>\n      <td>0.0</td>\n      <td>44.0</td>\n      <td>100.0</td>\n    </tr>\n    <tr>\n      <th>1</th>\n      <td>5e5780440c4cfcadb9ddfad2</td>\n      <td>10002.0</td>\n      <td>35.0</td>\n      <td>19.0</td>\n      <td>0.54</td>\n      <td>16.0</td>\n      <td>0.46</td>\n      <td>0.0</td>\n      <td>0.0</td>\n      <td>35.0</td>\n      <td>...</td>\n      <td>35.0</td>\n      <td>100.0</td>\n      <td>2.0</td>\n      <td>0.06</td>\n      <td>33.0</td>\n      <td>0.94</td>\n      <td>0.0</td>\n      <td>0.0</td>\n      <td>35.0</td>\n      <td>100.0</td>\n    </tr>\n    <tr>\n      <th>2</th>\n      <td>5e5780440c4cfcadb9ddfad3</td>\n      <td>10003.0</td>\n      <td>1.0</td>\n      <td>1.0</td>\n      <td>1.00</td>\n      <td>0.0</td>\n      <td>0.00</td>\n      <td>0.0</td>\n      <td>0.0</td>\n      <td>1.0</td>\n      <td>...</td>\n      <td>1.0</td>\n      <td>100.0</td>\n      <td>0.0</td>\n      <td>0.00</td>\n      <td>1.0</td>\n      <td>1.00</td>\n      <td>0.0</td>\n      <td>0.0</td>\n      <td>1.0</td>\n      <td>100.0</td>\n    </tr>\n    <tr>\n      <th>3</th>\n      <td>5e5780440c4cfcadb9ddfad4</td>\n      <td>10004.0</td>\n      <td>0.0</td>\n      <td>0.0</td>\n      <td>0.00</td>\n      <td>0.0</td>\n      <td>0.00</td>\n      <td>0.0</td>\n      <td>0.0</td>\n      <td>0.0</td>\n      <td>...</td>\n      <td>0.0</td>\n      <td>0.0</td>\n      <td>0.0</td>\n      <td>0.00</td>\n      <td>0.0</td>\n      <td>0.00</td>\n      <td>0.0</td>\n      <td>0.0</td>\n      <td>0.0</td>\n      <td>0.0</td>\n    </tr>\n    <tr>\n      <th>4</th>\n      <td>5e5780440c4cfcadb9ddfad5</td>\n      <td>10005.0</td>\n      <td>2.0</td>\n      <td>2.0</td>\n      <td>1.00</td>\n      <td>0.0</td>\n      <td>0.00</td>\n      <td>0.0</td>\n      <td>0.0</td>\n      <td>2.0</td>\n      <td>...</td>\n      <td>2.0</td>\n      <td>100.0</td>\n      <td>0.0</td>\n      <td>0.00</td>\n      <td>2.0</td>\n      <td>1.00</td>\n      <td>0.0</td>\n      <td>0.0</td>\n      <td>2.0</td>\n      <td>100.0</td>\n    </tr>\n    <tr>\n      <th>...</th>\n      <td>...</td>\n      <td>...</td>\n      <td>...</td>\n      <td>...</td>\n      <td>...</td>\n      <td>...</td>\n      <td>...</td>\n      <td>...</td>\n      <td>...</td>\n      <td>...</td>\n      <td>...</td>\n      <td>...</td>\n      <td>...</td>\n      <td>...</td>\n      <td>...</td>\n      <td>...</td>\n      <td>...</td>\n      <td>...</td>\n      <td>...</td>\n      <td>...</td>\n      <td>...</td>\n    </tr>\n    <tr>\n      <th>231</th>\n      <td>5e5780440c4cfcadb9ddfbb8</td>\n      <td>12788.0</td>\n      <td>83.0</td>\n      <td>39.0</td>\n      <td>0.47</td>\n      <td>44.0</td>\n      <td>0.53</td>\n      <td>0.0</td>\n      <td>0.0</td>\n      <td>83.0</td>\n      <td>...</td>\n      <td>83.0</td>\n      <td>100.0</td>\n      <td>35.0</td>\n      <td>0.42</td>\n      <td>48.0</td>\n      <td>0.58</td>\n      <td>0.0</td>\n      <td>0.0</td>\n      <td>83.0</td>\n      <td>100.0</td>\n    </tr>\n    <tr>\n      <th>232</th>\n      <td>5e5780440c4cfcadb9ddfbb9</td>\n      <td>12789.0</td>\n      <td>272.0</td>\n      <td>115.0</td>\n      <td>0.42</td>\n      <td>157.0</td>\n      <td>0.58</td>\n      <td>0.0</td>\n      <td>0.0</td>\n      <td>272.0</td>\n      <td>...</td>\n      <td>272.0</td>\n      <td>100.0</td>\n      <td>70.0</td>\n      <td>0.26</td>\n      <td>202.0</td>\n      <td>0.74</td>\n      <td>0.0</td>\n      <td>0.0</td>\n      <td>272.0</td>\n      <td>100.0</td>\n    </tr>\n    <tr>\n      <th>233</th>\n      <td>5e5780440c4cfcadb9ddfbba</td>\n      <td>13731.0</td>\n      <td>17.0</td>\n      <td>2.0</td>\n      <td>0.12</td>\n      <td>15.0</td>\n      <td>0.88</td>\n      <td>0.0</td>\n      <td>0.0</td>\n      <td>17.0</td>\n      <td>...</td>\n      <td>17.0</td>\n      <td>100.0</td>\n      <td>7.0</td>\n      <td>0.41</td>\n      <td>10.0</td>\n      <td>0.59</td>\n      <td>0.0</td>\n      <td>0.0</td>\n      <td>17.0</td>\n      <td>100.0</td>\n    </tr>\n    <tr>\n      <th>234</th>\n      <td>5e5780440c4cfcadb9ddfbbb</td>\n      <td>16091.0</td>\n      <td>0.0</td>\n      <td>0.0</td>\n      <td>0.00</td>\n      <td>0.0</td>\n      <td>0.00</td>\n      <td>0.0</td>\n      <td>0.0</td>\n      <td>0.0</td>\n      <td>...</td>\n      <td>0.0</td>\n      <td>0.0</td>\n      <td>0.0</td>\n      <td>0.00</td>\n      <td>0.0</td>\n      <td>0.00</td>\n      <td>0.0</td>\n      <td>0.0</td>\n      <td>0.0</td>\n      <td>0.0</td>\n    </tr>\n    <tr>\n      <th>235</th>\n      <td>5e5780440c4cfcadb9ddfbbc</td>\n      <td>20459.0</td>\n      <td>0.0</td>\n      <td>0.0</td>\n      <td>0.00</td>\n      <td>0.0</td>\n      <td>0.00</td>\n      <td>0.0</td>\n      <td>0.0</td>\n      <td>0.0</td>\n      <td>...</td>\n      <td>0.0</td>\n      <td>0.0</td>\n      <td>0.0</td>\n      <td>0.00</td>\n      <td>0.0</td>\n      <td>0.00</td>\n      <td>0.0</td>\n      <td>0.0</td>\n      <td>0.0</td>\n      <td>0.0</td>\n    </tr>\n  </tbody>\n</table>\n<p>236 rows × 47 columns</p>\n</div>",
      "text/plain": "                          _id  JURISDICTION NAME  COUNT PARTICIPANTS  \\\n0    5e5780440c4cfcadb9ddfad1            10001.0                44.0   \n1    5e5780440c4cfcadb9ddfad2            10002.0                35.0   \n2    5e5780440c4cfcadb9ddfad3            10003.0                 1.0   \n3    5e5780440c4cfcadb9ddfad4            10004.0                 0.0   \n4    5e5780440c4cfcadb9ddfad5            10005.0                 2.0   \n..                        ...                ...                 ...   \n231  5e5780440c4cfcadb9ddfbb8            12788.0                83.0   \n232  5e5780440c4cfcadb9ddfbb9            12789.0               272.0   \n233  5e5780440c4cfcadb9ddfbba            13731.0                17.0   \n234  5e5780440c4cfcadb9ddfbbb            16091.0                 0.0   \n235  5e5780440c4cfcadb9ddfbbc            20459.0                 0.0   \n\n     COUNT FEMALE  PERCENT FEMALE  COUNT MALE  PERCENT MALE  \\\n0            22.0            0.50        22.0          0.50   \n1            19.0            0.54        16.0          0.46   \n2             1.0            1.00         0.0          0.00   \n3             0.0            0.00         0.0          0.00   \n4             2.0            1.00         0.0          0.00   \n..            ...             ...         ...           ...   \n231          39.0            0.47        44.0          0.53   \n232         115.0            0.42       157.0          0.58   \n233           2.0            0.12        15.0          0.88   \n234           0.0            0.00         0.0          0.00   \n235           0.0            0.00         0.0          0.00   \n\n     COUNT GENDER UNKNOWN  PERCENT GENDER UNKNOWN  COUNT GENDER TOTAL  ...  \\\n0                     0.0                     0.0                44.0  ...   \n1                     0.0                     0.0                35.0  ...   \n2                     0.0                     0.0                 1.0  ...   \n3                     0.0                     0.0                 0.0  ...   \n4                     0.0                     0.0                 2.0  ...   \n..                    ...                     ...                 ...  ...   \n231                   0.0                     0.0                83.0  ...   \n232                   0.0                     0.0               272.0  ...   \n233                   0.0                     0.0                17.0  ...   \n234                   0.0                     0.0                 0.0  ...   \n235                   0.0                     0.0                 0.0  ...   \n\n     COUNT CITIZEN STATUS TOTAL  PERCENT CITIZEN STATUS TOTAL  \\\n0                          44.0                         100.0   \n1                          35.0                         100.0   \n2                           1.0                         100.0   \n3                           0.0                           0.0   \n4                           2.0                         100.0   \n..                          ...                           ...   \n231                        83.0                         100.0   \n232                       272.0                         100.0   \n233                        17.0                         100.0   \n234                         0.0                           0.0   \n235                         0.0                           0.0   \n\n     COUNT RECEIVES PUBLIC ASSISTANCE  PERCENT RECEIVES PUBLIC ASSISTANCE  \\\n0                                20.0                                0.45   \n1                                 2.0                                0.06   \n2                                 0.0                                0.00   \n3                                 0.0                                0.00   \n4                                 0.0                                0.00   \n..                                ...                                 ...   \n231                              35.0                                0.42   \n232                              70.0                                0.26   \n233                               7.0                                0.41   \n234                               0.0                                0.00   \n235                               0.0                                0.00   \n\n     COUNT NRECEIVES PUBLIC ASSISTANCE  PERCENT NRECEIVES PUBLIC ASSISTANCE  \\\n0                                 24.0                                 0.55   \n1                                 33.0                                 0.94   \n2                                  1.0                                 1.00   \n3                                  0.0                                 0.00   \n4                                  2.0                                 1.00   \n..                                 ...                                  ...   \n231                               48.0                                 0.58   \n232                              202.0                                 0.74   \n233                               10.0                                 0.59   \n234                                0.0                                 0.00   \n235                                0.0                                 0.00   \n\n     COUNT PUBLIC ASSISTANCE UNKNOWN  PERCENT PUBLIC ASSISTANCE UNKNOWN  \\\n0                                0.0                                0.0   \n1                                0.0                                0.0   \n2                                0.0                                0.0   \n3                                0.0                                0.0   \n4                                0.0                                0.0   \n..                               ...                                ...   \n231                              0.0                                0.0   \n232                              0.0                                0.0   \n233                              0.0                                0.0   \n234                              0.0                                0.0   \n235                              0.0                                0.0   \n\n     COUNT PUBLIC ASSISTANCE TOTAL  PERCENT PUBLIC ASSISTANCE TOTAL  \n0                             44.0                            100.0  \n1                             35.0                            100.0  \n2                              1.0                            100.0  \n3                              0.0                              0.0  \n4                              2.0                            100.0  \n..                             ...                              ...  \n231                           83.0                            100.0  \n232                          272.0                            100.0  \n233                           17.0                            100.0  \n234                            0.0                              0.0  \n235                            0.0                              0.0  \n\n[236 rows x 47 columns]"
     },
     "execution_count": 50,
     "metadata": {},
     "output_type": "execute_result"
    }
   ],
   "source": [
    "pd.DataFrame(list(mycol.find()))"
   ]
  },
  {
   "cell_type": "markdown",
   "metadata": {},
   "source": [
    "# Activity 4"
   ]
  },
  {
   "cell_type": "code",
   "execution_count": null,
   "metadata": {},
   "outputs": [],
   "source": []
  }
 ]
}
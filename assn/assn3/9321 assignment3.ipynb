{
 "cells": [
  {
   "cell_type": "code",
   "execution_count": 10,
   "metadata": {},
   "outputs": [],
   "source": [
    "import pandas as pd\n",
    "file = pd.read_csv('training.csv',encoding='ANSI')\n",
    "\n",
    "# to predict revenue\n",
    "revenue = 31556061"
   ]
  },
  {
   "cell_type": "code",
   "execution_count": null,
   "metadata": {},
   "outputs": [],
   "source": [
    "# movie_id\n",
    "movie_id = 19994\n",
    "\n",
    "# budget\n",
    "budget = 16000000\n",
    "\n",
    "# genres\n",
    "genres = [{\"id\": 35, \"name\": \"Comedy\"}, {\"id\": 27, \"name\": \"Horror\"}]\n",
    "\n",
    "# homepage\n",
    "homepage = 'http://www.ifcfilms.com/films/enter-the-void'\n",
    "\n",
    "# original_language\n",
    "ol = 'en'\n",
    "\n",
    "# original_title\n",
    "ot = \"Jennifer's Body\"\n",
    "\n",
    "# overview\n",
    "overview = 'A newly possessed cheerleader turns into a killer who specializes in offing her male classmates. \\\n",
    "            Can her best friend put an end to the horror?'\n",
    "\n",
    "# release date\n",
    "rd = '2009/9/18'\n",
    "\n",
    "# run time\n",
    "runtime = 100\n",
    "\n",
    "# spoken_languages\n",
    "sl = [{\"iso_639_1\": \"es\", \"name\": \"Espa\\u00f1ol\"}, {\"iso_639_1\": \"en\", \"name\": \"English\"}]\n",
    "\n",
    "# status\n",
    "status = 'Released'\n",
    "\n",
    "# tagline\n",
    "tagline = \"She's evil... and not just high school evil.\""
   ]
  },
  {
   "cell_type": "code",
   "execution_count": 8,
   "metadata": {},
   "outputs": [
    {
     "name": "stdout",
     "output_type": "stream",
     "text": [
      "{'cast_id': 1, 'character': 'Jennifer Check', 'credit_id': '52fe47ff9251416c750ac871', 'gender': 1, 'id': 19537, 'name': 'Megan Fox', 'order': 0}\n"
     ]
    }
   ],
   "source": [
    "# cast\n",
    "cast = [{\"cast_id\": 1, \"character\": \"Jennifer Check\", \"credit_id\": \"52fe47ff9251416c750ac871\", \"gender\": 1, \"id\": 19537, \"name\": \"Megan Fox\", \"order\": 0}, {\"cast_id\": 8, \"character\": \"Anita \\\"Needy\\\" Lesnicky\", \"credit_id\": \"52fe48009251416c750ac893\", \"gender\": 1, \"id\": 71070, \"name\": \"Amanda Seyfried\", \"order\": 1}, {\"cast_id\": 9, \"character\": \"Chip Dove\", \"credit_id\": \"52fe48009251416c750ac897\", \"gender\": 2, \"id\": 27104, \"name\": \"Johnny Simmons\", \"order\": 2}, {\"cast_id\": 10, \"character\": \"Nikolai Wolf\", \"credit_id\": \"52fe48009251416c750ac89b\", \"gender\": 2, \"id\": 11702, \"name\": \"Adam Brody\", \"order\": 3}, {\"cast_id\": 11, \"character\": \"Mr. Wroblewski\", \"credit_id\": \"52fe48009251416c750ac89f\", \"gender\": 2, \"id\": 18999, \"name\": \"J.K. Simmons\", \"order\": 4}, {\"cast_id\": 12, \"character\": \"Colin Gray\", \"credit_id\": \"52fe48009251416c750ac8a3\", \"gender\": 0, \"id\": 59219, \"name\": \"Kyle Gallner\", \"order\": 5}, {\"cast_id\": 13, \"character\": \"Toni Lesnicky\", \"credit_id\": \"52fe48009251416c750ac8a7\", \"gender\": 1, \"id\": 12110, \"name\": \"Amy Sedaris\", \"order\": 6}, {\"cast_id\": 14, \"character\": \"Mrs. Dove\", \"credit_id\": \"52fe48009251416c750ac8ab\", \"gender\": 1, \"id\": 65528, \"name\": \"Cynthia Stevenson\", \"order\": 7}, {\"cast_id\": 15, \"character\": \"Mrs. Check\", \"credit_id\": \"52fe48009251416c750ac8af\", \"gender\": 1, \"id\": 33350, \"name\": \"Carrie Genzel\", \"order\": 8}, {\"cast_id\": 16, \"character\": \"Dirk\", \"credit_id\": \"52fe48009251416c750ac8b3\", \"gender\": 2, \"id\": 85613, \"name\": \"Juan Riedinger\", \"order\": 9}, {\"cast_id\": 17, \"character\": \"Officer Roman Duda\", \"credit_id\": \"52fe48009251416c750ac8b7\", \"gender\": 2, \"id\": 73457, \"name\": \"Chris Pratt\", \"order\": 10}, {\"cast_id\": 18, \"character\": \"Officer Warzak\", \"credit_id\": \"52fe48009251416c750ac8bb\", \"gender\": 1, \"id\": 85614, \"name\": \"Juno Rinaldi\", \"order\": 11}, {\"cast_id\": 20, \"character\": \"Ahmet from India\", \"credit_id\": \"52fe48009251416c750ac8bf\", \"gender\": 0, \"id\": 85616, \"name\": \"Aman Johal\", \"order\": 12}, {\"cast_id\": 21, \"character\": \"Goth Girl\", \"credit_id\": \"52fe48009251416c750ac8c3\", \"gender\": 1, \"id\": 209723, \"name\": \"Eve Harlow\", \"order\": 13}, {\"cast_id\": 32, \"character\": \"Goth Girl #2\", \"credit_id\": \"563e03bac3a3681b5402cd23\", \"gender\": 1, \"id\": 46903, \"name\": \"Genevieve Buechner\", \"order\": 14}, {\"cast_id\": 33, \"character\": \"Priest\", \"credit_id\": \"56f99c3692514156f9000c4d\", \"gender\": 2, \"id\": 208146, \"name\": \"Michael Bean\", \"order\": 15}, {\"cast_id\": 34, \"character\": \"Nutritionist\", \"credit_id\": \"57a255e5c3a3682641000676\", \"gender\": 1, \"id\": 41432, \"name\": \"Candus Churchill\", \"order\": 16}, {\"cast_id\": 35, \"character\": \"Melody Lane Drinking Woman\", \"credit_id\": \"5870aa5b9251413561005755\", \"gender\": 1, \"id\": 52444, \"name\": \"Diablo Cody\", \"order\": 17}, {\"cast_id\": 36, \"character\": \"Passing Motorist\", \"credit_id\": \"5870aa699251413569005bda\", \"gender\": 2, \"id\": 2714, \"name\": \"Lance Henriksen\", \"order\": 18}, {\"cast_id\": 38, \"character\": \"Young Needy\", \"credit_id\": \"5928c629c3a368783e0414e6\", \"gender\": 1, \"id\": 223126, \"name\": \"Megan Charpentier\", \"order\": 20}]\n",
    "print(cast[0])"
   ]
  },
  {
   "cell_type": "code",
   "execution_count": 9,
   "metadata": {},
   "outputs": [
    {
     "name": "stdout",
     "output_type": "stream",
     "text": [
      "{'credit_id': '534a8d61c3a3682dd80016c3', 'department': 'Costume & Make-Up', 'gender': 1, 'id': 2327, 'job': 'Costume Design', 'name': 'Katia Stano'}\n"
     ]
    }
   ],
   "source": [
    "# crew\n",
    "crew = [{\"credit_id\": \"534a8d61c3a3682dd80016c3\", \"department\": \"Costume & Make-Up\", \"gender\": 1, \"id\": 2327, \"job\": \"Costume Design\", \"name\": \"Katia Stano\"}, {\"credit_id\": \"52fe48009251416c750ac8db\", \"department\": \"Sound\", \"gender\": 2, \"id\": 10572, \"job\": \"Original Music Composer\", \"name\": \"Theodore Shapiro\"}, {\"credit_id\": \"52fe48009251416c750ac8ed\", \"department\": \"Production\", \"gender\": 1, \"id\": 6044, \"job\": \"Casting\", \"name\": \"Mindy Marin\"}, {\"credit_id\": \"52fe48009251416c750ac8e1\", \"department\": \"Camera\", \"gender\": 2, \"id\": 22119, \"job\": \"Director of Photography\", \"name\": \"M. David Mullen\"}, {\"credit_id\": \"52fe48009251416c750ac8f3\", \"department\": \"Art\", \"gender\": 0, \"id\": 15222, \"job\": \"Production Design\", \"name\": \"Arvinder Grewal\"}, {\"credit_id\": \"5631fc0bc3a3681b5901213c\", \"department\": \"Sound\", \"gender\": 2, \"id\": 52161, \"job\": \"Music Supervisor\", \"name\": \"Randall Poster\"}, {\"credit_id\": \"52fe48009251416c750ac8c9\", \"department\": \"Production\", \"gender\": 2, \"id\": 43899, \"job\": \"Producer\", \"name\": \"Brad Van Arragon\"}, {\"credit_id\": \"52fe48009251416c750ac8e7\", \"department\": \"Editing\", \"gender\": 0, \"id\": 53278, \"job\": \"Editor\", \"name\": \"Plummy Tucker\"}, {\"credit_id\": \"52fe47ff9251416c750ac889\", \"department\": \"Production\", \"gender\": 2, \"id\": 52443, \"job\": \"Producer\", \"name\": \"Jason Reitman\"}, {\"credit_id\": \"52fe47ff9251416c750ac88f\", \"department\": \"Writing\", \"gender\": 1, \"id\": 52444, \"job\": \"Screenplay\", \"name\": \"Diablo Cody\"}, {\"credit_id\": \"52fe48009251416c750ac8cf\", \"department\": \"Production\", \"gender\": 1, \"id\": 52444, \"job\": \"Executive Producer\", \"name\": \"Diablo Cody\"}, {\"credit_id\": \"52fe47ff9251416c750ac883\", \"department\": \"Production\", \"gender\": 0, \"id\": 52446, \"job\": \"Producer\", \"name\": \"Mason Novick\"}, {\"credit_id\": \"52fe47ff9251416c750ac87d\", \"department\": \"Production\", \"gender\": 2, \"id\": 52448, \"job\": \"Producer\", \"name\": \"Daniel Dubiecki\"}, {\"credit_id\": \"52fe47ff9251416c750ac877\", \"department\": \"Directing\", \"gender\": 1, \"id\": 54025, \"job\": \"Director\", \"name\": \"Karyn Kusama\"}, {\"credit_id\": \"52fe48009251416c750ac8d5\", \"department\": \"Sound\", \"gender\": 0, \"id\": 1001706, \"job\": \"Original Music Composer\", \"name\": \"Stephen Barton\"}]\n",
    "print(crew[0])"
   ]
  },
  {
   "cell_type": "code",
   "execution_count": 11,
   "metadata": {},
   "outputs": [
    {
     "name": "stdout",
     "output_type": "stream",
     "text": [
      "{'id': 3302, 'name': 'bloodthirstiness'}\n"
     ]
    }
   ],
   "source": [
    "# keyword\n",
    "keyword = [{\"id\": 3302, \"name\": \"bloodthirstiness\"}, {\"id\": 6270, \"name\": \"high school\"}, {\"id\": 7098, \"name\": \"sexual murder\"}, {\"id\": 8087, \"name\": \"horror\"}, {\"id\": 10292, \"name\": \"gore\"}, {\"id\": 11798, \"name\": \"slumber party\"}, {\"id\": 15001, \"name\": \"demon\"}, {\"id\": 161173, \"name\": \"succubus\"}, {\"id\": 166625, \"name\": \"candlelight vigil\"}, {\"id\": 179431, \"name\": \"duringcreditsstinger\"}, {\"id\": 187056, \"name\": \"woman director\"}]\n",
    "print(keyword[0])"
   ]
  },
  {
   "cell_type": "code",
   "execution_count": 13,
   "metadata": {},
   "outputs": [
    {
     "name": "stdout",
     "output_type": "stream",
     "text": [
      "{'name': 'Dune Entertainment', 'id': 444}\n"
     ]
    }
   ],
   "source": [
    "# production companies\n",
    "pc = [{\"name\": \"Dune Entertainment\", \"id\": 444}, {\"name\": \"Fox Atomic\", \"id\": 2890}]\n",
    "print(pc[0])"
   ]
  },
  {
   "cell_type": "code",
   "execution_count": 14,
   "metadata": {},
   "outputs": [
    {
     "name": "stdout",
     "output_type": "stream",
     "text": [
      "{'iso_3166_1': 'US', 'name': 'United States of America'}\n"
     ]
    }
   ],
   "source": [
    "# production countries\n",
    "pcs = [{\"iso_3166_1\": \"US\", \"name\": \"United States of America\"}]\n",
    "print(pcs[0])"
   ]
  },
  {
   "cell_type": "code",
   "execution_count": null,
   "metadata": {},
   "outputs": [],
   "source": []
  }
 ],
 "metadata": {
  "kernelspec": {
   "display_name": "Python 3",
   "language": "python",
   "name": "python3"
  },
  "language_info": {
   "codemirror_mode": {
    "name": "ipython",
    "version": 3
   },
   "file_extension": ".py",
   "mimetype": "text/x-python",
   "name": "python",
   "nbconvert_exporter": "python",
   "pygments_lexer": "ipython3",
   "version": "3.6.8"
  }
 },
 "nbformat": 4,
 "nbformat_minor": 2
}

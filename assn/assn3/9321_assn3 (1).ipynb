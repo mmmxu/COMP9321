{
  "nbformat": 4,
  "nbformat_minor": 0,
  "metadata": {
    "colab": {
      "name": "9321-assn3.ipynb",
      "provenance": [],
      "collapsed_sections": [
        "wR6dJMLVcdXW",
        "L7WzEN6wVrge",
        "GyA9BRLVVwjy",
        "h4iB6faNYWTi",
        "5FD_KpuEQEqf"
      ]
    },
    "kernelspec": {
      "name": "python3",
      "display_name": "Python 3"
    }
  },
  "cells": [
    {
      "cell_type": "markdown",
      "metadata": {
        "id": "0iJQM19YWXuZ",
        "colab_type": "text"
      },
      "source": [
        "# preprocessing\n",
        "\n",
        "dev env colab\n",
        "## Load csv file from Gdrive"
      ]
    },
    {
      "cell_type": "code",
      "metadata": {
        "id": "J2b_qLgEPOaH",
        "colab_type": "code",
        "outputId": "c31dfa70-9f12-4aa5-8556-1dab3e6f174c",
        "colab": {
          "base_uri": "https://localhost:8080/",
          "height": 51
        }
      },
      "source": [
        "# Mount google drive to read images from colab\n",
        "from google.colab import drive\n",
        "drive.mount('/content/drive')\n",
        "%cd /content/drive/My Drive/DevEnv/9321"
      ],
      "execution_count": 145,
      "outputs": [
        {
          "output_type": "stream",
          "text": [
            "Drive already mounted at /content/drive; to attempt to forcibly remount, call drive.mount(\"/content/drive\", force_remount=True).\n",
            "/content/drive/My Drive/DevEnv/9321\n"
          ],
          "name": "stdout"
        }
      ]
    },
    {
      "cell_type": "code",
      "metadata": {
        "id": "0iD40N_2PQqN",
        "colab_type": "code",
        "colab": {}
      },
      "source": [
        "# %cd /content/drive/My Drive/DevEnv/9321\n",
        "# !wget https://github.com/mysilver/COMP9321-Data-Services/raw/master/20t1/assign3/training.csv\n",
        "# !wget https://github.com/mysilver/COMP9321-Data-Services/raw/master/20t1/assign3/validation.csv"
      ],
      "execution_count": 0,
      "outputs": []
    },
    {
      "cell_type": "markdown",
      "metadata": {
        "id": "EF5WzlZIOszg",
        "colab_type": "text"
      },
      "source": [
        "# Start"
      ]
    },
    {
      "cell_type": "code",
      "metadata": {
        "id": "LfhfhO51UQqo",
        "colab_type": "code",
        "colab": {}
      },
      "source": [
        "import pandas as pd\n",
        "import numpy as np\n",
        "import requests\n",
        "import json\n",
        "import collections\n",
        "\n",
        "from datetime import datetime\n",
        "\n",
        "from sklearn.preprocessing import LabelEncoder\n",
        "from sklearn.preprocessing import MinMaxScaler\n",
        "from sklearn.preprocessing import Normalizer\n",
        "from sklearn.preprocessing import StandardScaler\n",
        "\n",
        "from sklearn.tree import DecisionTreeRegressor\n",
        "from sklearn.svm import SVR\n",
        "from sklearn.svm import SVC\n",
        "from sklearn.ensemble import RandomForestRegressor\n",
        "from sklearn.ensemble import AdaBoostRegressor\n",
        "from sklearn.ensemble import GradientBoostingRegressor\n",
        "from sklearn.ensemble import BaggingClassifier, AdaBoostClassifier, RandomForestClassifier, GradientBoostingClassifier\n",
        "\n",
        "\n",
        "\n",
        "from sklearn.model_selection import train_test_split\n",
        "from sklearn.metrics import precision_score\n",
        "from sklearn.metrics import recall_score\n",
        "from sklearn.metrics import accuracy_score\n",
        "from sklearn.metrics import mean_squared_error\n",
        "from sklearn.metrics import r2_score\n",
        "\n",
        "from math import sqrt\n",
        "import matplotlib.pyplot as plt\n",
        "from scipy.stats import pearsonr"
      ],
      "execution_count": 0,
      "outputs": []
    },
    {
      "cell_type": "code",
      "metadata": {
        "id": "WdmmxfLfXo1Y",
        "colab_type": "code",
        "colab": {}
      },
      "source": [
        "# ref: https://stackoverflow.com/questions/20625582/how-to-deal-with-settingwithcopywarning-in-pandas\n",
        "pd.options.mode.chained_assignment = None  # default='warn'"
      ],
      "execution_count": 0,
      "outputs": []
    },
    {
      "cell_type": "code",
      "metadata": {
        "id": "gZJCBun7WUhS",
        "colab_type": "code",
        "colab": {}
      },
      "source": [
        "train_df=pd.read_csv('./training.csv')\n",
        "validation_df=pd.read_csv('./validation.csv')\n",
        "Z_ID = 'z5141401'\n",
        "DECIMAL_LEN = 2"
      ],
      "execution_count": 0,
      "outputs": []
    },
    {
      "cell_type": "code",
      "metadata": {
        "id": "cGcJZDPyWmuF",
        "colab_type": "code",
        "colab": {}
      },
      "source": [
        "# train_df"
      ],
      "execution_count": 0,
      "outputs": []
    },
    {
      "cell_type": "markdown",
      "metadata": {
        "id": "8bENIDsXQaN8",
        "colab_type": "text"
      },
      "source": [
        "## Processing data\n",
        "\n",
        "\n",
        "|Column|Value  |\n",
        "|--|--|\n",
        "|Budget|keep value, not convert|\n",
        "|Genres|convert to number of genres|\n",
        "|Homepage|convert to boolean (has a homepage or not)|\n",
        "|original_language|keep???|\n",
        "|release_date|convert to year|\n",
        "\n",
        "\n",
        "[release_year_rita.png](https://i.loli.net/2020/04/16/Ul1LeRQtr6PDM3d.png)\n",
        "\n",
        "[release_year_me](https://pic.luoxufeiyan.com/uploads/20200416145052.png)\n"
      ]
    },
    {
      "cell_type": "code",
      "metadata": {
        "id": "MkjVEqZ7Wpme",
        "colab_type": "code",
        "colab": {}
      },
      "source": [
        "# Only keep certain columns as training set\n",
        "\n",
        "# keep_col = ['budget', 'homepage', 'original_language', 'release_date']\n",
        "# conv_num_list = ['cast', 'crew', 'genres', 'keywords', 'production_companies', 'production_countries', 'spoken_languages']\n",
        "keep_col = ['budget', 'homepage', 'release_date', 'genres', 'production_companies']\n",
        "conv_num_list = [ 'crew']\n",
        "Y_label = 'revenue'\n"
      ],
      "execution_count": 0,
      "outputs": []
    },
    {
      "cell_type": "markdown",
      "metadata": {
        "id": "B7ow8RzWJjHh",
        "colab_type": "text"
      },
      "source": [
        "### conv funcs"
      ]
    },
    {
      "cell_type": "code",
      "metadata": {
        "id": "mkNDfNMMRina",
        "colab_type": "code",
        "colab": {}
      },
      "source": [
        "# convert-to num\n",
        "def conv_to_num(dataset, modify_col):\n",
        "    for i in range(len(dataset[modify_col])):\n",
        "        curr_str = dataset[modify_col][i] \n",
        "        curr_len = len(json.loads(curr_str))\n",
        "        dataset[modify_col][i] = curr_len\n",
        "    return dataset"
      ],
      "execution_count": 0,
      "outputs": []
    },
    {
      "cell_type": "code",
      "metadata": {
        "id": "4su_cDzBXvRe",
        "colab_type": "code",
        "colab": {}
      },
      "source": [
        "# preprocessing-homepage\n",
        "def proc_homepage(dataset):\n",
        "    modify_col = 'homepage'\n",
        "    for i in range(len(dataset[modify_col])):\n",
        "        curr_str = dataset[modify_col][i] \n",
        "        # convert to Ture if movie has a homepage\n",
        "        curr_len = (type(curr_str) is str)\n",
        "        dataset[modify_col][i] = curr_len\n",
        "    return dataset"
      ],
      "execution_count": 0,
      "outputs": []
    },
    {
      "cell_type": "code",
      "metadata": {
        "id": "z1UU65umYxVP",
        "colab_type": "code",
        "colab": {}
      },
      "source": [
        "# preprocessing-release_date\n",
        "def proc_rls_year(dataset):\n",
        "    modify_col = 'release_date'\n",
        "    dataset['release_year'] = dataset[modify_col].copy()\n",
        "    for i in range(len(dataset[modify_col])):\n",
        "        curr_str = dataset[modify_col][i] \n",
        "        # convert to year only\n",
        "        curr_len = int(curr_str[:4])\n",
        "        dataset['release_year'][i] = curr_len\n",
        "    \n",
        "    return dataset"
      ],
      "execution_count": 0,
      "outputs": []
    },
    {
      "cell_type": "code",
      "metadata": {
        "id": "w2Qpq5YPbGse",
        "colab_type": "code",
        "colab": {}
      },
      "source": [
        "# preprocessing-release_month\n",
        "def proc_rls_mo(dataset):\n",
        "    modify_col = 'release_date'\n",
        "    dataset['release_month'] = dataset[modify_col].copy()\n",
        "    for i in range(len(dataset[modify_col])):\n",
        "        curr_str = dataset[modify_col][i] \n",
        "        # convert to month only\n",
        "        curr_len = int(curr_str[5:7])\n",
        "        dataset['release_month'][i] = curr_len\n",
        "    return dataset"
      ],
      "execution_count": 0,
      "outputs": []
    },
    {
      "cell_type": "code",
      "metadata": {
        "id": "ZIMnPuZcqKKA",
        "colab_type": "code",
        "colab": {}
      },
      "source": [
        "# preprocessing-release_weeks\n",
        "def proc_rls_weeks(dataset):\n",
        "    dataset['release_week'] = dataset['release_date'].apply(lambda x: datetime.strptime(x, '%Y-%m-%d').isocalendar()[1])\n",
        "    return dataset"
      ],
      "execution_count": 0,
      "outputs": []
    },
    {
      "cell_type": "code",
      "metadata": {
        "id": "3UtIu0UAqqso",
        "colab_type": "code",
        "colab": {}
      },
      "source": [
        "# preprocessing-release_days of week\n",
        "def proc_rls_dow(dataset):\n",
        "    dataset['release_weekday'] = dataset['release_date'].apply(lambda x: datetime.strptime(x, '%Y-%m-%d').strftime('%A'))\n",
        "    return dataset"
      ],
      "execution_count": 0,
      "outputs": []
    },
    {
      "cell_type": "code",
      "metadata": {
        "id": "ZkSQqmpteweW",
        "colab_type": "code",
        "colab": {}
      },
      "source": [
        "# get main genre\n",
        "def proc_main_genre(dataset):\n",
        "    modify_col = 'genres'\n",
        "    dataset['main_genre'] = dataset[modify_col].copy()\n",
        "    for i in range(len(dataset[modify_col])):\n",
        "        curr_str = dataset[modify_col][i] \n",
        "        # get first genre\n",
        "        try:\n",
        "            j1 = json.loads(curr_str)\n",
        "            curr_len = j1[0]['name']\n",
        "            dataset['main_genre'][i] = curr_len\n",
        "        except:\n",
        "            dataset['main_genre'][i] = 'Null'\n",
        "    return dataset"
      ],
      "execution_count": 0,
      "outputs": []
    },
    {
      "cell_type": "code",
      "metadata": {
        "id": "zDriYjw-gl6P",
        "colab_type": "code",
        "colab": {}
      },
      "source": [
        "# get main company id\n",
        "def proc_main_comp_id(dataset):\n",
        "    modify_col = 'production_companies'\n",
        "    dataset['main_comp_id'] = dataset[modify_col].copy()\n",
        "    for i in range(len(dataset[modify_col])):\n",
        "        curr_str = dataset[modify_col][i] \n",
        "        # get first prod company\n",
        "        j1 = json.loads(curr_str)\n",
        "        try:\n",
        "            curr_len = j1[0]['id']\n",
        "            dataset['main_comp_id'][i] = curr_len\n",
        "        except:\n",
        "            dataset['main_comp_id'][i] = 0\n",
        "    return dataset"
      ],
      "execution_count": 0,
      "outputs": []
    },
    {
      "cell_type": "code",
      "metadata": {
        "id": "z_e7lHMyi_um",
        "colab_type": "code",
        "colab": {}
      },
      "source": [
        "# get main company id\n",
        "def proc_budget_year_ratio(dataset):\n",
        "    modify_col = 'budget'\n",
        "    dataset['budget_year_ratio'] = dataset[modify_col].copy()\n",
        "    for i in range(len(dataset[modify_col])): \n",
        "        # calc ratio\n",
        "        ratio = round(dataset[modify_col][i] / dataset['release_year'][i], 2)\n",
        "        dataset['budget_year_ratio'][i] = ratio\n",
        "    return dataset"
      ],
      "execution_count": 0,
      "outputs": []
    },
    {
      "cell_type": "code",
      "metadata": {
        "id": "UTgkFau0l7Oc",
        "colab_type": "code",
        "colab": {}
      },
      "source": [
        "# original_language\n",
        "def proc_orig_lang(dataset):\n",
        "    all_lang = list(set(dataset['original_language'].values))\n",
        "    le = LabelEncoder()\n",
        "    le.fit(all_lang)\n",
        "    dataset['original_language'] = le.transform(dataset['original_language'])\n",
        "    return dataset"
      ],
      "execution_count": 0,
      "outputs": []
    },
    {
      "cell_type": "code",
      "metadata": {
        "id": "sUhdx5EZq1PY",
        "colab_type": "code",
        "colab": {}
      },
      "source": [
        "# budget\n",
        "def proc_norm(dataset, modify_col):\n",
        "    \n",
        "    #norm certain cols\n",
        "\n",
        "    y_df = dataset[modify_col]\n",
        "    y_norm = (y_df - y_df.min()) / (y_df.max() - y_df.min())\n",
        "    dataset[modify_col] = y_norm\n",
        "    return dataset"
      ],
      "execution_count": 0,
      "outputs": []
    },
    {
      "cell_type": "code",
      "metadata": {
        "id": "aHR7YhRMIwT2",
        "colab_type": "code",
        "colab": {}
      },
      "source": [
        "# inverse norm\n",
        "def inverse_norm(orig_col, proc_col):\n",
        "    # orginal col contains raw data\n",
        "    inverse_col = proc_col * (orig_col.max() - orig_col.min()) + orig_col.min()\n",
        "    return inverse_col"
      ],
      "execution_count": 0,
      "outputs": []
    },
    {
      "cell_type": "code",
      "metadata": {
        "id": "_Mb2Cxhb18M2",
        "colab_type": "code",
        "colab": {}
      },
      "source": [
        "# count the number of possible returns per variable\n",
        "def total_count(dataset, modify_col, topk=30):\n",
        "    every_mention = []\n",
        "    for i in range(len(dataset[modify_col])):\n",
        "        curr_str = dataset[modify_col][i] \n",
        "        # get genres string\n",
        "        j1 = json.loads(curr_str)\n",
        "        try:\n",
        "            curr_str = train_df['genres'][i] \n",
        "            j1 = json.loads(curr_str)\n",
        "            names = map(lambda datum: datum['name'], j1)\n",
        "            every_mention.append(names.values())\n",
        "        except:\n",
        "            pass\n",
        "    print(every_mention)\n",
        "    total = collections.Counter(every_mention).most_common(topk)\n",
        "    return total"
      ],
      "execution_count": 0,
      "outputs": []
    },
    {
      "cell_type": "code",
      "metadata": {
        "id": "1ni-_MHhtDfU",
        "colab_type": "code",
        "colab": {}
      },
      "source": [
        "def proc_data(dataset):\n",
        "    # add Y label\n",
        "    selected_col = keep_col + conv_num_list\n",
        "    selected_col.append(Y_label)\n",
        "    proc_dataset = dataset[selected_col]\n",
        "    # proc_dataset = dataset[keep_col]\n",
        "\n",
        "    # do preprocessing\n",
        "    #convert to num\n",
        "    for i in conv_num_list:\n",
        "        try:\n",
        "            proc_dataset = conv_to_num(proc_dataset, i)\n",
        "        except:\n",
        "            pass\n",
        "\n",
        "    # other processing\n",
        "    proc_dataset = proc_main_genre(proc_dataset)\n",
        "    proc_dataset = proc_main_comp_id(proc_dataset)\n",
        "    proc_dataset = proc_rls_year(proc_dataset)\n",
        "    proc_dataset = proc_rls_weeks(proc_dataset)\n",
        "    proc_dataset = proc_rls_mo(proc_dataset)\n",
        "    proc_dataset = proc_rls_dow(proc_dataset)\n",
        "    proc_dataset = proc_homepage(proc_dataset)\n",
        "    # calc after release year\n",
        "    proc_dataset = proc_budget_year_ratio(proc_dataset)\n",
        "    proc_dataset = proc_norm(proc_dataset, 'budget')\n",
        "\n",
        "    #norm certain cols\n",
        "    proc_dataset = proc_norm(proc_dataset, Y_label)    \n",
        "\n",
        "    # one hog\n",
        "    # one-hot encode genres\n",
        "    # one_hot = proc_dataset['main_genre'].str.get_dummies(sep=',')\n",
        "    # # one-hot encode month variables\n",
        "    # one_hot_month = pd.get_dummies(proc_dataset['release_month'], prefix='month')\n",
        "    # # one-hot-encode weekday variable\n",
        "    one_hot_weekday = pd.get_dummies(proc_dataset['release_weekday'], prefix='weekday')\n",
        "    # # # one-hot-encode weeks variable\n",
        "    # one_hot_weeks = pd.get_dummies(proc_dataset['release_week'], prefix='week')\n",
        "\n",
        "    # proc_dataset = proc_dataset.join(one_hot)\n",
        "    # proc_dataset = proc_dataset.join(one_hot_month)\n",
        "    proc_dataset = proc_dataset.join(one_hot_weekday)\n",
        "    # proc_dataset = proc_dataset.join(one_hot_weeks)\n",
        "\n",
        "    # remove original rows\n",
        "    remove_rows = ['main_comp_id', 'release_date', 'genres', 'production_companies', 'main_genre', 'release_month','release_weekday', 'budget']\n",
        "    proc_dataset = proc_dataset.drop(remove_rows, axis=1)\n",
        "    return proc_dataset"
      ],
      "execution_count": 0,
      "outputs": []
    },
    {
      "cell_type": "code",
      "metadata": {
        "id": "ArtSIGULgoev",
        "colab_type": "code",
        "colab": {}
      },
      "source": [
        "# def proc_data(dataset):\n",
        "#     # add Y label\n",
        "#     selected_col = keep_col + conv_num_list\n",
        "#     selected_col.append(Y_label)\n",
        "#     proc_dataset = dataset[selected_col]\n",
        "#     # proc_dataset = dataset[keep_col]\n",
        "\n",
        "#     # do preprocessing\n",
        "#     #convert to num\n",
        "#     for i in conv_num_list:\n",
        "#         try:\n",
        "#             proc_dataset = conv_to_num(proc_dataset, i)\n",
        "#         except:\n",
        "#             pass\n",
        "\n",
        "#     # other processing\n",
        "#     proc_dataset = proc_norm(proc_dataset, 'budget')\n",
        "#     proc_dataset = proc_homepage(proc_dataset)\n",
        "#     proc_dataset = proc_rls_date(proc_dataset)\n",
        "\n",
        "#     #norm certain cols\n",
        "#     proc_dataset = proc_norm(proc_dataset, Y_label)    \n",
        "#     return proc_dataset"
      ],
      "execution_count": 0,
      "outputs": []
    },
    {
      "cell_type": "markdown",
      "metadata": {
        "id": "Wu_mikD1Eqno",
        "colab_type": "text"
      },
      "source": [
        "#### norm\n",
        "\n",
        "https://stackoverflow.com/questions/33246316/normalization-in-sci-kit-learn-linear-models\n",
        "\n",
        "https://stackoverflow.com/questions/44552031/sklearnstandardscaler-can-i-inverse-the-standardscaler-for-the-model-output"
      ]
    },
    {
      "cell_type": "markdown",
      "metadata": {
        "id": "de_LJHqjClGx",
        "colab_type": "text"
      },
      "source": [
        "### process data"
      ]
    },
    {
      "cell_type": "code",
      "metadata": {
        "id": "RTepunEfVKTu",
        "colab_type": "code",
        "outputId": "28348df7-89ad-4dfb-8fdc-3f2d36e8d4f8",
        "colab": {
          "base_uri": "https://localhost:8080/",
          "height": 439
        }
      },
      "source": [
        "train_set = proc_data(train_df)\n",
        "vali_set = proc_data(validation_df)\n",
        "\n",
        "\n",
        "\n",
        "\n",
        "\n",
        "train_set\n"
      ],
      "execution_count": 167,
      "outputs": [
        {
          "output_type": "execute_result",
          "data": {
            "text/html": [
              "<div>\n",
              "<style scoped>\n",
              "    .dataframe tbody tr th:only-of-type {\n",
              "        vertical-align: middle;\n",
              "    }\n",
              "\n",
              "    .dataframe tbody tr th {\n",
              "        vertical-align: top;\n",
              "    }\n",
              "\n",
              "    .dataframe thead th {\n",
              "        text-align: right;\n",
              "    }\n",
              "</style>\n",
              "<table border=\"1\" class=\"dataframe\">\n",
              "  <thead>\n",
              "    <tr style=\"text-align: right;\">\n",
              "      <th></th>\n",
              "      <th>homepage</th>\n",
              "      <th>crew</th>\n",
              "      <th>revenue</th>\n",
              "      <th>release_year</th>\n",
              "      <th>release_week</th>\n",
              "      <th>budget_year_ratio</th>\n",
              "      <th>weekday_Friday</th>\n",
              "      <th>weekday_Monday</th>\n",
              "      <th>weekday_Saturday</th>\n",
              "      <th>weekday_Sunday</th>\n",
              "      <th>weekday_Thursday</th>\n",
              "      <th>weekday_Tuesday</th>\n",
              "      <th>weekday_Wednesday</th>\n",
              "    </tr>\n",
              "  </thead>\n",
              "  <tbody>\n",
              "    <tr>\n",
              "      <th>0</th>\n",
              "      <td>True</td>\n",
              "      <td>153</td>\n",
              "      <td>1.000000</td>\n",
              "      <td>2009</td>\n",
              "      <td>50</td>\n",
              "      <td>117969</td>\n",
              "      <td>0</td>\n",
              "      <td>0</td>\n",
              "      <td>0</td>\n",
              "      <td>0</td>\n",
              "      <td>1</td>\n",
              "      <td>0</td>\n",
              "      <td>0</td>\n",
              "    </tr>\n",
              "    <tr>\n",
              "      <th>1</th>\n",
              "      <td>True</td>\n",
              "      <td>32</td>\n",
              "      <td>0.344696</td>\n",
              "      <td>2007</td>\n",
              "      <td>20</td>\n",
              "      <td>149476</td>\n",
              "      <td>0</td>\n",
              "      <td>0</td>\n",
              "      <td>1</td>\n",
              "      <td>0</td>\n",
              "      <td>0</td>\n",
              "      <td>0</td>\n",
              "      <td>0</td>\n",
              "    </tr>\n",
              "    <tr>\n",
              "      <th>2</th>\n",
              "      <td>True</td>\n",
              "      <td>155</td>\n",
              "      <td>0.315884</td>\n",
              "      <td>2015</td>\n",
              "      <td>44</td>\n",
              "      <td>121588</td>\n",
              "      <td>0</td>\n",
              "      <td>1</td>\n",
              "      <td>0</td>\n",
              "      <td>0</td>\n",
              "      <td>0</td>\n",
              "      <td>0</td>\n",
              "      <td>0</td>\n",
              "    </tr>\n",
              "    <tr>\n",
              "      <th>3</th>\n",
              "      <td>True</td>\n",
              "      <td>217</td>\n",
              "      <td>0.389151</td>\n",
              "      <td>2012</td>\n",
              "      <td>29</td>\n",
              "      <td>124254</td>\n",
              "      <td>0</td>\n",
              "      <td>1</td>\n",
              "      <td>0</td>\n",
              "      <td>0</td>\n",
              "      <td>0</td>\n",
              "      <td>0</td>\n",
              "      <td>0</td>\n",
              "    </tr>\n",
              "    <tr>\n",
              "      <th>4</th>\n",
              "      <td>True</td>\n",
              "      <td>132</td>\n",
              "      <td>0.101916</td>\n",
              "      <td>2012</td>\n",
              "      <td>10</td>\n",
              "      <td>129224</td>\n",
              "      <td>0</td>\n",
              "      <td>0</td>\n",
              "      <td>0</td>\n",
              "      <td>0</td>\n",
              "      <td>0</td>\n",
              "      <td>0</td>\n",
              "      <td>1</td>\n",
              "    </tr>\n",
              "    <tr>\n",
              "      <th>...</th>\n",
              "      <td>...</td>\n",
              "      <td>...</td>\n",
              "      <td>...</td>\n",
              "      <td>...</td>\n",
              "      <td>...</td>\n",
              "      <td>...</td>\n",
              "      <td>...</td>\n",
              "      <td>...</td>\n",
              "      <td>...</td>\n",
              "      <td>...</td>\n",
              "      <td>...</td>\n",
              "      <td>...</td>\n",
              "      <td>...</td>\n",
              "    </tr>\n",
              "    <tr>\n",
              "      <th>2095</th>\n",
              "      <td>False</td>\n",
              "      <td>12</td>\n",
              "      <td>0.010797</td>\n",
              "      <td>1991</td>\n",
              "      <td>32</td>\n",
              "      <td>7533</td>\n",
              "      <td>0</td>\n",
              "      <td>0</td>\n",
              "      <td>1</td>\n",
              "      <td>0</td>\n",
              "      <td>0</td>\n",
              "      <td>0</td>\n",
              "      <td>0</td>\n",
              "    </tr>\n",
              "    <tr>\n",
              "      <th>2096</th>\n",
              "      <td>True</td>\n",
              "      <td>25</td>\n",
              "      <td>0.028901</td>\n",
              "      <td>2007</td>\n",
              "      <td>7</td>\n",
              "      <td>5979</td>\n",
              "      <td>0</td>\n",
              "      <td>0</td>\n",
              "      <td>0</td>\n",
              "      <td>0</td>\n",
              "      <td>0</td>\n",
              "      <td>0</td>\n",
              "      <td>1</td>\n",
              "    </tr>\n",
              "    <tr>\n",
              "      <th>2097</th>\n",
              "      <td>True</td>\n",
              "      <td>1</td>\n",
              "      <td>0.017937</td>\n",
              "      <td>2008</td>\n",
              "      <td>37</td>\n",
              "      <td>7968</td>\n",
              "      <td>1</td>\n",
              "      <td>0</td>\n",
              "      <td>0</td>\n",
              "      <td>0</td>\n",
              "      <td>0</td>\n",
              "      <td>0</td>\n",
              "      <td>0</td>\n",
              "    </tr>\n",
              "    <tr>\n",
              "      <th>2098</th>\n",
              "      <td>False</td>\n",
              "      <td>8</td>\n",
              "      <td>0.034580</td>\n",
              "      <td>2008</td>\n",
              "      <td>33</td>\n",
              "      <td>7470</td>\n",
              "      <td>1</td>\n",
              "      <td>0</td>\n",
              "      <td>0</td>\n",
              "      <td>0</td>\n",
              "      <td>0</td>\n",
              "      <td>0</td>\n",
              "      <td>0</td>\n",
              "    </tr>\n",
              "    <tr>\n",
              "      <th>2099</th>\n",
              "      <td>False</td>\n",
              "      <td>32</td>\n",
              "      <td>0.007399</td>\n",
              "      <td>2000</td>\n",
              "      <td>24</td>\n",
              "      <td>8000</td>\n",
              "      <td>1</td>\n",
              "      <td>0</td>\n",
              "      <td>0</td>\n",
              "      <td>0</td>\n",
              "      <td>0</td>\n",
              "      <td>0</td>\n",
              "      <td>0</td>\n",
              "    </tr>\n",
              "  </tbody>\n",
              "</table>\n",
              "<p>2100 rows × 13 columns</p>\n",
              "</div>"
            ],
            "text/plain": [
              "     homepage crew  ...  weekday_Tuesday weekday_Wednesday\n",
              "0        True  153  ...                0                 0\n",
              "1        True   32  ...                0                 0\n",
              "2        True  155  ...                0                 0\n",
              "3        True  217  ...                0                 0\n",
              "4        True  132  ...                0                 1\n",
              "...       ...  ...  ...              ...               ...\n",
              "2095    False   12  ...                0                 0\n",
              "2096     True   25  ...                0                 1\n",
              "2097     True    1  ...                0                 0\n",
              "2098    False    8  ...                0                 0\n",
              "2099    False   32  ...                0                 0\n",
              "\n",
              "[2100 rows x 13 columns]"
            ]
          },
          "metadata": {
            "tags": []
          },
          "execution_count": 167
        }
      ]
    },
    {
      "cell_type": "code",
      "metadata": {
        "id": "8to4gX9rH_35",
        "colab_type": "code",
        "colab": {}
      },
      "source": [
        "# total_count(train_df, 'genres')\n",
        "# # curr_str = train_df['genres'][2] \n",
        "# # j1 = json.loads(curr_str)\n",
        "# # names = map(lambda datum: datum['name'], j1)\n",
        "# # list(names)"
      ],
      "execution_count": 0,
      "outputs": []
    },
    {
      "cell_type": "markdown",
      "metadata": {
        "id": "wR6dJMLVcdXW",
        "colab_type": "text"
      },
      "source": [
        "# Fit models\n",
        "\n",
        "* https://www.pluralsight.com/guides/non-linear-regression-trees-scikit-learn\n",
        "\n",
        "* https://github.com/wangye707/PY_DELL/blob/b066ae4bb40273b24d698d66450e4207e3eb6808/git_book-master/chapters/Decision_Tree/decisiontree_regressor.py"
      ]
    },
    {
      "cell_type": "code",
      "metadata": {
        "id": "dQmikMikVsPB",
        "colab_type": "code",
        "colab": {}
      },
      "source": [
        "keep_col = list(train_set.columns.values)\n",
        "keep_col.remove(Y_label)\n",
        "\n",
        "X_train = train_set[keep_col]\n",
        "Y_train = train_set[Y_label]\n",
        "\n",
        "\n",
        "X_valid = vali_set[keep_col]\n",
        "Y_valid = vali_set[Y_label]"
      ],
      "execution_count": 0,
      "outputs": []
    },
    {
      "cell_type": "code",
      "metadata": {
        "id": "ZhwFZ7GdDLNs",
        "colab_type": "code",
        "colab": {}
      },
      "source": [
        ""
      ],
      "execution_count": 0,
      "outputs": []
    },
    {
      "cell_type": "markdown",
      "metadata": {
        "id": "L7WzEN6wVrge",
        "colab_type": "text"
      },
      "source": [
        "### decision tree"
      ]
    },
    {
      "cell_type": "code",
      "metadata": {
        "id": "NG6yULADdMfK",
        "colab_type": "code",
        "colab": {}
      },
      "source": [
        "def dTree(X_train, Y_train):\n",
        "    model_dtree = DecisionTreeRegressor()\n",
        "    # dtree = DecisionTreeRegressor()\n",
        "    model_dtree.fit(X_train, Y_train)\n",
        "\n",
        "    return model_dtree"
      ],
      "execution_count": 0,
      "outputs": []
    },
    {
      "cell_type": "markdown",
      "metadata": {
        "id": "GyA9BRLVVwjy",
        "colab_type": "text"
      },
      "source": [
        "### random forest"
      ]
    },
    {
      "cell_type": "code",
      "metadata": {
        "id": "491D2mIcNy-n",
        "colab_type": "code",
        "colab": {}
      },
      "source": [
        "def randomForest(X_train, Y_train):\n",
        "    #RF model\n",
        "    model_rf = RandomForestRegressor(n_estimators=500, oob_score=True, random_state=100)\n",
        "    # model_rf = RandomForestRegressor(n_estimators=500)\n",
        "    model_rf.fit(X_train, Y_train) \n",
        "\n",
        "    return model_rf"
      ],
      "execution_count": 0,
      "outputs": []
    },
    {
      "cell_type": "markdown",
      "metadata": {
        "id": "h4iB6faNYWTi",
        "colab_type": "text"
      },
      "source": [
        "### Adaboost"
      ]
    },
    {
      "cell_type": "code",
      "metadata": {
        "id": "nb6pSnzvWMiy",
        "colab_type": "code",
        "colab": {}
      },
      "source": [
        "def adaBoost(X_train, Y_train):\n",
        "    model_ab = AdaBoostRegressor(n_estimators=500)\n",
        "    model_ab.fit(X_train, Y_train)\n",
        "\n",
        "    return model_ab "
      ],
      "execution_count": 0,
      "outputs": []
    },
    {
      "cell_type": "markdown",
      "metadata": {
        "id": "5FD_KpuEQEqf",
        "colab_type": "text"
      },
      "source": [
        "### GBRT"
      ]
    },
    {
      "cell_type": "code",
      "metadata": {
        "id": "ZCrtAK14QGm1",
        "colab_type": "code",
        "colab": {}
      },
      "source": [
        "def gbrt(X_train, Y_train):\n",
        "    model_gbrt = GradientBoostingRegressor(n_estimators=500)\n",
        "    model_gbrt.fit(X_train, Y_train)\n",
        "\n",
        "    return model_gbrt"
      ],
      "execution_count": 0,
      "outputs": []
    },
    {
      "cell_type": "markdown",
      "metadata": {
        "id": "L4ixhF74FhY3",
        "colab_type": "text"
      },
      "source": [
        "# Evaluate"
      ]
    },
    {
      "cell_type": "code",
      "metadata": {
        "id": "dLMJ82zDJglO",
        "colab_type": "code",
        "colab": {}
      },
      "source": [
        "model_gbrt = gbrt(X_train, Y_train)\n",
        "model = model_gbrt"
      ],
      "execution_count": 0,
      "outputs": []
    },
    {
      "cell_type": "code",
      "metadata": {
        "id": "V6A6jct2XEdt",
        "colab_type": "code",
        "outputId": "1202924b-6eff-4b9d-8604-1d7d26784a17",
        "colab": {
          "base_uri": "https://localhost:8080/",
          "height": 34
        }
      },
      "source": [
        "# summary output\n",
        "lst = [Z_ID]\n",
        "summary_1_filename = Z_ID + '.PART1.summary.csv'\n",
        "Y_valid_pred = model.predict(X_valid)\n",
        "lst.append(round(mean_squared_error(Y_valid,Y_valid_pred), DECIMAL_LEN)) \n",
        "lst.append(round(pearsonr(Y_valid, Y_valid_pred)[0], DECIMAL_LEN))\n",
        "print(lst)\n",
        "summary_1 = pd.DataFrame([lst], columns =['zid','MSR','correlation']) \n",
        "summary_1.to_csv(summary_1_filename, index=False)"
      ],
      "execution_count": 175,
      "outputs": [
        {
          "output_type": "stream",
          "text": [
            "['z5141401', 0.01, 0.39]\n"
          ],
          "name": "stdout"
        }
      ]
    },
    {
      "cell_type": "code",
      "metadata": {
        "id": "vt1zRdsjBD6m",
        "colab_type": "code",
        "colab": {}
      },
      "source": [
        "# detail outputs\n",
        "output_1_filename = Z_ID + '.PART1.output.csv'\n",
        "\n",
        "outputs_pred = pd.DataFrame(Y_valid_pred)\n",
        "outputs_inverse = validation_df.copy()\n",
        "outputs_inverse['predicted_revenue'] = inverse_norm(validation_df[Y_label], outputs_pred)\n",
        "\n",
        "outputs_1 = pd.DataFrame(outputs_inverse, columns= ['movie_id', 'predicted_revenue'])\n",
        "outputs_1.to_csv(output_1_filename, index=False)"
      ],
      "execution_count": 0,
      "outputs": []
    },
    {
      "cell_type": "code",
      "metadata": {
        "id": "sfRQiDf_QZm8",
        "colab_type": "code",
        "colab": {}
      },
      "source": [
        "# outputs_final_1\n",
        "# # validation_df['movie_id']\n",
        "# %pwd"
      ],
      "execution_count": 0,
      "outputs": []
    },
    {
      "cell_type": "markdown",
      "metadata": {
        "id": "9twJ6IjReic_",
        "colab_type": "text"
      },
      "source": [
        "# P2\n",
        "\n",
        "https://blog.csdn.net/u010900574/article/details/52669072"
      ]
    },
    {
      "cell_type": "code",
      "metadata": {
        "id": "mQnNqYO-ekqC",
        "colab_type": "code",
        "colab": {}
      },
      "source": [
        "# Only keep certain columns as training set\n",
        "\n",
        "# keep_col = ['budget', 'homepage', 'original_language', 'release_date']\n",
        "# conv_num_list = ['cast', 'crew', 'genres', 'keywords', 'production_companies', 'production_countries', 'spoken_languages']\n",
        "\n",
        "keep_col = ['budget', 'homepage', 'release_date', 'genres', 'production_companies']\n",
        "conv_num_list = [ 'crew']\n",
        "Y_label = 'rating'\n"
      ],
      "execution_count": 0,
      "outputs": []
    },
    {
      "cell_type": "markdown",
      "metadata": {
        "id": "y7D7YsShCtjx",
        "colab_type": "text"
      },
      "source": [
        "### proc data\n",
        "\n",
        "Not norm Y-label"
      ]
    },
    {
      "cell_type": "code",
      "metadata": {
        "id": "IdQoFQaFmqXf",
        "colab_type": "code",
        "colab": {}
      },
      "source": [
        "def proc_data(dataset):\n",
        "    # add Y label\n",
        "    selected_col = keep_col + conv_num_list\n",
        "    selected_col.append(Y_label)\n",
        "    proc_dataset = dataset[selected_col]\n",
        "    # proc_dataset = dataset[keep_col]\n",
        "\n",
        "    # do preprocessing\n",
        "    #convert to num\n",
        "    for i in conv_num_list:\n",
        "        try:\n",
        "            proc_dataset = conv_to_num(proc_dataset, i)\n",
        "        except:\n",
        "            pass\n",
        "\n",
        "    # other processing\n",
        "    proc_dataset = proc_main_genre(proc_dataset)\n",
        "    proc_dataset = proc_main_comp_id(proc_dataset)\n",
        "    proc_dataset = proc_rls_year(proc_dataset)\n",
        "    proc_dataset = proc_rls_weeks(proc_dataset)\n",
        "    proc_dataset = proc_rls_mo(proc_dataset)\n",
        "    proc_dataset = proc_rls_dow(proc_dataset)\n",
        "    proc_dataset = proc_homepage(proc_dataset)\n",
        "    # calc after release year\n",
        "    proc_dataset = proc_budget_year_ratio(proc_dataset)\n",
        "    proc_dataset = proc_norm(proc_dataset, 'budget')\n",
        "\n",
        "    # #norm certain cols FOR P2 NOT NORM\n",
        "    # proc_dataset = proc_norm(proc_dataset, Y_label)    \n",
        "\n",
        "    # one hog\n",
        "    # one-hot encode genres\n",
        "    # one_hot = proc_dataset['main_genre'].str.get_dummies(sep=',')\n",
        "    # # one-hot encode month variables\n",
        "    # one_hot_month = pd.get_dummies(proc_dataset['release_month'], prefix='month')\n",
        "    # # one-hot-encode weekday variable\n",
        "    one_hot_weekday = pd.get_dummies(proc_dataset['release_weekday'], prefix='weekday')\n",
        "    # # # one-hot-encode weeks variable\n",
        "    # one_hot_weeks = pd.get_dummies(proc_dataset['release_week'], prefix='week')\n",
        "\n",
        "    # proc_dataset = proc_dataset.join(one_hot)\n",
        "    # proc_dataset = proc_dataset.join(one_hot_month)\n",
        "    proc_dataset = proc_dataset.join(one_hot_weekday)\n",
        "    # proc_dataset = proc_dataset.join(one_hot_weeks)\n",
        "\n",
        "    # remove original rows\n",
        "    remove_rows = ['main_comp_id', 'release_date', 'genres', 'production_companies', 'main_genre', 'release_month','release_weekday', 'budget']\n",
        "    proc_dataset = proc_dataset.drop(remove_rows, axis=1)\n",
        "    return proc_dataset"
      ],
      "execution_count": 0,
      "outputs": []
    },
    {
      "cell_type": "code",
      "metadata": {
        "id": "vDJJTlJ4gbUy",
        "colab_type": "code",
        "outputId": "2fb737ab-b2f5-471f-99cf-c5014b14ce32",
        "colab": {
          "base_uri": "https://localhost:8080/",
          "height": 439
        }
      },
      "source": [
        "train_set = proc_data(train_df)\n",
        "vali_set = proc_data(validation_df)\n",
        "train_set"
      ],
      "execution_count": 180,
      "outputs": [
        {
          "output_type": "execute_result",
          "data": {
            "text/html": [
              "<div>\n",
              "<style scoped>\n",
              "    .dataframe tbody tr th:only-of-type {\n",
              "        vertical-align: middle;\n",
              "    }\n",
              "\n",
              "    .dataframe tbody tr th {\n",
              "        vertical-align: top;\n",
              "    }\n",
              "\n",
              "    .dataframe thead th {\n",
              "        text-align: right;\n",
              "    }\n",
              "</style>\n",
              "<table border=\"1\" class=\"dataframe\">\n",
              "  <thead>\n",
              "    <tr style=\"text-align: right;\">\n",
              "      <th></th>\n",
              "      <th>homepage</th>\n",
              "      <th>crew</th>\n",
              "      <th>rating</th>\n",
              "      <th>release_year</th>\n",
              "      <th>release_week</th>\n",
              "      <th>budget_year_ratio</th>\n",
              "      <th>weekday_Friday</th>\n",
              "      <th>weekday_Monday</th>\n",
              "      <th>weekday_Saturday</th>\n",
              "      <th>weekday_Sunday</th>\n",
              "      <th>weekday_Thursday</th>\n",
              "      <th>weekday_Tuesday</th>\n",
              "      <th>weekday_Wednesday</th>\n",
              "    </tr>\n",
              "  </thead>\n",
              "  <tbody>\n",
              "    <tr>\n",
              "      <th>0</th>\n",
              "      <td>True</td>\n",
              "      <td>153</td>\n",
              "      <td>3</td>\n",
              "      <td>2009</td>\n",
              "      <td>50</td>\n",
              "      <td>117969</td>\n",
              "      <td>0</td>\n",
              "      <td>0</td>\n",
              "      <td>0</td>\n",
              "      <td>0</td>\n",
              "      <td>1</td>\n",
              "      <td>0</td>\n",
              "      <td>0</td>\n",
              "    </tr>\n",
              "    <tr>\n",
              "      <th>1</th>\n",
              "      <td>True</td>\n",
              "      <td>32</td>\n",
              "      <td>3</td>\n",
              "      <td>2007</td>\n",
              "      <td>20</td>\n",
              "      <td>149476</td>\n",
              "      <td>0</td>\n",
              "      <td>0</td>\n",
              "      <td>1</td>\n",
              "      <td>0</td>\n",
              "      <td>0</td>\n",
              "      <td>0</td>\n",
              "      <td>0</td>\n",
              "    </tr>\n",
              "    <tr>\n",
              "      <th>2</th>\n",
              "      <td>True</td>\n",
              "      <td>155</td>\n",
              "      <td>3</td>\n",
              "      <td>2015</td>\n",
              "      <td>44</td>\n",
              "      <td>121588</td>\n",
              "      <td>0</td>\n",
              "      <td>1</td>\n",
              "      <td>0</td>\n",
              "      <td>0</td>\n",
              "      <td>0</td>\n",
              "      <td>0</td>\n",
              "      <td>0</td>\n",
              "    </tr>\n",
              "    <tr>\n",
              "      <th>3</th>\n",
              "      <td>True</td>\n",
              "      <td>217</td>\n",
              "      <td>3</td>\n",
              "      <td>2012</td>\n",
              "      <td>29</td>\n",
              "      <td>124254</td>\n",
              "      <td>0</td>\n",
              "      <td>1</td>\n",
              "      <td>0</td>\n",
              "      <td>0</td>\n",
              "      <td>0</td>\n",
              "      <td>0</td>\n",
              "      <td>0</td>\n",
              "    </tr>\n",
              "    <tr>\n",
              "      <th>4</th>\n",
              "      <td>True</td>\n",
              "      <td>132</td>\n",
              "      <td>3</td>\n",
              "      <td>2012</td>\n",
              "      <td>10</td>\n",
              "      <td>129224</td>\n",
              "      <td>0</td>\n",
              "      <td>0</td>\n",
              "      <td>0</td>\n",
              "      <td>0</td>\n",
              "      <td>0</td>\n",
              "      <td>0</td>\n",
              "      <td>1</td>\n",
              "    </tr>\n",
              "    <tr>\n",
              "      <th>...</th>\n",
              "      <td>...</td>\n",
              "      <td>...</td>\n",
              "      <td>...</td>\n",
              "      <td>...</td>\n",
              "      <td>...</td>\n",
              "      <td>...</td>\n",
              "      <td>...</td>\n",
              "      <td>...</td>\n",
              "      <td>...</td>\n",
              "      <td>...</td>\n",
              "      <td>...</td>\n",
              "      <td>...</td>\n",
              "      <td>...</td>\n",
              "    </tr>\n",
              "    <tr>\n",
              "      <th>2095</th>\n",
              "      <td>False</td>\n",
              "      <td>12</td>\n",
              "      <td>2</td>\n",
              "      <td>1991</td>\n",
              "      <td>32</td>\n",
              "      <td>7533</td>\n",
              "      <td>0</td>\n",
              "      <td>0</td>\n",
              "      <td>1</td>\n",
              "      <td>0</td>\n",
              "      <td>0</td>\n",
              "      <td>0</td>\n",
              "      <td>0</td>\n",
              "    </tr>\n",
              "    <tr>\n",
              "      <th>2096</th>\n",
              "      <td>True</td>\n",
              "      <td>25</td>\n",
              "      <td>3</td>\n",
              "      <td>2007</td>\n",
              "      <td>7</td>\n",
              "      <td>5979</td>\n",
              "      <td>0</td>\n",
              "      <td>0</td>\n",
              "      <td>0</td>\n",
              "      <td>0</td>\n",
              "      <td>0</td>\n",
              "      <td>0</td>\n",
              "      <td>1</td>\n",
              "    </tr>\n",
              "    <tr>\n",
              "      <th>2097</th>\n",
              "      <td>True</td>\n",
              "      <td>1</td>\n",
              "      <td>2</td>\n",
              "      <td>2008</td>\n",
              "      <td>37</td>\n",
              "      <td>7968</td>\n",
              "      <td>1</td>\n",
              "      <td>0</td>\n",
              "      <td>0</td>\n",
              "      <td>0</td>\n",
              "      <td>0</td>\n",
              "      <td>0</td>\n",
              "      <td>0</td>\n",
              "    </tr>\n",
              "    <tr>\n",
              "      <th>2098</th>\n",
              "      <td>False</td>\n",
              "      <td>8</td>\n",
              "      <td>3</td>\n",
              "      <td>2008</td>\n",
              "      <td>33</td>\n",
              "      <td>7470</td>\n",
              "      <td>1</td>\n",
              "      <td>0</td>\n",
              "      <td>0</td>\n",
              "      <td>0</td>\n",
              "      <td>0</td>\n",
              "      <td>0</td>\n",
              "      <td>0</td>\n",
              "    </tr>\n",
              "    <tr>\n",
              "      <th>2099</th>\n",
              "      <td>False</td>\n",
              "      <td>32</td>\n",
              "      <td>2</td>\n",
              "      <td>2000</td>\n",
              "      <td>24</td>\n",
              "      <td>8000</td>\n",
              "      <td>1</td>\n",
              "      <td>0</td>\n",
              "      <td>0</td>\n",
              "      <td>0</td>\n",
              "      <td>0</td>\n",
              "      <td>0</td>\n",
              "      <td>0</td>\n",
              "    </tr>\n",
              "  </tbody>\n",
              "</table>\n",
              "<p>2100 rows × 13 columns</p>\n",
              "</div>"
            ],
            "text/plain": [
              "     homepage crew  ...  weekday_Tuesday weekday_Wednesday\n",
              "0        True  153  ...                0                 0\n",
              "1        True   32  ...                0                 0\n",
              "2        True  155  ...                0                 0\n",
              "3        True  217  ...                0                 0\n",
              "4        True  132  ...                0                 1\n",
              "...       ...  ...  ...              ...               ...\n",
              "2095    False   12  ...                0                 0\n",
              "2096     True   25  ...                0                 1\n",
              "2097     True    1  ...                0                 0\n",
              "2098    False    8  ...                0                 0\n",
              "2099    False   32  ...                0                 0\n",
              "\n",
              "[2100 rows x 13 columns]"
            ]
          },
          "metadata": {
            "tags": []
          },
          "execution_count": 180
        }
      ]
    },
    {
      "cell_type": "code",
      "metadata": {
        "id": "HUrD3zefhHLv",
        "colab_type": "code",
        "colab": {}
      },
      "source": [
        "keep_col = list(train_set.columns.values)\n",
        "keep_col.remove(Y_label)\n",
        "\n",
        "X_train = train_set[keep_col]\n",
        "Y_train = train_set[Y_label]\n",
        "\n",
        "X_valid = vali_set[keep_col]\n",
        "Y_valid = vali_set[Y_label]"
      ],
      "execution_count": 0,
      "outputs": []
    },
    {
      "cell_type": "code",
      "metadata": {
        "id": "WbFkK-QPqzRI",
        "colab_type": "code",
        "colab": {
          "base_uri": "https://localhost:8080/",
          "height": 439
        },
        "outputId": "b548a93b-3468-4334-f4a2-6f633164d563"
      },
      "source": [
        "X_train"
      ],
      "execution_count": 187,
      "outputs": [
        {
          "output_type": "execute_result",
          "data": {
            "text/html": [
              "<div>\n",
              "<style scoped>\n",
              "    .dataframe tbody tr th:only-of-type {\n",
              "        vertical-align: middle;\n",
              "    }\n",
              "\n",
              "    .dataframe tbody tr th {\n",
              "        vertical-align: top;\n",
              "    }\n",
              "\n",
              "    .dataframe thead th {\n",
              "        text-align: right;\n",
              "    }\n",
              "</style>\n",
              "<table border=\"1\" class=\"dataframe\">\n",
              "  <thead>\n",
              "    <tr style=\"text-align: right;\">\n",
              "      <th></th>\n",
              "      <th>homepage</th>\n",
              "      <th>crew</th>\n",
              "      <th>release_year</th>\n",
              "      <th>release_week</th>\n",
              "      <th>budget_year_ratio</th>\n",
              "      <th>weekday_Friday</th>\n",
              "      <th>weekday_Monday</th>\n",
              "      <th>weekday_Saturday</th>\n",
              "      <th>weekday_Sunday</th>\n",
              "      <th>weekday_Thursday</th>\n",
              "      <th>weekday_Tuesday</th>\n",
              "      <th>weekday_Wednesday</th>\n",
              "    </tr>\n",
              "  </thead>\n",
              "  <tbody>\n",
              "    <tr>\n",
              "      <th>0</th>\n",
              "      <td>True</td>\n",
              "      <td>153</td>\n",
              "      <td>2009</td>\n",
              "      <td>50</td>\n",
              "      <td>117969</td>\n",
              "      <td>0</td>\n",
              "      <td>0</td>\n",
              "      <td>0</td>\n",
              "      <td>0</td>\n",
              "      <td>1</td>\n",
              "      <td>0</td>\n",
              "      <td>0</td>\n",
              "    </tr>\n",
              "    <tr>\n",
              "      <th>1</th>\n",
              "      <td>True</td>\n",
              "      <td>32</td>\n",
              "      <td>2007</td>\n",
              "      <td>20</td>\n",
              "      <td>149476</td>\n",
              "      <td>0</td>\n",
              "      <td>0</td>\n",
              "      <td>1</td>\n",
              "      <td>0</td>\n",
              "      <td>0</td>\n",
              "      <td>0</td>\n",
              "      <td>0</td>\n",
              "    </tr>\n",
              "    <tr>\n",
              "      <th>2</th>\n",
              "      <td>True</td>\n",
              "      <td>155</td>\n",
              "      <td>2015</td>\n",
              "      <td>44</td>\n",
              "      <td>121588</td>\n",
              "      <td>0</td>\n",
              "      <td>1</td>\n",
              "      <td>0</td>\n",
              "      <td>0</td>\n",
              "      <td>0</td>\n",
              "      <td>0</td>\n",
              "      <td>0</td>\n",
              "    </tr>\n",
              "    <tr>\n",
              "      <th>3</th>\n",
              "      <td>True</td>\n",
              "      <td>217</td>\n",
              "      <td>2012</td>\n",
              "      <td>29</td>\n",
              "      <td>124254</td>\n",
              "      <td>0</td>\n",
              "      <td>1</td>\n",
              "      <td>0</td>\n",
              "      <td>0</td>\n",
              "      <td>0</td>\n",
              "      <td>0</td>\n",
              "      <td>0</td>\n",
              "    </tr>\n",
              "    <tr>\n",
              "      <th>4</th>\n",
              "      <td>True</td>\n",
              "      <td>132</td>\n",
              "      <td>2012</td>\n",
              "      <td>10</td>\n",
              "      <td>129224</td>\n",
              "      <td>0</td>\n",
              "      <td>0</td>\n",
              "      <td>0</td>\n",
              "      <td>0</td>\n",
              "      <td>0</td>\n",
              "      <td>0</td>\n",
              "      <td>1</td>\n",
              "    </tr>\n",
              "    <tr>\n",
              "      <th>...</th>\n",
              "      <td>...</td>\n",
              "      <td>...</td>\n",
              "      <td>...</td>\n",
              "      <td>...</td>\n",
              "      <td>...</td>\n",
              "      <td>...</td>\n",
              "      <td>...</td>\n",
              "      <td>...</td>\n",
              "      <td>...</td>\n",
              "      <td>...</td>\n",
              "      <td>...</td>\n",
              "      <td>...</td>\n",
              "    </tr>\n",
              "    <tr>\n",
              "      <th>2095</th>\n",
              "      <td>False</td>\n",
              "      <td>12</td>\n",
              "      <td>1991</td>\n",
              "      <td>32</td>\n",
              "      <td>7533</td>\n",
              "      <td>0</td>\n",
              "      <td>0</td>\n",
              "      <td>1</td>\n",
              "      <td>0</td>\n",
              "      <td>0</td>\n",
              "      <td>0</td>\n",
              "      <td>0</td>\n",
              "    </tr>\n",
              "    <tr>\n",
              "      <th>2096</th>\n",
              "      <td>True</td>\n",
              "      <td>25</td>\n",
              "      <td>2007</td>\n",
              "      <td>7</td>\n",
              "      <td>5979</td>\n",
              "      <td>0</td>\n",
              "      <td>0</td>\n",
              "      <td>0</td>\n",
              "      <td>0</td>\n",
              "      <td>0</td>\n",
              "      <td>0</td>\n",
              "      <td>1</td>\n",
              "    </tr>\n",
              "    <tr>\n",
              "      <th>2097</th>\n",
              "      <td>True</td>\n",
              "      <td>1</td>\n",
              "      <td>2008</td>\n",
              "      <td>37</td>\n",
              "      <td>7968</td>\n",
              "      <td>1</td>\n",
              "      <td>0</td>\n",
              "      <td>0</td>\n",
              "      <td>0</td>\n",
              "      <td>0</td>\n",
              "      <td>0</td>\n",
              "      <td>0</td>\n",
              "    </tr>\n",
              "    <tr>\n",
              "      <th>2098</th>\n",
              "      <td>False</td>\n",
              "      <td>8</td>\n",
              "      <td>2008</td>\n",
              "      <td>33</td>\n",
              "      <td>7470</td>\n",
              "      <td>1</td>\n",
              "      <td>0</td>\n",
              "      <td>0</td>\n",
              "      <td>0</td>\n",
              "      <td>0</td>\n",
              "      <td>0</td>\n",
              "      <td>0</td>\n",
              "    </tr>\n",
              "    <tr>\n",
              "      <th>2099</th>\n",
              "      <td>False</td>\n",
              "      <td>32</td>\n",
              "      <td>2000</td>\n",
              "      <td>24</td>\n",
              "      <td>8000</td>\n",
              "      <td>1</td>\n",
              "      <td>0</td>\n",
              "      <td>0</td>\n",
              "      <td>0</td>\n",
              "      <td>0</td>\n",
              "      <td>0</td>\n",
              "      <td>0</td>\n",
              "    </tr>\n",
              "  </tbody>\n",
              "</table>\n",
              "<p>2100 rows × 12 columns</p>\n",
              "</div>"
            ],
            "text/plain": [
              "     homepage crew  ... weekday_Tuesday  weekday_Wednesday\n",
              "0        True  153  ...               0                  0\n",
              "1        True   32  ...               0                  0\n",
              "2        True  155  ...               0                  0\n",
              "3        True  217  ...               0                  0\n",
              "4        True  132  ...               0                  1\n",
              "...       ...  ...  ...             ...                ...\n",
              "2095    False   12  ...               0                  0\n",
              "2096     True   25  ...               0                  1\n",
              "2097     True    1  ...               0                  0\n",
              "2098    False    8  ...               0                  0\n",
              "2099    False   32  ...               0                  0\n",
              "\n",
              "[2100 rows x 12 columns]"
            ]
          },
          "metadata": {
            "tags": []
          },
          "execution_count": 187
        }
      ]
    },
    {
      "cell_type": "markdown",
      "metadata": {
        "id": "Rz2AgK_TkML-",
        "colab_type": "text"
      },
      "source": [
        "### SVM"
      ]
    },
    {
      "cell_type": "code",
      "metadata": {
        "id": "1YuMaDc_kLu0",
        "colab_type": "code",
        "colab": {}
      },
      "source": [
        "clf = GradientBoostingClassifier(n_estimators=50, learning_rate=1.0,max_depth=1, random_state=10)\n",
        "clf.fit(X_train,Y_train)\n",
        "Y_valid_pred = clf.predict(X_valid)"
      ],
      "execution_count": 0,
      "outputs": []
    },
    {
      "cell_type": "code",
      "metadata": {
        "id": "XckfpvYNuuJX",
        "colab_type": "code",
        "outputId": "b9307bc6-21cc-408a-a21c-994c3abbb4ae",
        "colab": {
          "base_uri": "https://localhost:8080/",
          "height": 34
        }
      },
      "source": [
        "# summary output\n",
        "lst = [Z_ID]\n",
        "summary_2_filename = Z_ID + '.PART2.summary.csv'\n",
        "rating_labels = [1,2,3]\n",
        "\n",
        "lst.append(round(precision_score(Y_valid,Y_valid_pred, average='macro'), DECIMAL_LEN)) \n",
        "lst.append(round(recall_score(Y_valid, Y_valid_pred, average='macro'), DECIMAL_LEN))\n",
        "lst.append(round(accuracy_score(Y_valid, Y_valid_pred), DECIMAL_LEN))\n",
        "print(lst)\n",
        "summary_2 = pd.DataFrame([lst], columns =['zid','average_precision','average_recall','accuracy' ]) \n",
        "summary_2.to_csv(summary_2_filename, index=False)"
      ],
      "execution_count": 183,
      "outputs": [
        {
          "output_type": "stream",
          "text": [
            "['z5141401', 0.66, 0.55, 0.71]\n"
          ],
          "name": "stdout"
        }
      ]
    },
    {
      "cell_type": "code",
      "metadata": {
        "id": "R0nuLML6_bGt",
        "colab_type": "code",
        "colab": {}
      },
      "source": [
        "# detail outputs\n",
        "output_2_filename = Z_ID + '.PART2.output.csv'\n",
        "\n",
        "outputs_pred = pd.DataFrame(Y_valid_pred)\n",
        "outputs_inverse = validation_df.copy()\n",
        "outputs_inverse['predicted_rating'] = inverse_norm(validation_df[Y_label], outputs_pred)\n",
        "\n",
        "outputs_2 = pd.DataFrame(outputs_inverse, columns= ['movie_id', 'predicted_rating'])\n",
        "outputs_2.to_csv(output_2_filename, index=False)"
      ],
      "execution_count": 0,
      "outputs": []
    },
    {
      "cell_type": "code",
      "metadata": {
        "id": "iJUwB_dpgb4n",
        "colab_type": "code",
        "colab": {
          "base_uri": "https://localhost:8080/",
          "height": 323
        },
        "outputId": "c8b10bcb-a314-4eb5-a076-bf260f9f65ba"
      },
      "source": [
        "from sklearn import tree, svm, naive_bayes,neighbors\n",
        "from sklearn.ensemble import BaggingClassifier, AdaBoostClassifier, RandomForestClassifier, GradientBoostingClassifier\n",
        "\n",
        "\n",
        "\n",
        "clfs = {'svm': svm.SVC(),\\\n",
        "        'decision_tree':tree.DecisionTreeClassifier(),\n",
        "        'naive_gaussian': naive_bayes.GaussianNB(), \\\n",
        "        # 'naive_mul':naive_bayes.MultinomialNB(),\\\n",
        "        'K_neighbor' : neighbors.KNeighborsClassifier(),\\\n",
        "        'bagging_knn' : BaggingClassifier(neighbors.KNeighborsClassifier(), max_samples=0.5,max_features=0.5), \\\n",
        "        'bagging_tree': BaggingClassifier(tree.DecisionTreeClassifier(), max_samples=0.5,max_features=0.5),\n",
        "        'random_forest' : RandomForestClassifier(n_estimators=50),\\\n",
        "        'adaboost':AdaBoostClassifier(n_estimators=50),\\\n",
        "        'gradient_boost' : GradientBoostingClassifier(n_estimators=50, learning_rate=1.0,max_depth=1, random_state=10)\n",
        "        }\n",
        "\n",
        "def try_different_method(clf):\n",
        "    clf.fit(X_train,Y_train)\n",
        "    score = clf.score(X_valid,Y_valid)\n",
        "    print('the score is :', score)\n",
        "\n",
        "for clf_key in clfs.keys():\n",
        "    print('the classifier is :',clf_key)\n",
        "    clf = clfs[clf_key]\n",
        "    try_different_method(clf)"
      ],
      "execution_count": 186,
      "outputs": [
        {
          "output_type": "stream",
          "text": [
            "the classifier is : svm\n",
            "the score is : 0.6925\n",
            "the classifier is : decision_tree\n",
            "the score is : 0.555\n",
            "the classifier is : naive_gaussian\n",
            "the score is : 0.7\n",
            "the classifier is : K_neighbor\n",
            "the score is : 0.675\n",
            "the classifier is : bagging_knn\n",
            "the score is : 0.7\n",
            "the classifier is : bagging_tree\n",
            "the score is : 0.6875\n",
            "the classifier is : random_forest\n",
            "the score is : 0.6475\n",
            "the classifier is : adaboost\n",
            "the score is : 0.345\n",
            "the classifier is : gradient_boost\n",
            "the score is : 0.7075\n"
          ],
          "name": "stdout"
        }
      ]
    },
    {
      "cell_type": "code",
      "metadata": {
        "id": "zM4hLmjAhJ1X",
        "colab_type": "code",
        "colab": {}
      },
      "source": [
        ""
      ],
      "execution_count": 0,
      "outputs": []
    }
  ]
}
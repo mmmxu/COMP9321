{
  "nbformat": 4,
  "nbformat_minor": 0,
  "metadata": {
    "colab": {
      "name": "9321-assn3.ipynb",
      "provenance": [],
      "collapsed_sections": [
        "de_LJHqjClGx",
        "wR6dJMLVcdXW",
        "L7WzEN6wVrge",
        "GyA9BRLVVwjy",
        "h4iB6faNYWTi",
        "5FD_KpuEQEqf"
      ]
    },
    "kernelspec": {
      "name": "python3",
      "display_name": "Python 3"
    }
  },
  "cells": [
    {
      "cell_type": "markdown",
      "metadata": {
        "id": "0iJQM19YWXuZ",
        "colab_type": "text"
      },
      "source": [
        "# preprocessing\n",
        "\n",
        "dev env colab\n",
        "## Load csv file from Gdrive"
      ]
    },
    {
      "cell_type": "code",
      "metadata": {
        "id": "J2b_qLgEPOaH",
        "colab_type": "code",
        "outputId": "e8e3b084-cedb-4d35-d17b-0d01efd4f550",
        "colab": {
          "base_uri": "https://localhost:8080/",
          "height": 51
        }
      },
      "source": [
        "# Mount google drive to read images from colab\n",
        "from google.colab import drive\n",
        "drive.mount('/content/drive')\n",
        "%cd /content/drive/My Drive/DevEnv/9321"
      ],
      "execution_count": 318,
      "outputs": [
        {
          "output_type": "stream",
          "text": [
            "Drive already mounted at /content/drive; to attempt to forcibly remount, call drive.mount(\"/content/drive\", force_remount=True).\n",
            "/content/drive/My Drive/DevEnv/9321\n"
          ],
          "name": "stdout"
        }
      ]
    },
    {
      "cell_type": "code",
      "metadata": {
        "id": "0iD40N_2PQqN",
        "colab_type": "code",
        "colab": {}
      },
      "source": [
        "# %cd /content/drive/My Drive/DevEnv/9321\n",
        "# !wget https://github.com/mysilver/COMP9321-Data-Services/raw/master/20t1/assign3/training.csv\n",
        "# !wget https://github.com/mysilver/COMP9321-Data-Services/raw/master/20t1/assign3/validation.csv"
      ],
      "execution_count": 0,
      "outputs": []
    },
    {
      "cell_type": "markdown",
      "metadata": {
        "id": "EF5WzlZIOszg",
        "colab_type": "text"
      },
      "source": [
        "# Start"
      ]
    },
    {
      "cell_type": "code",
      "metadata": {
        "id": "LfhfhO51UQqo",
        "colab_type": "code",
        "colab": {}
      },
      "source": [
        "import pandas as pd\n",
        "import numpy as np\n",
        "import requests\n",
        "import json\n",
        "\n",
        "from datetime import datetime\n",
        "\n",
        "from sklearn.preprocessing import LabelEncoder\n",
        "from sklearn.preprocessing import MinMaxScaler\n",
        "from sklearn.preprocessing import Normalizer\n",
        "from sklearn.preprocessing import StandardScaler\n",
        "\n",
        "from sklearn.tree import DecisionTreeRegressor\n",
        "from sklearn.svm import SVR\n",
        "from sklearn.svm import SVC\n",
        "from sklearn.ensemble import RandomForestRegressor\n",
        "from sklearn.ensemble import AdaBoostRegressor\n",
        "from sklearn.ensemble import GradientBoostingRegressor\n",
        "from sklearn.ensemble import BaggingClassifier, AdaBoostClassifier, RandomForestClassifier, GradientBoostingClassifier\n",
        "\n",
        "\n",
        "\n",
        "from sklearn.model_selection import train_test_split\n",
        "from sklearn.metrics import precision_score\n",
        "from sklearn.metrics import recall_score\n",
        "from sklearn.metrics import accuracy_score\n",
        "from sklearn.metrics import mean_squared_error\n",
        "from sklearn.metrics import r2_score\n",
        "\n",
        "from math import sqrt\n",
        "import matplotlib.pyplot as plt\n",
        "from scipy.stats import pearsonr"
      ],
      "execution_count": 0,
      "outputs": []
    },
    {
      "cell_type": "code",
      "metadata": {
        "id": "WdmmxfLfXo1Y",
        "colab_type": "code",
        "colab": {}
      },
      "source": [
        "# ref: https://stackoverflow.com/questions/20625582/how-to-deal-with-settingwithcopywarning-in-pandas\n",
        "pd.options.mode.chained_assignment = None  # default='warn'"
      ],
      "execution_count": 0,
      "outputs": []
    },
    {
      "cell_type": "code",
      "metadata": {
        "id": "gZJCBun7WUhS",
        "colab_type": "code",
        "colab": {}
      },
      "source": [
        "train_df=pd.read_csv('./training.csv')\n",
        "validation_df=pd.read_csv('./validation.csv')\n",
        "Z_ID = 'z5141401'\n",
        "DECIMAL_LEN = 2"
      ],
      "execution_count": 0,
      "outputs": []
    },
    {
      "cell_type": "code",
      "metadata": {
        "id": "cGcJZDPyWmuF",
        "colab_type": "code",
        "colab": {}
      },
      "source": [
        "# train_df"
      ],
      "execution_count": 0,
      "outputs": []
    },
    {
      "cell_type": "markdown",
      "metadata": {
        "id": "8bENIDsXQaN8",
        "colab_type": "text"
      },
      "source": [
        "## Processing data\n",
        "\n",
        "\n",
        "|Column|Value  |\n",
        "|--|--|\n",
        "|Budget|keep value, not convert|\n",
        "|Genres|convert to number of genres|\n",
        "|Homepage|convert to boolean (has a homepage or not)|\n",
        "|original_language|keep???|\n",
        "|release_date|convert to year|\n",
        "\n",
        "\n",
        "[release_year_rita.png](https://i.loli.net/2020/04/16/Ul1LeRQtr6PDM3d.png)\n",
        "\n",
        "[release_year_me](https://pic.luoxufeiyan.com/uploads/20200416145052.png)\n"
      ]
    },
    {
      "cell_type": "code",
      "metadata": {
        "id": "MkjVEqZ7Wpme",
        "colab_type": "code",
        "colab": {}
      },
      "source": [
        "# Only keep certain columns as training set\n",
        "\n",
        "# keep_col = ['budget', 'homepage', 'original_language', 'release_date']\n",
        "# conv_num_list = ['cast', 'crew', 'genres', 'keywords', 'production_companies', 'production_countries', 'spoken_languages']\n",
        "keep_col = ['budget', 'homepage', 'release_date', 'genres', 'production_companies']\n",
        "conv_num_list = ['cast', 'crew']\n",
        "Y_label = 'revenue'\n"
      ],
      "execution_count": 0,
      "outputs": []
    },
    {
      "cell_type": "markdown",
      "metadata": {
        "id": "B7ow8RzWJjHh",
        "colab_type": "text"
      },
      "source": [
        "### conv funcs"
      ]
    },
    {
      "cell_type": "code",
      "metadata": {
        "id": "mkNDfNMMRina",
        "colab_type": "code",
        "colab": {}
      },
      "source": [
        "# convert-to num\n",
        "def conv_to_num(dataset, modify_col):\n",
        "    for i in range(len(dataset[modify_col])):\n",
        "        curr_str = dataset[modify_col][i] \n",
        "        curr_len = len(json.loads(curr_str))\n",
        "        dataset[modify_col][i] = curr_len\n",
        "    return dataset"
      ],
      "execution_count": 0,
      "outputs": []
    },
    {
      "cell_type": "code",
      "metadata": {
        "id": "4su_cDzBXvRe",
        "colab_type": "code",
        "colab": {}
      },
      "source": [
        "# preprocessing-homepage\n",
        "def proc_homepage(dataset):\n",
        "    modify_col = 'homepage'\n",
        "    for i in range(len(dataset[modify_col])):\n",
        "        curr_str = dataset[modify_col][i] \n",
        "        # convert to Ture if movie has a homepage\n",
        "        curr_len = (type(curr_str) is str)\n",
        "        dataset[modify_col][i] = curr_len\n",
        "    return dataset"
      ],
      "execution_count": 0,
      "outputs": []
    },
    {
      "cell_type": "code",
      "metadata": {
        "id": "z1UU65umYxVP",
        "colab_type": "code",
        "colab": {}
      },
      "source": [
        "# preprocessing-release_date\n",
        "def proc_rls_year(dataset):\n",
        "    modify_col = 'release_date'\n",
        "    dataset['release_year'] = dataset[modify_col].copy()\n",
        "    for i in range(len(dataset[modify_col])):\n",
        "        curr_str = dataset[modify_col][i] \n",
        "        # convert to year only\n",
        "        curr_len = int(curr_str[:4])\n",
        "        dataset['release_year'][i] = curr_len\n",
        "    \n",
        "    return dataset"
      ],
      "execution_count": 0,
      "outputs": []
    },
    {
      "cell_type": "code",
      "metadata": {
        "id": "w2Qpq5YPbGse",
        "colab_type": "code",
        "colab": {}
      },
      "source": [
        "# preprocessing-release_month\n",
        "def proc_rls_mo(dataset):\n",
        "    modify_col = 'release_date'\n",
        "    dataset['release_month'] = dataset[modify_col].copy()\n",
        "    for i in range(len(dataset[modify_col])):\n",
        "        curr_str = dataset[modify_col][i] \n",
        "        # convert to month only\n",
        "        curr_len = int(curr_str[5:7])\n",
        "        dataset['release_month'][i] = curr_len\n",
        "    return dataset"
      ],
      "execution_count": 0,
      "outputs": []
    },
    {
      "cell_type": "code",
      "metadata": {
        "id": "ZIMnPuZcqKKA",
        "colab_type": "code",
        "colab": {}
      },
      "source": [
        "# preprocessing-release_weeks\n",
        "def proc_rls_weeks(dataset):\n",
        "    dataset['release_week'] = dataset['release_date'].apply(lambda x: datetime.strptime(x, '%Y-%m-%d').isocalendar()[1])\n",
        "    return dataset"
      ],
      "execution_count": 0,
      "outputs": []
    },
    {
      "cell_type": "code",
      "metadata": {
        "id": "3UtIu0UAqqso",
        "colab_type": "code",
        "colab": {}
      },
      "source": [
        "# preprocessing-release_days of week\n",
        "def proc_rls_dow(dataset):\n",
        "    dataset['release_weekday'] = dataset['release_date'].apply(lambda x: datetime.strptime(x, '%Y-%m-%d').strftime('%A'))\n",
        "    return dataset"
      ],
      "execution_count": 0,
      "outputs": []
    },
    {
      "cell_type": "code",
      "metadata": {
        "id": "ZkSQqmpteweW",
        "colab_type": "code",
        "colab": {}
      },
      "source": [
        "# get main genre\n",
        "def proc_main_genre(dataset):\n",
        "    modify_col = 'genres'\n",
        "    dataset['main_genre'] = dataset[modify_col].copy()\n",
        "    for i in range(len(dataset[modify_col])):\n",
        "        curr_str = dataset[modify_col][i] \n",
        "        # get first genre\n",
        "        try:\n",
        "            j1 = json.loads(curr_str)\n",
        "            curr_len = j1[0]['name']\n",
        "            dataset['main_genre'][i] = curr_len\n",
        "        except:\n",
        "            dataset['main_genre'][i] = 'Null'\n",
        "    return dataset"
      ],
      "execution_count": 0,
      "outputs": []
    },
    {
      "cell_type": "code",
      "metadata": {
        "id": "zDriYjw-gl6P",
        "colab_type": "code",
        "colab": {}
      },
      "source": [
        "# get main company id\n",
        "def proc_main_comp_id(dataset):\n",
        "    modify_col = 'production_companies'\n",
        "    dataset['main_comp_id'] = dataset[modify_col].copy()\n",
        "    for i in range(len(dataset[modify_col])):\n",
        "        curr_str = dataset[modify_col][i] \n",
        "        # get first prod company\n",
        "        j1 = json.loads(curr_str)\n",
        "        try:\n",
        "            curr_len = j1[0]['id']\n",
        "            dataset['main_comp_id'][i] = curr_len\n",
        "        except:\n",
        "            dataset['main_comp_id'][i] = 0\n",
        "    return dataset"
      ],
      "execution_count": 0,
      "outputs": []
    },
    {
      "cell_type": "code",
      "metadata": {
        "id": "z_e7lHMyi_um",
        "colab_type": "code",
        "colab": {}
      },
      "source": [
        "# get main company id\n",
        "def proc_budget_year_ratio(dataset):\n",
        "    modify_col = 'budget'\n",
        "    dataset['budget_year_ratio'] = dataset[modify_col].copy()\n",
        "    for i in range(len(dataset[modify_col])): \n",
        "        # calc ratio\n",
        "        ratio = round(dataset[modify_col][i] / dataset['release_year'][i], 2)\n",
        "        dataset['budget_year_ratio'][i] = ratio\n",
        "    return dataset"
      ],
      "execution_count": 0,
      "outputs": []
    },
    {
      "cell_type": "code",
      "metadata": {
        "id": "2_2vDmd1ceVo",
        "colab_type": "code",
        "colab": {}
      },
      "source": [
        ""
      ],
      "execution_count": 0,
      "outputs": []
    },
    {
      "cell_type": "code",
      "metadata": {
        "id": "UTgkFau0l7Oc",
        "colab_type": "code",
        "colab": {}
      },
      "source": [
        "# original_language\n",
        "def proc_orig_lang(dataset):\n",
        "    all_lang = list(set(dataset['original_language'].values))\n",
        "    le = LabelEncoder()\n",
        "    le.fit(all_lang)\n",
        "    dataset['original_language'] = le.transform(dataset['original_language'])\n",
        "    return dataset"
      ],
      "execution_count": 0,
      "outputs": []
    },
    {
      "cell_type": "code",
      "metadata": {
        "id": "sUhdx5EZq1PY",
        "colab_type": "code",
        "colab": {}
      },
      "source": [
        "# budget\n",
        "def proc_norm(dataset, modify_col):\n",
        "    \n",
        "    #norm certain cols\n",
        "\n",
        "    y_df = dataset[modify_col]\n",
        "    y_norm = (y_df - y_df.min()) / (y_df.max() - y_df.min())\n",
        "    dataset[modify_col] = y_norm\n",
        "    return dataset"
      ],
      "execution_count": 0,
      "outputs": []
    },
    {
      "cell_type": "code",
      "metadata": {
        "id": "aHR7YhRMIwT2",
        "colab_type": "code",
        "colab": {}
      },
      "source": [
        "# inverse norm\n",
        "def inverse_norm(orig_col, proc_col):\n",
        "    # orginal col contains raw data\n",
        "    inverse_col = proc_col * (orig_col.max() - orig_col.min()) + orig_col.min()\n",
        "    return inverse_col"
      ],
      "execution_count": 0,
      "outputs": []
    },
    {
      "cell_type": "code",
      "metadata": {
        "id": "1ni-_MHhtDfU",
        "colab_type": "code",
        "colab": {}
      },
      "source": [
        "def proc_data(dataset):\n",
        "    # add Y label\n",
        "    selected_col = keep_col + conv_num_list\n",
        "    selected_col.append(Y_label)\n",
        "    proc_dataset = dataset[selected_col]\n",
        "    # proc_dataset = dataset[keep_col]\n",
        "\n",
        "    # do preprocessing\n",
        "    #convert to num\n",
        "    for i in conv_num_list:\n",
        "        try:\n",
        "            proc_dataset = conv_to_num(proc_dataset, i)\n",
        "        except:\n",
        "            pass\n",
        "\n",
        "    # other processing\n",
        "    proc_dataset = proc_main_genre(proc_dataset)\n",
        "    proc_dataset = proc_main_comp_id(proc_dataset)\n",
        "    proc_dataset = proc_rls_year(proc_dataset)\n",
        "    proc_dataset = proc_rls_weeks(proc_dataset)\n",
        "    proc_dataset = proc_rls_mo(proc_dataset)\n",
        "    proc_dataset = proc_rls_dow(proc_dataset)\n",
        "    proc_dataset = proc_homepage(proc_dataset)\n",
        "    # calc after release year\n",
        "    proc_dataset = proc_budget_year_ratio(proc_dataset)\n",
        "    proc_dataset = proc_norm(proc_dataset, 'budget')\n",
        "\n",
        "    #norm certain cols\n",
        "    proc_dataset = proc_norm(proc_dataset, Y_label)    \n",
        "\n",
        "    # one hog\n",
        "    # one-hot encode genres\n",
        "    one_hot = proc_dataset['main_genre'].str.get_dummies(sep=',')\n",
        "    # one-hot encode month variables\n",
        "    one_hot_month = pd.get_dummies(proc_dataset['release_month'], prefix='month')\n",
        "    # one-hot-encode weekday variable\n",
        "    one_hot_weekday = pd.get_dummies(proc_dataset['release_weekday'], prefix='weekday')\n",
        "\n",
        "    proc_dataset = proc_dataset.join(one_hot)\n",
        "    proc_dataset = proc_dataset.join(one_hot_month)\n",
        "    proc_dataset = proc_dataset.join(one_hot_weekday)\n",
        "    \n",
        "\n",
        "    # remove original rows\n",
        "    remove_rows = ['release_date', 'genres', 'production_companies', 'main_genre', 'release_month', 'release_weekday']\n",
        "    proc_dataset = proc_dataset.drop(remove_rows, axis=1)\n",
        "    return proc_dataset"
      ],
      "execution_count": 0,
      "outputs": []
    },
    {
      "cell_type": "code",
      "metadata": {
        "id": "ArtSIGULgoev",
        "colab_type": "code",
        "colab": {}
      },
      "source": [
        "# def proc_data(dataset):\n",
        "#     # add Y label\n",
        "#     selected_col = keep_col + conv_num_list\n",
        "#     selected_col.append(Y_label)\n",
        "#     proc_dataset = dataset[selected_col]\n",
        "#     # proc_dataset = dataset[keep_col]\n",
        "\n",
        "#     # do preprocessing\n",
        "#     #convert to num\n",
        "#     for i in conv_num_list:\n",
        "#         try:\n",
        "#             proc_dataset = conv_to_num(proc_dataset, i)\n",
        "#         except:\n",
        "#             pass\n",
        "\n",
        "#     # other processing\n",
        "#     proc_dataset = proc_norm(proc_dataset, 'budget')\n",
        "#     proc_dataset = proc_homepage(proc_dataset)\n",
        "#     proc_dataset = proc_rls_date(proc_dataset)\n",
        "\n",
        "#     #norm certain cols\n",
        "#     proc_dataset = proc_norm(proc_dataset, Y_label)    \n",
        "#     return proc_dataset"
      ],
      "execution_count": 0,
      "outputs": []
    },
    {
      "cell_type": "markdown",
      "metadata": {
        "id": "Wu_mikD1Eqno",
        "colab_type": "text"
      },
      "source": [
        "#### norm\n",
        "\n",
        "https://stackoverflow.com/questions/33246316/normalization-in-sci-kit-learn-linear-models\n",
        "\n",
        "https://stackoverflow.com/questions/44552031/sklearnstandardscaler-can-i-inverse-the-standardscaler-for-the-model-output"
      ]
    },
    {
      "cell_type": "markdown",
      "metadata": {
        "id": "de_LJHqjClGx",
        "colab_type": "text"
      },
      "source": [
        "### process data"
      ]
    },
    {
      "cell_type": "code",
      "metadata": {
        "id": "RTepunEfVKTu",
        "colab_type": "code",
        "colab": {
          "base_uri": "https://localhost:8080/",
          "height": 861
        },
        "outputId": "6832e407-0cb8-400a-80e7-6fd62c37724f"
      },
      "source": [
        "train_set = proc_data(train_df)\n",
        "vali_set = proc_data(validation_df)\n",
        "\n",
        "\n",
        "\n",
        "\n",
        "\n",
        "train_set\n"
      ],
      "execution_count": 358,
      "outputs": [
        {
          "output_type": "execute_result",
          "data": {
            "text/html": [
              "<div>\n",
              "<style scoped>\n",
              "    .dataframe tbody tr th:only-of-type {\n",
              "        vertical-align: middle;\n",
              "    }\n",
              "\n",
              "    .dataframe tbody tr th {\n",
              "        vertical-align: top;\n",
              "    }\n",
              "\n",
              "    .dataframe thead th {\n",
              "        text-align: right;\n",
              "    }\n",
              "</style>\n",
              "<table border=\"1\" class=\"dataframe\">\n",
              "  <thead>\n",
              "    <tr style=\"text-align: right;\">\n",
              "      <th></th>\n",
              "      <th>budget</th>\n",
              "      <th>homepage</th>\n",
              "      <th>release_date</th>\n",
              "      <th>genres</th>\n",
              "      <th>keywords</th>\n",
              "      <th>genres</th>\n",
              "      <th>keywords</th>\n",
              "      <th>rating</th>\n",
              "    </tr>\n",
              "  </thead>\n",
              "  <tbody>\n",
              "    <tr>\n",
              "      <th>0</th>\n",
              "      <td>0.623684</td>\n",
              "      <td>http://www.avatarmovie.com/</td>\n",
              "      <td>2009-12-10</td>\n",
              "      <td>[{\"id\": 28, \"name\": \"Action\"}, {\"id\": 12, \"nam...</td>\n",
              "      <td>[{\"id\": 1463, \"name\": \"culture clash\"}, {\"id\":...</td>\n",
              "      <td>[{\"id\": 28, \"name\": \"Action\"}, {\"id\": 12, \"nam...</td>\n",
              "      <td>[{\"id\": 1463, \"name\": \"culture clash\"}, {\"id\":...</td>\n",
              "      <td>3</td>\n",
              "    </tr>\n",
              "    <tr>\n",
              "      <th>1</th>\n",
              "      <td>0.789474</td>\n",
              "      <td>http://disney.go.com/disneypictures/pirates/</td>\n",
              "      <td>2007-05-19</td>\n",
              "      <td>[{\"id\": 12, \"name\": \"Adventure\"}, {\"id\": 14, \"...</td>\n",
              "      <td>[{\"id\": 270, \"name\": \"ocean\"}, {\"id\": 726, \"na...</td>\n",
              "      <td>[{\"id\": 12, \"name\": \"Adventure\"}, {\"id\": 14, \"...</td>\n",
              "      <td>[{\"id\": 270, \"name\": \"ocean\"}, {\"id\": 726, \"na...</td>\n",
              "      <td>3</td>\n",
              "    </tr>\n",
              "    <tr>\n",
              "      <th>2</th>\n",
              "      <td>0.644737</td>\n",
              "      <td>http://www.sonypictures.com/movies/spectre/</td>\n",
              "      <td>2015-10-26</td>\n",
              "      <td>[{\"id\": 28, \"name\": \"Action\"}, {\"id\": 12, \"nam...</td>\n",
              "      <td>[{\"id\": 470, \"name\": \"spy\"}, {\"id\": 818, \"name...</td>\n",
              "      <td>[{\"id\": 28, \"name\": \"Action\"}, {\"id\": 12, \"nam...</td>\n",
              "      <td>[{\"id\": 470, \"name\": \"spy\"}, {\"id\": 818, \"name...</td>\n",
              "      <td>3</td>\n",
              "    </tr>\n",
              "    <tr>\n",
              "      <th>3</th>\n",
              "      <td>0.657895</td>\n",
              "      <td>http://www.thedarkknightrises.com/</td>\n",
              "      <td>2012-07-16</td>\n",
              "      <td>[{\"id\": 28, \"name\": \"Action\"}, {\"id\": 80, \"nam...</td>\n",
              "      <td>[{\"id\": 849, \"name\": \"dc comics\"}, {\"id\": 853,...</td>\n",
              "      <td>[{\"id\": 28, \"name\": \"Action\"}, {\"id\": 80, \"nam...</td>\n",
              "      <td>[{\"id\": 849, \"name\": \"dc comics\"}, {\"id\": 853,...</td>\n",
              "      <td>3</td>\n",
              "    </tr>\n",
              "    <tr>\n",
              "      <th>4</th>\n",
              "      <td>0.684211</td>\n",
              "      <td>http://movies.disney.com/john-carter</td>\n",
              "      <td>2012-03-07</td>\n",
              "      <td>[{\"id\": 28, \"name\": \"Action\"}, {\"id\": 12, \"nam...</td>\n",
              "      <td>[{\"id\": 818, \"name\": \"based on novel\"}, {\"id\":...</td>\n",
              "      <td>[{\"id\": 28, \"name\": \"Action\"}, {\"id\": 12, \"nam...</td>\n",
              "      <td>[{\"id\": 818, \"name\": \"based on novel\"}, {\"id\":...</td>\n",
              "      <td>3</td>\n",
              "    </tr>\n",
              "    <tr>\n",
              "      <th>...</th>\n",
              "      <td>...</td>\n",
              "      <td>...</td>\n",
              "      <td>...</td>\n",
              "      <td>...</td>\n",
              "      <td>...</td>\n",
              "      <td>...</td>\n",
              "      <td>...</td>\n",
              "      <td>...</td>\n",
              "    </tr>\n",
              "    <tr>\n",
              "      <th>2095</th>\n",
              "      <td>0.039474</td>\n",
              "      <td>NaN</td>\n",
              "      <td>1991-08-10</td>\n",
              "      <td>[{\"id\": 53, \"name\": \"Thriller\"}, {\"id\": 28, \"n...</td>\n",
              "      <td>[{\"id\": 2143, \"name\": \"loss of parents\"}, {\"id...</td>\n",
              "      <td>[{\"id\": 53, \"name\": \"Thriller\"}, {\"id\": 28, \"n...</td>\n",
              "      <td>[{\"id\": 2143, \"name\": \"loss of parents\"}, {\"id...</td>\n",
              "      <td>2</td>\n",
              "    </tr>\n",
              "    <tr>\n",
              "      <th>2096</th>\n",
              "      <td>0.031579</td>\n",
              "      <td>http://www.universalstudiosentertainment.com/h...</td>\n",
              "      <td>2007-02-14</td>\n",
              "      <td>[{\"id\": 80, \"name\": \"Crime\"}, {\"id\": 28, \"name...</td>\n",
              "      <td>[{\"id\": 5331, \"name\": \"village\"}, {\"id\": 5638,...</td>\n",
              "      <td>[{\"id\": 80, \"name\": \"Crime\"}, {\"id\": 28, \"name...</td>\n",
              "      <td>[{\"id\": 5331, \"name\": \"village\"}, {\"id\": 5638,...</td>\n",
              "      <td>3</td>\n",
              "    </tr>\n",
              "    <tr>\n",
              "      <th>2097</th>\n",
              "      <td>0.042105</td>\n",
              "      <td>http://thewomen.warnerbros.com/index.html</td>\n",
              "      <td>2008-09-12</td>\n",
              "      <td>[{\"id\": 35, \"name\": \"Comedy\"}, {\"id\": 18, \"nam...</td>\n",
              "      <td>[{\"id\": 9749, \"name\": \"beauty salon\"}, {\"id\": ...</td>\n",
              "      <td>[{\"id\": 35, \"name\": \"Comedy\"}, {\"id\": 18, \"nam...</td>\n",
              "      <td>[{\"id\": 9749, \"name\": \"beauty salon\"}, {\"id\": ...</td>\n",
              "      <td>2</td>\n",
              "    </tr>\n",
              "    <tr>\n",
              "      <th>2098</th>\n",
              "      <td>0.039474</td>\n",
              "      <td>NaN</td>\n",
              "      <td>2008-08-15</td>\n",
              "      <td>[{\"id\": 18, \"name\": \"Drama\"}, {\"id\": 10749, \"n...</td>\n",
              "      <td>[{\"id\": 107, \"name\": \"barcelona spain\"}, {\"id\"...</td>\n",
              "      <td>[{\"id\": 18, \"name\": \"Drama\"}, {\"id\": 10749, \"n...</td>\n",
              "      <td>[{\"id\": 107, \"name\": \"barcelona spain\"}, {\"id\"...</td>\n",
              "      <td>3</td>\n",
              "    </tr>\n",
              "    <tr>\n",
              "      <th>2099</th>\n",
              "      <td>0.042105</td>\n",
              "      <td>NaN</td>\n",
              "      <td>2000-06-16</td>\n",
              "      <td>[{\"id\": 35, \"name\": \"Comedy\"}, {\"id\": 18, \"nam...</td>\n",
              "      <td>[{\"id\": 815, \"name\": \"soulmates\"}, {\"id\": 1605...</td>\n",
              "      <td>[{\"id\": 35, \"name\": \"Comedy\"}, {\"id\": 18, \"nam...</td>\n",
              "      <td>[{\"id\": 815, \"name\": \"soulmates\"}, {\"id\": 1605...</td>\n",
              "      <td>2</td>\n",
              "    </tr>\n",
              "  </tbody>\n",
              "</table>\n",
              "<p>2100 rows × 8 columns</p>\n",
              "</div>"
            ],
            "text/plain": [
              "        budget  ... rating\n",
              "0     0.623684  ...      3\n",
              "1     0.789474  ...      3\n",
              "2     0.644737  ...      3\n",
              "3     0.657895  ...      3\n",
              "4     0.684211  ...      3\n",
              "...        ...  ...    ...\n",
              "2095  0.039474  ...      2\n",
              "2096  0.031579  ...      3\n",
              "2097  0.042105  ...      2\n",
              "2098  0.039474  ...      3\n",
              "2099  0.042105  ...      2\n",
              "\n",
              "[2100 rows x 8 columns]"
            ]
          },
          "metadata": {
            "tags": []
          },
          "execution_count": 358
        }
      ]
    },
    {
      "cell_type": "code",
      "metadata": {
        "id": "8to4gX9rH_35",
        "colab_type": "code",
        "colab": {}
      },
      "source": [
        "# train_set['revenue'][1430:1442]"
      ],
      "execution_count": 0,
      "outputs": []
    },
    {
      "cell_type": "markdown",
      "metadata": {
        "id": "wR6dJMLVcdXW",
        "colab_type": "text"
      },
      "source": [
        "# Fit models\n",
        "\n",
        "* https://www.pluralsight.com/guides/non-linear-regression-trees-scikit-learn\n",
        "\n",
        "* https://github.com/wangye707/PY_DELL/blob/b066ae4bb40273b24d698d66450e4207e3eb6808/git_book-master/chapters/Decision_Tree/decisiontree_regressor.py"
      ]
    },
    {
      "cell_type": "code",
      "metadata": {
        "id": "dQmikMikVsPB",
        "colab_type": "code",
        "colab": {}
      },
      "source": [
        "keep_col = list(train_set.columns.values)\n",
        "keep_col.remove(Y_label)\n",
        "\n",
        "X_train = train_set[keep_col]\n",
        "Y_train = train_set[Y_label]\n",
        "\n",
        "X_valid = vali_set[keep_col]\n",
        "Y_valid = vali_set[Y_label]"
      ],
      "execution_count": 0,
      "outputs": []
    },
    {
      "cell_type": "code",
      "metadata": {
        "id": "ZhwFZ7GdDLNs",
        "colab_type": "code",
        "colab": {}
      },
      "source": [
        ""
      ],
      "execution_count": 0,
      "outputs": []
    },
    {
      "cell_type": "markdown",
      "metadata": {
        "id": "L7WzEN6wVrge",
        "colab_type": "text"
      },
      "source": [
        "### decision tree"
      ]
    },
    {
      "cell_type": "code",
      "metadata": {
        "id": "NG6yULADdMfK",
        "colab_type": "code",
        "colab": {}
      },
      "source": [
        "def dTree(X_train, Y_train):\n",
        "    model_dtree = DecisionTreeRegressor()\n",
        "    # dtree = DecisionTreeRegressor()\n",
        "    model_dtree.fit(X_train, Y_train)\n",
        "\n",
        "    return model_dtree"
      ],
      "execution_count": 0,
      "outputs": []
    },
    {
      "cell_type": "markdown",
      "metadata": {
        "id": "GyA9BRLVVwjy",
        "colab_type": "text"
      },
      "source": [
        "### random forest"
      ]
    },
    {
      "cell_type": "code",
      "metadata": {
        "id": "491D2mIcNy-n",
        "colab_type": "code",
        "colab": {}
      },
      "source": [
        "def randomForest(X_train, Y_train):\n",
        "    #RF model\n",
        "    model_rf = RandomForestRegressor(n_estimators=500, oob_score=True, random_state=100)\n",
        "    # model_rf = RandomForestRegressor(n_estimators=500)\n",
        "    model_rf.fit(X_train, Y_train) \n",
        "\n",
        "    return model_rf"
      ],
      "execution_count": 0,
      "outputs": []
    },
    {
      "cell_type": "markdown",
      "metadata": {
        "id": "h4iB6faNYWTi",
        "colab_type": "text"
      },
      "source": [
        "### Adaboost"
      ]
    },
    {
      "cell_type": "code",
      "metadata": {
        "id": "nb6pSnzvWMiy",
        "colab_type": "code",
        "colab": {}
      },
      "source": [
        "def adaBoost(X_train, Y_train):\n",
        "    model_ab = AdaBoostRegressor(n_estimators=500)\n",
        "    model_ab.fit(X_train, Y_train)\n",
        "\n",
        "    return model_ab "
      ],
      "execution_count": 0,
      "outputs": []
    },
    {
      "cell_type": "markdown",
      "metadata": {
        "id": "5FD_KpuEQEqf",
        "colab_type": "text"
      },
      "source": [
        "### GBRT"
      ]
    },
    {
      "cell_type": "code",
      "metadata": {
        "id": "ZCrtAK14QGm1",
        "colab_type": "code",
        "colab": {}
      },
      "source": [
        "def gbrt(X_train, Y_train):\n",
        "    model_gbrt = GradientBoostingRegressor(n_estimators=500)\n",
        "    model_gbrt.fit(X_train, Y_train)\n",
        "\n",
        "    return model_gbrt"
      ],
      "execution_count": 0,
      "outputs": []
    },
    {
      "cell_type": "markdown",
      "metadata": {
        "id": "L4ixhF74FhY3",
        "colab_type": "text"
      },
      "source": [
        "# Evaluate"
      ]
    },
    {
      "cell_type": "code",
      "metadata": {
        "id": "dLMJ82zDJglO",
        "colab_type": "code",
        "colab": {}
      },
      "source": [
        "model_gbrt = gbrt(X_train, Y_train)\n",
        "model = model_gbrt"
      ],
      "execution_count": 0,
      "outputs": []
    },
    {
      "cell_type": "code",
      "metadata": {
        "id": "V6A6jct2XEdt",
        "colab_type": "code",
        "outputId": "3bc9c764-4ccd-459c-ff4d-3fde093a77a3",
        "colab": {
          "base_uri": "https://localhost:8080/",
          "height": 34
        }
      },
      "source": [
        "# summary output\n",
        "lst = [Z_ID]\n",
        "summary_1_filename = Z_ID + '.PART1.summary.csv'\n",
        "Y_valid_pred = model.predict(X_valid)\n",
        "lst.append(round(mean_squared_error(Y_valid,Y_valid_pred), DECIMAL_LEN)) \n",
        "lst.append(round(pearsonr(Y_valid, Y_valid_pred)[0], DECIMAL_LEN))\n",
        "print(lst)\n",
        "summary_1 = pd.DataFrame([lst], columns =['zid','MSR','correlation']) \n",
        "summary_1.to_csv(summary_1_filename, index=False)"
      ],
      "execution_count": 347,
      "outputs": [
        {
          "output_type": "stream",
          "text": [
            "['z5141401', 0.01, 0.28]\n"
          ],
          "name": "stdout"
        }
      ]
    },
    {
      "cell_type": "code",
      "metadata": {
        "id": "vt1zRdsjBD6m",
        "colab_type": "code",
        "colab": {}
      },
      "source": [
        "# detail outputs\n",
        "output_1_filename = Z_ID + '.PART1.output.csv'\n",
        "\n",
        "outputs_pred = pd.DataFrame(Y_valid_pred)\n",
        "outputs_inverse = validation_df.copy()\n",
        "outputs_inverse['predicted_revenue'] = inverse_norm(validation_df[Y_label], outputs_pred)\n",
        "\n",
        "outputs_1 = pd.DataFrame(outputs_inverse, columns= ['movie_id', 'predicted_revenue'])\n",
        "outputs_1.to_csv(output_1_filename, index=False)"
      ],
      "execution_count": 0,
      "outputs": []
    },
    {
      "cell_type": "code",
      "metadata": {
        "id": "sfRQiDf_QZm8",
        "colab_type": "code",
        "colab": {}
      },
      "source": [
        "# outputs_final_1\n",
        "# # validation_df['movie_id']\n",
        "# %pwd"
      ],
      "execution_count": 0,
      "outputs": []
    },
    {
      "cell_type": "markdown",
      "metadata": {
        "id": "9twJ6IjReic_",
        "colab_type": "text"
      },
      "source": [
        "# P2\n",
        "\n",
        "https://blog.csdn.net/u010900574/article/details/52669072"
      ]
    },
    {
      "cell_type": "code",
      "metadata": {
        "id": "mQnNqYO-ekqC",
        "colab_type": "code",
        "colab": {}
      },
      "source": [
        "# Only keep certain columns as training set\n",
        "\n",
        "# keep_col = ['budget', 'homepage', 'original_language', 'release_date']\n",
        "# conv_num_list = ['cast', 'crew', 'genres', 'keywords', 'production_companies', 'production_countries', 'spoken_languages']\n",
        "\n",
        "keep_col = ['budget', 'homepage', 'release_date']\n",
        "conv_num_list = ['genres',  'keywords']\n",
        "Y_label = 'rating'\n"
      ],
      "execution_count": 0,
      "outputs": []
    },
    {
      "cell_type": "markdown",
      "metadata": {
        "id": "y7D7YsShCtjx",
        "colab_type": "text"
      },
      "source": [
        "### proc data\n",
        "\n",
        "Not norm Y-label"
      ]
    },
    {
      "cell_type": "code",
      "metadata": {
        "id": "IdQoFQaFmqXf",
        "colab_type": "code",
        "colab": {}
      },
      "source": [
        "def proc_data(dataset):\n",
        "    # add Y label\n",
        "    selected_col = keep_col + conv_num_list\n",
        "    selected_col.append(Y_label)\n",
        "    proc_dataset = dataset[selected_col]\n",
        "    # proc_dataset = dataset[keep_col]\n",
        "\n",
        "    # do preprocessing\n",
        "    #convert to num\n",
        "    for i in conv_num_list:\n",
        "        try:\n",
        "            proc_dataset = conv_to_num(proc_dataset, i)\n",
        "        except:\n",
        "            pass\n",
        "\n",
        "    # other processing\n",
        "    proc_dataset = proc_norm(proc_dataset, 'budget')\n",
        "    proc_dataset = proc_homepage(proc_dataset)\n",
        "    proc_dataset = proc_rls_date(proc_dataset)\n",
        "\n",
        "    #Do not norm Y label\n",
        "    # proc_dataset = proc_norm(proc_dataset, Y_label)    \n",
        "    return proc_dataset"
      ],
      "execution_count": 0,
      "outputs": []
    },
    {
      "cell_type": "code",
      "metadata": {
        "id": "vDJJTlJ4gbUy",
        "colab_type": "code",
        "outputId": "b5ea90ca-3b6f-4951-efce-f4dfb5b00163",
        "colab": {
          "base_uri": "https://localhost:8080/",
          "height": 419
        }
      },
      "source": [
        "train_set = proc_data(train_df)\n",
        "vali_set = proc_data(validation_df)\n",
        "train_set"
      ],
      "execution_count": 352,
      "outputs": [
        {
          "output_type": "execute_result",
          "data": {
            "text/html": [
              "<div>\n",
              "<style scoped>\n",
              "    .dataframe tbody tr th:only-of-type {\n",
              "        vertical-align: middle;\n",
              "    }\n",
              "\n",
              "    .dataframe tbody tr th {\n",
              "        vertical-align: top;\n",
              "    }\n",
              "\n",
              "    .dataframe thead th {\n",
              "        text-align: right;\n",
              "    }\n",
              "</style>\n",
              "<table border=\"1\" class=\"dataframe\">\n",
              "  <thead>\n",
              "    <tr style=\"text-align: right;\">\n",
              "      <th></th>\n",
              "      <th>budget</th>\n",
              "      <th>homepage</th>\n",
              "      <th>release_date</th>\n",
              "      <th>genres</th>\n",
              "      <th>keywords</th>\n",
              "      <th>rating</th>\n",
              "    </tr>\n",
              "  </thead>\n",
              "  <tbody>\n",
              "    <tr>\n",
              "      <th>0</th>\n",
              "      <td>0.623684</td>\n",
              "      <td>True</td>\n",
              "      <td>2009</td>\n",
              "      <td>4</td>\n",
              "      <td>21</td>\n",
              "      <td>3</td>\n",
              "    </tr>\n",
              "    <tr>\n",
              "      <th>1</th>\n",
              "      <td>0.789474</td>\n",
              "      <td>True</td>\n",
              "      <td>2007</td>\n",
              "      <td>3</td>\n",
              "      <td>16</td>\n",
              "      <td>3</td>\n",
              "    </tr>\n",
              "    <tr>\n",
              "      <th>2</th>\n",
              "      <td>0.644737</td>\n",
              "      <td>True</td>\n",
              "      <td>2015</td>\n",
              "      <td>3</td>\n",
              "      <td>7</td>\n",
              "      <td>3</td>\n",
              "    </tr>\n",
              "    <tr>\n",
              "      <th>3</th>\n",
              "      <td>0.657895</td>\n",
              "      <td>True</td>\n",
              "      <td>2012</td>\n",
              "      <td>4</td>\n",
              "      <td>21</td>\n",
              "      <td>3</td>\n",
              "    </tr>\n",
              "    <tr>\n",
              "      <th>4</th>\n",
              "      <td>0.684211</td>\n",
              "      <td>True</td>\n",
              "      <td>2012</td>\n",
              "      <td>3</td>\n",
              "      <td>16</td>\n",
              "      <td>3</td>\n",
              "    </tr>\n",
              "    <tr>\n",
              "      <th>...</th>\n",
              "      <td>...</td>\n",
              "      <td>...</td>\n",
              "      <td>...</td>\n",
              "      <td>...</td>\n",
              "      <td>...</td>\n",
              "      <td>...</td>\n",
              "    </tr>\n",
              "    <tr>\n",
              "      <th>2095</th>\n",
              "      <td>0.039474</td>\n",
              "      <td>False</td>\n",
              "      <td>1991</td>\n",
              "      <td>4</td>\n",
              "      <td>7</td>\n",
              "      <td>2</td>\n",
              "    </tr>\n",
              "    <tr>\n",
              "      <th>2096</th>\n",
              "      <td>0.031579</td>\n",
              "      <td>True</td>\n",
              "      <td>2007</td>\n",
              "      <td>3</td>\n",
              "      <td>10</td>\n",
              "      <td>3</td>\n",
              "    </tr>\n",
              "    <tr>\n",
              "      <th>2097</th>\n",
              "      <td>0.042105</td>\n",
              "      <td>True</td>\n",
              "      <td>2008</td>\n",
              "      <td>3</td>\n",
              "      <td>3</td>\n",
              "      <td>2</td>\n",
              "    </tr>\n",
              "    <tr>\n",
              "      <th>2098</th>\n",
              "      <td>0.039474</td>\n",
              "      <td>False</td>\n",
              "      <td>2008</td>\n",
              "      <td>2</td>\n",
              "      <td>3</td>\n",
              "      <td>3</td>\n",
              "    </tr>\n",
              "    <tr>\n",
              "      <th>2099</th>\n",
              "      <td>0.042105</td>\n",
              "      <td>False</td>\n",
              "      <td>2000</td>\n",
              "      <td>3</td>\n",
              "      <td>12</td>\n",
              "      <td>2</td>\n",
              "    </tr>\n",
              "  </tbody>\n",
              "</table>\n",
              "<p>2100 rows × 6 columns</p>\n",
              "</div>"
            ],
            "text/plain": [
              "        budget homepage release_date genres keywords  rating\n",
              "0     0.623684     True         2009      4       21       3\n",
              "1     0.789474     True         2007      3       16       3\n",
              "2     0.644737     True         2015      3        7       3\n",
              "3     0.657895     True         2012      4       21       3\n",
              "4     0.684211     True         2012      3       16       3\n",
              "...        ...      ...          ...    ...      ...     ...\n",
              "2095  0.039474    False         1991      4        7       2\n",
              "2096  0.031579     True         2007      3       10       3\n",
              "2097  0.042105     True         2008      3        3       2\n",
              "2098  0.039474    False         2008      2        3       3\n",
              "2099  0.042105    False         2000      3       12       2\n",
              "\n",
              "[2100 rows x 6 columns]"
            ]
          },
          "metadata": {
            "tags": []
          },
          "execution_count": 352
        }
      ]
    },
    {
      "cell_type": "code",
      "metadata": {
        "id": "HUrD3zefhHLv",
        "colab_type": "code",
        "colab": {}
      },
      "source": [
        "keep_col = keep_col + conv_num_list\n",
        "\n",
        "X_train = train_set[keep_col]\n",
        "Y_train = train_set[Y_label]\n",
        "\n",
        "X_valid = vali_set[keep_col]\n",
        "Y_valid = vali_set[Y_label]"
      ],
      "execution_count": 0,
      "outputs": []
    },
    {
      "cell_type": "markdown",
      "metadata": {
        "id": "Rz2AgK_TkML-",
        "colab_type": "text"
      },
      "source": [
        "### SVM"
      ]
    },
    {
      "cell_type": "code",
      "metadata": {
        "id": "1YuMaDc_kLu0",
        "colab_type": "code",
        "colab": {}
      },
      "source": [
        "clf = GradientBoostingClassifier(n_estimators=50, learning_rate=1.0,max_depth=1, random_state=10)\n",
        "clf.fit(X_train,Y_train)\n",
        "Y_valid_pred = clf.predict(X_valid)"
      ],
      "execution_count": 0,
      "outputs": []
    },
    {
      "cell_type": "code",
      "metadata": {
        "id": "XckfpvYNuuJX",
        "colab_type": "code",
        "colab": {
          "base_uri": "https://localhost:8080/",
          "height": 34
        },
        "outputId": "0d21d681-882b-40c1-f4a9-9af8a5fe027c"
      },
      "source": [
        "# summary output\n",
        "lst = [Z_ID]\n",
        "summary_2_filename = Z_ID + '.PART2.summary.csv'\n",
        "rating_labels = [1,2,3]\n",
        "\n",
        "lst.append(round(precision_score(Y_valid,Y_valid_pred, average='macro'), DECIMAL_LEN)) \n",
        "lst.append(round(recall_score(Y_valid, Y_valid_pred, average='macro'), DECIMAL_LEN))\n",
        "lst.append(round(accuracy_score(Y_valid, Y_valid_pred), DECIMAL_LEN))\n",
        "print(lst)\n",
        "summary_2 = pd.DataFrame([lst], columns =['zid','average_precision','average_recall','accuracy' ]) \n",
        "summary_2.to_csv(summary_2_filename, index=False)"
      ],
      "execution_count": 355,
      "outputs": [
        {
          "output_type": "stream",
          "text": [
            "['z5141401', 0.6, 0.58, 0.68]\n"
          ],
          "name": "stdout"
        }
      ]
    },
    {
      "cell_type": "code",
      "metadata": {
        "id": "R0nuLML6_bGt",
        "colab_type": "code",
        "colab": {}
      },
      "source": [
        "# detail outputs\n",
        "output_2_filename = Z_ID + '.PART2.output.csv'\n",
        "\n",
        "outputs_pred = pd.DataFrame(Y_valid_pred)\n",
        "outputs_inverse = validation_df.copy()\n",
        "outputs_inverse['predicted_rating'] = inverse_norm(validation_df[Y_label], outputs_pred)\n",
        "\n",
        "outputs_2 = pd.DataFrame(outputs_inverse, columns= ['movie_id', 'predicted_rating'])\n",
        "outputs_2.to_csv(output_2_filename, index=False)"
      ],
      "execution_count": 0,
      "outputs": []
    },
    {
      "cell_type": "code",
      "metadata": {
        "id": "iJUwB_dpgb4n",
        "colab_type": "code",
        "colab": {}
      },
      "source": [
        "# from sklearn import tree, svm, naive_bayes,neighbors\n",
        "# from sklearn.ensemble import BaggingClassifier, AdaBoostClassifier, RandomForestClassifier, GradientBoostingClassifier\n",
        "\n",
        "\n",
        "\n",
        "# clfs = {'svm': svm.SVC(),\\\n",
        "#         'decision_tree':tree.DecisionTreeClassifier(),\n",
        "#         'naive_gaussian': naive_bayes.GaussianNB(), \\\n",
        "#         # 'naive_mul':naive_bayes.MultinomialNB(),\\\n",
        "#         'K_neighbor' : neighbors.KNeighborsClassifier(),\\\n",
        "#         'bagging_knn' : BaggingClassifier(neighbors.KNeighborsClassifier(), max_samples=0.5,max_features=0.5), \\\n",
        "#         'bagging_tree': BaggingClassifier(tree.DecisionTreeClassifier(), max_samples=0.5,max_features=0.5),\n",
        "#         'random_forest' : RandomForestClassifier(n_estimators=50),\\\n",
        "#         'adaboost':AdaBoostClassifier(n_estimators=50),\\\n",
        "#         'gradient_boost' : GradientBoostingClassifier(n_estimators=50, learning_rate=1.0,max_depth=1, random_state=10)\n",
        "#         }\n",
        "\n",
        "# def try_different_method(clf):\n",
        "#     clf.fit(X_train,Y_train)\n",
        "#     score = clf.score(X_valid,Y_valid)\n",
        "#     print('the score is :', score)\n",
        "\n",
        "# for clf_key in clfs.keys():\n",
        "#     print('the classifier is :',clf_key)\n",
        "#     clf = clfs[clf_key]\n",
        "#     try_different_method(clf)"
      ],
      "execution_count": 0,
      "outputs": []
    },
    {
      "cell_type": "code",
      "metadata": {
        "id": "zM4hLmjAhJ1X",
        "colab_type": "code",
        "colab": {}
      },
      "source": [
        ""
      ],
      "execution_count": 0,
      "outputs": []
    }
  ]
}
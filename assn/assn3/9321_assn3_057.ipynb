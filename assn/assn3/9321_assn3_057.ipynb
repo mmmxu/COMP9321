{
  "nbformat": 4,
  "nbformat_minor": 0,
  "metadata": {
    "colab": {
      "name": "9321-assn3.ipynb",
      "provenance": [],
      "collapsed_sections": []
    },
    "kernelspec": {
      "name": "python3",
      "display_name": "Python 3"
    }
  },
  "cells": [
    {
      "cell_type": "markdown",
      "metadata": {
        "id": "0iJQM19YWXuZ",
        "colab_type": "text"
      },
      "source": [
        "# preprocessing\n",
        "\n",
        "dev env colab\n",
        "## Load csv file from Gdrive"
      ]
    },
    {
      "cell_type": "code",
      "metadata": {
        "id": "J2b_qLgEPOaH",
        "colab_type": "code",
        "outputId": "6d71b644-731b-45a2-912e-c9298a03064a",
        "colab": {
          "base_uri": "https://localhost:8080/",
          "height": 51
        }
      },
      "source": [
        "# Mount google drive to read images from colab\n",
        "from google.colab import drive\n",
        "drive.mount('/content/drive')\n",
        "%cd /content/drive/My Drive/DevEnv/9321"
      ],
      "execution_count": 179,
      "outputs": [
        {
          "output_type": "stream",
          "text": [
            "Drive already mounted at /content/drive; to attempt to forcibly remount, call drive.mount(\"/content/drive\", force_remount=True).\n",
            "/content/drive/My Drive/DevEnv/9321\n"
          ],
          "name": "stdout"
        }
      ]
    },
    {
      "cell_type": "code",
      "metadata": {
        "id": "0iD40N_2PQqN",
        "colab_type": "code",
        "colab": {}
      },
      "source": [
        "# %cd /content/drive/My Drive/DevEnv/9321\n",
        "# !wget https://github.com/mysilver/COMP9321-Data-Services/raw/master/20t1/assign3/training.csv\n",
        "# !wget https://github.com/mysilver/COMP9321-Data-Services/raw/master/20t1/assign3/validation.csv"
      ],
      "execution_count": 0,
      "outputs": []
    },
    {
      "cell_type": "markdown",
      "metadata": {
        "id": "EF5WzlZIOszg",
        "colab_type": "text"
      },
      "source": [
        "# Start"
      ]
    },
    {
      "cell_type": "code",
      "metadata": {
        "id": "LfhfhO51UQqo",
        "colab_type": "code",
        "colab": {}
      },
      "source": [
        "import pandas as pd\n",
        "import numpy as np\n",
        "import requests\n",
        "import json\n",
        "\n",
        "from sklearn.preprocessing import LabelEncoder\n",
        "from sklearn.preprocessing import MinMaxScaler\n",
        "\n",
        "from sklearn.tree import DecisionTreeRegressor\n",
        "from sklearn.svm import SVR\n",
        "from sklearn.ensemble import RandomForestRegressor\n",
        "from sklearn.ensemble import AdaBoostRegressor\n",
        "from sklearn.ensemble import GradientBoostingRegressor\n",
        "\n",
        "from sklearn.model_selection import train_test_split\n",
        "from sklearn.metrics import accuracy_score\n",
        "from sklearn.metrics import mean_squared_error\n",
        "from sklearn.metrics import r2_score\n",
        "\n",
        "from math import sqrt\n",
        "import matplotlib.pyplot as plt"
      ],
      "execution_count": 0,
      "outputs": []
    },
    {
      "cell_type": "code",
      "metadata": {
        "id": "WdmmxfLfXo1Y",
        "colab_type": "code",
        "colab": {}
      },
      "source": [
        "# ref: https://stackoverflow.com/questions/20625582/how-to-deal-with-settingwithcopywarning-in-pandas\n",
        "pd.options.mode.chained_assignment = None  # default='warn'"
      ],
      "execution_count": 0,
      "outputs": []
    },
    {
      "cell_type": "code",
      "metadata": {
        "id": "gZJCBun7WUhS",
        "colab_type": "code",
        "colab": {}
      },
      "source": [
        "train_df=pd.read_csv('./training.csv')\n",
        "validation_df=pd.read_csv('./validation.csv')"
      ],
      "execution_count": 0,
      "outputs": []
    },
    {
      "cell_type": "code",
      "metadata": {
        "id": "cGcJZDPyWmuF",
        "colab_type": "code",
        "outputId": "3adc675c-c7f3-40e0-bbe1-8af2973a04f9",
        "colab": {
          "base_uri": "https://localhost:8080/",
          "height": 1000
        }
      },
      "source": [
        "train_df"
      ],
      "execution_count": 184,
      "outputs": [
        {
          "output_type": "execute_result",
          "data": {
            "text/html": [
              "<div>\n",
              "<style scoped>\n",
              "    .dataframe tbody tr th:only-of-type {\n",
              "        vertical-align: middle;\n",
              "    }\n",
              "\n",
              "    .dataframe tbody tr th {\n",
              "        vertical-align: top;\n",
              "    }\n",
              "\n",
              "    .dataframe thead th {\n",
              "        text-align: right;\n",
              "    }\n",
              "</style>\n",
              "<table border=\"1\" class=\"dataframe\">\n",
              "  <thead>\n",
              "    <tr style=\"text-align: right;\">\n",
              "      <th></th>\n",
              "      <th>movie_id</th>\n",
              "      <th>cast</th>\n",
              "      <th>crew</th>\n",
              "      <th>budget</th>\n",
              "      <th>genres</th>\n",
              "      <th>homepage</th>\n",
              "      <th>keywords</th>\n",
              "      <th>original_language</th>\n",
              "      <th>original_title</th>\n",
              "      <th>overview</th>\n",
              "      <th>production_companies</th>\n",
              "      <th>production_countries</th>\n",
              "      <th>release_date</th>\n",
              "      <th>revenue</th>\n",
              "      <th>runtime</th>\n",
              "      <th>spoken_languages</th>\n",
              "      <th>status</th>\n",
              "      <th>tagline</th>\n",
              "      <th>rating</th>\n",
              "    </tr>\n",
              "  </thead>\n",
              "  <tbody>\n",
              "    <tr>\n",
              "      <th>0</th>\n",
              "      <td>19995</td>\n",
              "      <td>[{\"cast_id\": 242, \"character\": \"Jake Sully\", \"...</td>\n",
              "      <td>[{\"credit_id\": \"52fe48009251416c750aca23\", \"de...</td>\n",
              "      <td>237000000</td>\n",
              "      <td>[{\"id\": 28, \"name\": \"Action\"}, {\"id\": 12, \"nam...</td>\n",
              "      <td>http://www.avatarmovie.com/</td>\n",
              "      <td>[{\"id\": 1463, \"name\": \"culture clash\"}, {\"id\":...</td>\n",
              "      <td>en</td>\n",
              "      <td>Avatar</td>\n",
              "      <td>In the 22nd century, a paraplegic Marine is di...</td>\n",
              "      <td>[{\"name\": \"Ingenious Film Partners\", \"id\": 289...</td>\n",
              "      <td>[{\"iso_3166_1\": \"US\", \"name\": \"United States o...</td>\n",
              "      <td>2009-12-10</td>\n",
              "      <td>2787965087</td>\n",
              "      <td>162.0</td>\n",
              "      <td>[{\"iso_639_1\": \"en\", \"name\": \"English\"}, {\"iso...</td>\n",
              "      <td>Released</td>\n",
              "      <td>Enter the World of Pandora.</td>\n",
              "      <td>3</td>\n",
              "    </tr>\n",
              "    <tr>\n",
              "      <th>1</th>\n",
              "      <td>285</td>\n",
              "      <td>[{\"cast_id\": 4, \"character\": \"Captain Jack Spa...</td>\n",
              "      <td>[{\"credit_id\": \"52fe4232c3a36847f800b579\", \"de...</td>\n",
              "      <td>300000000</td>\n",
              "      <td>[{\"id\": 12, \"name\": \"Adventure\"}, {\"id\": 14, \"...</td>\n",
              "      <td>http://disney.go.com/disneypictures/pirates/</td>\n",
              "      <td>[{\"id\": 270, \"name\": \"ocean\"}, {\"id\": 726, \"na...</td>\n",
              "      <td>en</td>\n",
              "      <td>Pirates of the Caribbean: At World's End</td>\n",
              "      <td>Captain Barbossa, long believed to be dead, ha...</td>\n",
              "      <td>[{\"name\": \"Walt Disney Pictures\", \"id\": 2}, {\"...</td>\n",
              "      <td>[{\"iso_3166_1\": \"US\", \"name\": \"United States o...</td>\n",
              "      <td>2007-05-19</td>\n",
              "      <td>961000000</td>\n",
              "      <td>169.0</td>\n",
              "      <td>[{\"iso_639_1\": \"en\", \"name\": \"English\"}]</td>\n",
              "      <td>Released</td>\n",
              "      <td>At the end of the world, the adventure begins.</td>\n",
              "      <td>3</td>\n",
              "    </tr>\n",
              "    <tr>\n",
              "      <th>2</th>\n",
              "      <td>206647</td>\n",
              "      <td>[{\"cast_id\": 1, \"character\": \"James Bond\", \"cr...</td>\n",
              "      <td>[{\"credit_id\": \"54805967c3a36829b5002c41\", \"de...</td>\n",
              "      <td>245000000</td>\n",
              "      <td>[{\"id\": 28, \"name\": \"Action\"}, {\"id\": 12, \"nam...</td>\n",
              "      <td>http://www.sonypictures.com/movies/spectre/</td>\n",
              "      <td>[{\"id\": 470, \"name\": \"spy\"}, {\"id\": 818, \"name...</td>\n",
              "      <td>en</td>\n",
              "      <td>Spectre</td>\n",
              "      <td>A cryptic message from Bond’s past sends him o...</td>\n",
              "      <td>[{\"name\": \"Columbia Pictures\", \"id\": 5}, {\"nam...</td>\n",
              "      <td>[{\"iso_3166_1\": \"GB\", \"name\": \"United Kingdom\"...</td>\n",
              "      <td>2015-10-26</td>\n",
              "      <td>880674609</td>\n",
              "      <td>148.0</td>\n",
              "      <td>[{\"iso_639_1\": \"fr\", \"name\": \"Fran\\u00e7ais\"},...</td>\n",
              "      <td>Released</td>\n",
              "      <td>A Plan No One Escapes</td>\n",
              "      <td>3</td>\n",
              "    </tr>\n",
              "    <tr>\n",
              "      <th>3</th>\n",
              "      <td>49026</td>\n",
              "      <td>[{\"cast_id\": 2, \"character\": \"Bruce Wayne / Ba...</td>\n",
              "      <td>[{\"credit_id\": \"52fe4781c3a36847f81398c3\", \"de...</td>\n",
              "      <td>250000000</td>\n",
              "      <td>[{\"id\": 28, \"name\": \"Action\"}, {\"id\": 80, \"nam...</td>\n",
              "      <td>http://www.thedarkknightrises.com/</td>\n",
              "      <td>[{\"id\": 849, \"name\": \"dc comics\"}, {\"id\": 853,...</td>\n",
              "      <td>en</td>\n",
              "      <td>The Dark Knight Rises</td>\n",
              "      <td>Following the death of District Attorney Harve...</td>\n",
              "      <td>[{\"name\": \"Legendary Pictures\", \"id\": 923}, {\"...</td>\n",
              "      <td>[{\"iso_3166_1\": \"US\", \"name\": \"United States o...</td>\n",
              "      <td>2012-07-16</td>\n",
              "      <td>1084939099</td>\n",
              "      <td>165.0</td>\n",
              "      <td>[{\"iso_639_1\": \"en\", \"name\": \"English\"}]</td>\n",
              "      <td>Released</td>\n",
              "      <td>The Legend Ends</td>\n",
              "      <td>3</td>\n",
              "    </tr>\n",
              "    <tr>\n",
              "      <th>4</th>\n",
              "      <td>49529</td>\n",
              "      <td>[{\"cast_id\": 5, \"character\": \"John Carter\", \"c...</td>\n",
              "      <td>[{\"credit_id\": \"52fe479ac3a36847f813eaa3\", \"de...</td>\n",
              "      <td>260000000</td>\n",
              "      <td>[{\"id\": 28, \"name\": \"Action\"}, {\"id\": 12, \"nam...</td>\n",
              "      <td>http://movies.disney.com/john-carter</td>\n",
              "      <td>[{\"id\": 818, \"name\": \"based on novel\"}, {\"id\":...</td>\n",
              "      <td>en</td>\n",
              "      <td>John Carter</td>\n",
              "      <td>John Carter is a war-weary, former military ca...</td>\n",
              "      <td>[{\"name\": \"Walt Disney Pictures\", \"id\": 2}]</td>\n",
              "      <td>[{\"iso_3166_1\": \"US\", \"name\": \"United States o...</td>\n",
              "      <td>2012-03-07</td>\n",
              "      <td>284139100</td>\n",
              "      <td>132.0</td>\n",
              "      <td>[{\"iso_639_1\": \"en\", \"name\": \"English\"}]</td>\n",
              "      <td>Released</td>\n",
              "      <td>Lost in our world, found in another.</td>\n",
              "      <td>3</td>\n",
              "    </tr>\n",
              "    <tr>\n",
              "      <th>...</th>\n",
              "      <td>...</td>\n",
              "      <td>...</td>\n",
              "      <td>...</td>\n",
              "      <td>...</td>\n",
              "      <td>...</td>\n",
              "      <td>...</td>\n",
              "      <td>...</td>\n",
              "      <td>...</td>\n",
              "      <td>...</td>\n",
              "      <td>...</td>\n",
              "      <td>...</td>\n",
              "      <td>...</td>\n",
              "      <td>...</td>\n",
              "      <td>...</td>\n",
              "      <td>...</td>\n",
              "      <td>...</td>\n",
              "      <td>...</td>\n",
              "      <td>...</td>\n",
              "      <td>...</td>\n",
              "    </tr>\n",
              "    <tr>\n",
              "      <th>2095</th>\n",
              "      <td>9594</td>\n",
              "      <td>[{\"cast_id\": 1, \"character\": \"Alex / Chad Wagn...</td>\n",
              "      <td>[{\"credit_id\": \"52fe450ec3a36847f80b9d6f\", \"de...</td>\n",
              "      <td>15000000</td>\n",
              "      <td>[{\"id\": 53, \"name\": \"Thriller\"}, {\"id\": 28, \"n...</td>\n",
              "      <td>NaN</td>\n",
              "      <td>[{\"id\": 2143, \"name\": \"loss of parents\"}, {\"id...</td>\n",
              "      <td>en</td>\n",
              "      <td>Double Impact</td>\n",
              "      <td>Jean Claude Van Damme plays a dual role as Ale...</td>\n",
              "      <td>[{\"name\": \"Stone Group Pictures\", \"id\": 3470}]</td>\n",
              "      <td>[{\"iso_3166_1\": \"US\", \"name\": \"United States o...</td>\n",
              "      <td>1991-08-10</td>\n",
              "      <td>30102717</td>\n",
              "      <td>110.0</td>\n",
              "      <td>[{\"iso_639_1\": \"en\", \"name\": \"English\"}]</td>\n",
              "      <td>Released</td>\n",
              "      <td>Two brothers separated by the violence. Now to...</td>\n",
              "      <td>2</td>\n",
              "    </tr>\n",
              "    <tr>\n",
              "      <th>2096</th>\n",
              "      <td>4638</td>\n",
              "      <td>[{\"cast_id\": 40, \"character\": \"Nicholas Angel\"...</td>\n",
              "      <td>[{\"credit_id\": \"569d89b6c3a36858e5004c66\", \"de...</td>\n",
              "      <td>12000000</td>\n",
              "      <td>[{\"id\": 80, \"name\": \"Crime\"}, {\"id\": 28, \"name...</td>\n",
              "      <td>http://www.universalstudiosentertainment.com/h...</td>\n",
              "      <td>[{\"id\": 5331, \"name\": \"village\"}, {\"id\": 5638,...</td>\n",
              "      <td>en</td>\n",
              "      <td>Hot Fuzz</td>\n",
              "      <td>Top London cop, PC Nicholas Angel is good. Too...</td>\n",
              "      <td>[{\"name\": \"Universal Pictures\", \"id\": 33}, {\"n...</td>\n",
              "      <td>[{\"iso_3166_1\": \"GB\", \"name\": \"United Kingdom\"}]</td>\n",
              "      <td>2007-02-14</td>\n",
              "      <td>80573774</td>\n",
              "      <td>121.0</td>\n",
              "      <td>[{\"iso_639_1\": \"en\", \"name\": \"English\"}]</td>\n",
              "      <td>Released</td>\n",
              "      <td>Big cops. Small town. Moderate violence.</td>\n",
              "      <td>3</td>\n",
              "    </tr>\n",
              "    <tr>\n",
              "      <th>2097</th>\n",
              "      <td>13972</td>\n",
              "      <td>[{\"cast_id\": 9, \"character\": \"Maggie\", \"credit...</td>\n",
              "      <td>[{\"credit_id\": \"52fe45be9251416c75060e61\", \"de...</td>\n",
              "      <td>16000000</td>\n",
              "      <td>[{\"id\": 35, \"name\": \"Comedy\"}, {\"id\": 18, \"nam...</td>\n",
              "      <td>http://thewomen.warnerbros.com/index.html</td>\n",
              "      <td>[{\"id\": 9749, \"name\": \"beauty salon\"}, {\"id\": ...</td>\n",
              "      <td>en</td>\n",
              "      <td>The Women</td>\n",
              "      <td>The story centers on a group of gossipy, high-...</td>\n",
              "      <td>[{\"name\": \"New Line Cinema\", \"id\": 12}]</td>\n",
              "      <td>[{\"iso_3166_1\": \"US\", \"name\": \"United States o...</td>\n",
              "      <td>2008-09-12</td>\n",
              "      <td>50007546</td>\n",
              "      <td>114.0</td>\n",
              "      <td>[{\"iso_639_1\": \"en\", \"name\": \"English\"}]</td>\n",
              "      <td>Released</td>\n",
              "      <td>NaN</td>\n",
              "      <td>2</td>\n",
              "    </tr>\n",
              "    <tr>\n",
              "      <th>2098</th>\n",
              "      <td>5038</td>\n",
              "      <td>[{\"cast_id\": 3, \"character\": \"Cristina\", \"cred...</td>\n",
              "      <td>[{\"credit_id\": \"52fe43eec3a36847f80792ad\", \"de...</td>\n",
              "      <td>15000000</td>\n",
              "      <td>[{\"id\": 18, \"name\": \"Drama\"}, {\"id\": 10749, \"n...</td>\n",
              "      <td>NaN</td>\n",
              "      <td>[{\"id\": 107, \"name\": \"barcelona spain\"}, {\"id\"...</td>\n",
              "      <td>en</td>\n",
              "      <td>Vicky Cristina Barcelona</td>\n",
              "      <td>Two girlfriends on a summer holiday in Spain b...</td>\n",
              "      <td>[{\"name\": \"The Weinstein Company\", \"id\": 308},...</td>\n",
              "      <td>[{\"iso_3166_1\": \"US\", \"name\": \"United States o...</td>\n",
              "      <td>2008-08-15</td>\n",
              "      <td>96408652</td>\n",
              "      <td>96.0</td>\n",
              "      <td>[{\"iso_639_1\": \"es\", \"name\": \"Espa\\u00f1ol\"}, ...</td>\n",
              "      <td>Released</td>\n",
              "      <td>Life is the ultimate work of art</td>\n",
              "      <td>3</td>\n",
              "    </tr>\n",
              "    <tr>\n",
              "      <th>2099</th>\n",
              "      <td>10571</td>\n",
              "      <td>[{\"cast_id\": 1, \"character\": \"Ryan Walker\", \"c...</td>\n",
              "      <td>[{\"credit_id\": \"58c2bd94c3a36842e80114ed\", \"de...</td>\n",
              "      <td>16000000</td>\n",
              "      <td>[{\"id\": 35, \"name\": \"Comedy\"}, {\"id\": 18, \"nam...</td>\n",
              "      <td>NaN</td>\n",
              "      <td>[{\"id\": 815, \"name\": \"soulmates\"}, {\"id\": 1605...</td>\n",
              "      <td>en</td>\n",
              "      <td>Boys and Girls</td>\n",
              "      <td>Ryan and Jennifer are opposites who definitely...</td>\n",
              "      <td>[{\"name\": \"Punch 21 Productions\", \"id\": 13158}]</td>\n",
              "      <td>[{\"iso_3166_1\": \"US\", \"name\": \"United States o...</td>\n",
              "      <td>2000-06-16</td>\n",
              "      <td>20627372</td>\n",
              "      <td>94.0</td>\n",
              "      <td>[{\"iso_639_1\": \"en\", \"name\": \"English\"}]</td>\n",
              "      <td>Released</td>\n",
              "      <td>Warning: Sex Changes Everything</td>\n",
              "      <td>2</td>\n",
              "    </tr>\n",
              "  </tbody>\n",
              "</table>\n",
              "<p>2100 rows × 19 columns</p>\n",
              "</div>"
            ],
            "text/plain": [
              "      movie_id  ... rating\n",
              "0        19995  ...      3\n",
              "1          285  ...      3\n",
              "2       206647  ...      3\n",
              "3        49026  ...      3\n",
              "4        49529  ...      3\n",
              "...        ...  ...    ...\n",
              "2095      9594  ...      2\n",
              "2096      4638  ...      3\n",
              "2097     13972  ...      2\n",
              "2098      5038  ...      3\n",
              "2099     10571  ...      2\n",
              "\n",
              "[2100 rows x 19 columns]"
            ]
          },
          "metadata": {
            "tags": []
          },
          "execution_count": 184
        }
      ]
    },
    {
      "cell_type": "markdown",
      "metadata": {
        "id": "8bENIDsXQaN8",
        "colab_type": "text"
      },
      "source": [
        "## Processing data\n",
        "\n",
        "\n",
        "|Column|Value  |\n",
        "|--|--|\n",
        "|Budget|keep value, not convert|\n",
        "|Genres|convert to number of genres|\n",
        "|Homepage|convert to boolean (has a homepage or not)|\n",
        "|original_language|keep???|\n",
        "|release_date|convert to year|\n",
        "\n",
        "\n",
        "[release_year_rita.png](https://i.loli.net/2020/04/16/Ul1LeRQtr6PDM3d.png)\n",
        "\n",
        "[release_year_me](https://pic.luoxufeiyan.com/uploads/20200416145052.png)\n"
      ]
    },
    {
      "cell_type": "code",
      "metadata": {
        "id": "MkjVEqZ7Wpme",
        "colab_type": "code",
        "colab": {}
      },
      "source": [
        "# Only keep certain columns as training set\n",
        "\n",
        "# keep_col = ['budget', 'homepage', 'original_language', 'release_date']\n",
        "# conv_num_list = ['cast', 'crew', 'genres', 'keywords', 'production_companies', 'production_countries', 'spoken_languages']\n",
        "keep_col = ['budget', 'homepage', 'release_date']\n",
        "conv_num_list = ['genres', 'spoken_languages']\n",
        "Y_label = 'revenue'\n"
      ],
      "execution_count": 0,
      "outputs": []
    },
    {
      "cell_type": "code",
      "metadata": {
        "id": "mkNDfNMMRina",
        "colab_type": "code",
        "colab": {}
      },
      "source": [
        "# convert-to num\n",
        "def conv_to_num(dataset, modify_col):\n",
        "    for i in range(len(dataset[modify_col])):\n",
        "        curr_str = dataset[modify_col][i] \n",
        "        curr_len = len(json.loads(curr_str))\n",
        "        dataset[modify_col][i] = curr_len\n",
        "    return dataset"
      ],
      "execution_count": 0,
      "outputs": []
    },
    {
      "cell_type": "code",
      "metadata": {
        "id": "4su_cDzBXvRe",
        "colab_type": "code",
        "colab": {}
      },
      "source": [
        "# preprocessing-homepage\n",
        "def proc_homepage(dataset):\n",
        "    modify_col = 'homepage'\n",
        "    for i in range(len(dataset[modify_col])):\n",
        "        curr_str = dataset[modify_col][i] \n",
        "        # convert to Ture if movie has a homepage\n",
        "        curr_len = (type(curr_str) is str)\n",
        "        dataset[modify_col][i] = curr_len\n",
        "    return dataset"
      ],
      "execution_count": 0,
      "outputs": []
    },
    {
      "cell_type": "code",
      "metadata": {
        "id": "z1UU65umYxVP",
        "colab_type": "code",
        "colab": {}
      },
      "source": [
        "# preprocessing-release_date\n",
        "def proc_rls_date(dataset):\n",
        "    modify_col = 'release_date'\n",
        "    for i in range(len(dataset[modify_col])):\n",
        "        curr_str = dataset[modify_col][i] \n",
        "        # convert to year only\n",
        "        curr_len = int(curr_str[:4])\n",
        "        dataset[modify_col][i] = curr_len\n",
        "    return dataset"
      ],
      "execution_count": 0,
      "outputs": []
    },
    {
      "cell_type": "code",
      "metadata": {
        "id": "UTgkFau0l7Oc",
        "colab_type": "code",
        "colab": {}
      },
      "source": [
        "# original_language\n",
        "def proc_orig_lang(dataset):\n",
        "    all_lang = list(set(dataset['original_language'].values))\n",
        "    le = LabelEncoder()\n",
        "    le.fit(all_lang)\n",
        "    dataset['original_language'] = le.transform(dataset['original_language'])\n",
        "    return dataset"
      ],
      "execution_count": 0,
      "outputs": []
    },
    {
      "cell_type": "code",
      "metadata": {
        "id": "sUhdx5EZq1PY",
        "colab_type": "code",
        "colab": {}
      },
      "source": [
        "# budget\n",
        "def proc_budget(dataset):\n",
        "    modify_col = 'budget'\n",
        "    #norm certain cols\n",
        "    y_df = dataset[modify_col]\n",
        "    y_norm = (y_df - y_df.mean()) / (y_df.max() - y_df.min())\n",
        "    dataset[modify_col] = y_norm\n",
        "    return dataset"
      ],
      "execution_count": 0,
      "outputs": []
    },
    {
      "cell_type": "code",
      "metadata": {
        "id": "ZPmN2hcIrX8K",
        "colab_type": "code",
        "colab": {}
      },
      "source": [
        "## TEst only\n",
        "\n",
        "# proc_dataset = train_df[keep_col]\n",
        "# str1 = proc_dataset['spoken_languages'][206]\n",
        "# len(json.loads(str1))"
      ],
      "execution_count": 0,
      "outputs": []
    },
    {
      "cell_type": "code",
      "metadata": {
        "id": "ArtSIGULgoev",
        "colab_type": "code",
        "colab": {}
      },
      "source": [
        "def proc_data(dataset):\n",
        "    # add Y label\n",
        "    selected_col = keep_col + conv_num_list\n",
        "    selected_col.append(Y_label)\n",
        "    proc_dataset = dataset[selected_col]\n",
        "    # proc_dataset = dataset[keep_col]\n",
        "\n",
        "    # do preprocessing\n",
        "    #convert to num\n",
        "    for i in conv_num_list:\n",
        "        try:\n",
        "            proc_dataset = conv_to_num(proc_dataset, i)\n",
        "        except:\n",
        "            print(i)\n",
        "\n",
        "    # other processing\n",
        "    proc_dataset = proc_budget(proc_dataset)\n",
        "    proc_dataset = proc_homepage(proc_dataset)\n",
        "    proc_dataset = proc_rls_date(proc_dataset)\n",
        "\n",
        "    #norm certain cols\n",
        "    y_df = dataset[Y_label]\n",
        "    y_norm = (y_df - y_df.mean()) / (y_df.max() - y_df.min())\n",
        "    proc_dataset[Y_label] = y_norm\n",
        "    \n",
        "    return proc_dataset"
      ],
      "execution_count": 0,
      "outputs": []
    },
    {
      "cell_type": "code",
      "metadata": {
        "id": "RTepunEfVKTu",
        "colab_type": "code",
        "outputId": "f4843431-07e8-44c4-a468-816e21a80e24",
        "colab": {
          "base_uri": "https://localhost:8080/",
          "height": 419
        }
      },
      "source": [
        "train_set = proc_data(train_df)\n",
        "vali_set = proc_data(validation_df)\n",
        "train_set"
      ],
      "execution_count": 193,
      "outputs": [
        {
          "output_type": "execute_result",
          "data": {
            "text/html": [
              "<div>\n",
              "<style scoped>\n",
              "    .dataframe tbody tr th:only-of-type {\n",
              "        vertical-align: middle;\n",
              "    }\n",
              "\n",
              "    .dataframe tbody tr th {\n",
              "        vertical-align: top;\n",
              "    }\n",
              "\n",
              "    .dataframe thead th {\n",
              "        text-align: right;\n",
              "    }\n",
              "</style>\n",
              "<table border=\"1\" class=\"dataframe\">\n",
              "  <thead>\n",
              "    <tr style=\"text-align: right;\">\n",
              "      <th></th>\n",
              "      <th>budget</th>\n",
              "      <th>homepage</th>\n",
              "      <th>release_date</th>\n",
              "      <th>genres</th>\n",
              "      <th>spoken_languages</th>\n",
              "      <th>revenue</th>\n",
              "    </tr>\n",
              "  </thead>\n",
              "  <tbody>\n",
              "    <tr>\n",
              "      <th>0</th>\n",
              "      <td>0.470268</td>\n",
              "      <td>True</td>\n",
              "      <td>2009</td>\n",
              "      <td>4</td>\n",
              "      <td>2</td>\n",
              "      <td>0.940454</td>\n",
              "    </tr>\n",
              "    <tr>\n",
              "      <th>1</th>\n",
              "      <td>0.636057</td>\n",
              "      <td>True</td>\n",
              "      <td>2007</td>\n",
              "      <td>3</td>\n",
              "      <td>1</td>\n",
              "      <td>0.285150</td>\n",
              "    </tr>\n",
              "    <tr>\n",
              "      <th>2</th>\n",
              "      <td>0.491320</td>\n",
              "      <td>True</td>\n",
              "      <td>2015</td>\n",
              "      <td>3</td>\n",
              "      <td>5</td>\n",
              "      <td>0.256339</td>\n",
              "    </tr>\n",
              "    <tr>\n",
              "      <th>3</th>\n",
              "      <td>0.504478</td>\n",
              "      <td>True</td>\n",
              "      <td>2012</td>\n",
              "      <td>4</td>\n",
              "      <td>1</td>\n",
              "      <td>0.329605</td>\n",
              "    </tr>\n",
              "    <tr>\n",
              "      <th>4</th>\n",
              "      <td>0.530794</td>\n",
              "      <td>True</td>\n",
              "      <td>2012</td>\n",
              "      <td>3</td>\n",
              "      <td>1</td>\n",
              "      <td>0.042371</td>\n",
              "    </tr>\n",
              "    <tr>\n",
              "      <th>...</th>\n",
              "      <td>...</td>\n",
              "      <td>...</td>\n",
              "      <td>...</td>\n",
              "      <td>...</td>\n",
              "      <td>...</td>\n",
              "      <td>...</td>\n",
              "    </tr>\n",
              "    <tr>\n",
              "      <th>2095</th>\n",
              "      <td>-0.113943</td>\n",
              "      <td>False</td>\n",
              "      <td>1991</td>\n",
              "      <td>4</td>\n",
              "      <td>1</td>\n",
              "      <td>-0.048748</td>\n",
              "    </tr>\n",
              "    <tr>\n",
              "      <th>2096</th>\n",
              "      <td>-0.121838</td>\n",
              "      <td>True</td>\n",
              "      <td>2007</td>\n",
              "      <td>3</td>\n",
              "      <td>1</td>\n",
              "      <td>-0.030645</td>\n",
              "    </tr>\n",
              "    <tr>\n",
              "      <th>2097</th>\n",
              "      <td>-0.111311</td>\n",
              "      <td>True</td>\n",
              "      <td>2008</td>\n",
              "      <td>3</td>\n",
              "      <td>1</td>\n",
              "      <td>-0.041609</td>\n",
              "    </tr>\n",
              "    <tr>\n",
              "      <th>2098</th>\n",
              "      <td>-0.113943</td>\n",
              "      <td>False</td>\n",
              "      <td>2008</td>\n",
              "      <td>2</td>\n",
              "      <td>2</td>\n",
              "      <td>-0.024965</td>\n",
              "    </tr>\n",
              "    <tr>\n",
              "      <th>2099</th>\n",
              "      <td>-0.111311</td>\n",
              "      <td>False</td>\n",
              "      <td>2000</td>\n",
              "      <td>3</td>\n",
              "      <td>1</td>\n",
              "      <td>-0.052147</td>\n",
              "    </tr>\n",
              "  </tbody>\n",
              "</table>\n",
              "<p>2100 rows × 6 columns</p>\n",
              "</div>"
            ],
            "text/plain": [
              "        budget homepage release_date genres spoken_languages   revenue\n",
              "0     0.470268     True         2009      4                2  0.940454\n",
              "1     0.636057     True         2007      3                1  0.285150\n",
              "2     0.491320     True         2015      3                5  0.256339\n",
              "3     0.504478     True         2012      4                1  0.329605\n",
              "4     0.530794     True         2012      3                1  0.042371\n",
              "...        ...      ...          ...    ...              ...       ...\n",
              "2095 -0.113943    False         1991      4                1 -0.048748\n",
              "2096 -0.121838     True         2007      3                1 -0.030645\n",
              "2097 -0.111311     True         2008      3                1 -0.041609\n",
              "2098 -0.113943    False         2008      2                2 -0.024965\n",
              "2099 -0.111311    False         2000      3                1 -0.052147\n",
              "\n",
              "[2100 rows x 6 columns]"
            ]
          },
          "metadata": {
            "tags": []
          },
          "execution_count": 193
        }
      ]
    },
    {
      "cell_type": "markdown",
      "metadata": {
        "id": "wR6dJMLVcdXW",
        "colab_type": "text"
      },
      "source": [
        "# Fit models\n",
        "\n",
        "* https://www.pluralsight.com/guides/non-linear-regression-trees-scikit-learn\n",
        "\n",
        "* https://github.com/wangye707/PY_DELL/blob/b066ae4bb40273b24d698d66450e4207e3eb6808/git_book-master/chapters/Decision_Tree/decisiontree_regressor.py"
      ]
    },
    {
      "cell_type": "code",
      "metadata": {
        "id": "dQmikMikVsPB",
        "colab_type": "code",
        "colab": {}
      },
      "source": [
        "keep_col = keep_col + conv_num_list\n",
        "\n",
        "X_train = train_set[keep_col]\n",
        "Y_train = train_set[Y_label]\n",
        "\n",
        "X_valid = vali_set[keep_col]\n",
        "Y_valid = vali_set[Y_label]"
      ],
      "execution_count": 0,
      "outputs": []
    },
    {
      "cell_type": "code",
      "metadata": {
        "id": "ZhwFZ7GdDLNs",
        "colab_type": "code",
        "colab": {}
      },
      "source": [
        ""
      ],
      "execution_count": 0,
      "outputs": []
    },
    {
      "cell_type": "markdown",
      "metadata": {
        "id": "L7WzEN6wVrge",
        "colab_type": "text"
      },
      "source": [
        "### decision tree"
      ]
    },
    {
      "cell_type": "code",
      "metadata": {
        "id": "NG6yULADdMfK",
        "colab_type": "code",
        "colab": {}
      },
      "source": [
        "def dTree(X_train, Y_train):\n",
        "    model_dtree = DecisionTreeRegressor()\n",
        "    # dtree = DecisionTreeRegressor()\n",
        "    model_dtree.fit(X_train, Y_train)\n",
        "\n",
        "    return model_dtree"
      ],
      "execution_count": 0,
      "outputs": []
    },
    {
      "cell_type": "markdown",
      "metadata": {
        "id": "GyA9BRLVVwjy",
        "colab_type": "text"
      },
      "source": [
        "### random forest"
      ]
    },
    {
      "cell_type": "code",
      "metadata": {
        "id": "491D2mIcNy-n",
        "colab_type": "code",
        "colab": {}
      },
      "source": [
        "def randomForest(X_train, Y_train):\n",
        "    #RF model\n",
        "    model_rf = RandomForestRegressor(n_estimators=500, oob_score=True, random_state=100)\n",
        "    # model_rf = RandomForestRegressor(n_estimators=500)\n",
        "    model_rf.fit(X_train, Y_train) \n",
        "\n",
        "    return model_rf"
      ],
      "execution_count": 0,
      "outputs": []
    },
    {
      "cell_type": "markdown",
      "metadata": {
        "id": "h4iB6faNYWTi",
        "colab_type": "text"
      },
      "source": [
        "### Adaboost"
      ]
    },
    {
      "cell_type": "code",
      "metadata": {
        "id": "nb6pSnzvWMiy",
        "colab_type": "code",
        "colab": {}
      },
      "source": [
        "def adaBoost(X_train, Y_train):\n",
        "    model_ab = AdaBoostRegressor(n_estimators=500)\n",
        "    model_ab.fit(X_train, Y_train)\n",
        "\n",
        "    return model_ab "
      ],
      "execution_count": 0,
      "outputs": []
    },
    {
      "cell_type": "markdown",
      "metadata": {
        "id": "5FD_KpuEQEqf",
        "colab_type": "text"
      },
      "source": [
        "### GBRT"
      ]
    },
    {
      "cell_type": "code",
      "metadata": {
        "id": "ZCrtAK14QGm1",
        "colab_type": "code",
        "colab": {}
      },
      "source": [
        "def gbrt(X_train, Y_train):\n",
        "    model_gbrt = GradientBoostingRegressor(n_estimators=500)\n",
        "    model_gbrt.fit(X_train, Y_train)\n",
        "\n",
        "    return model_gbrt"
      ],
      "execution_count": 0,
      "outputs": []
    },
    {
      "cell_type": "markdown",
      "metadata": {
        "id": "L4ixhF74FhY3",
        "colab_type": "text"
      },
      "source": [
        "# Evaluate"
      ]
    },
    {
      "cell_type": "code",
      "metadata": {
        "id": "FSi_26WGYfhR",
        "colab_type": "code",
        "outputId": "cfe2cbc6-8a06-48ce-d673-3d135082f11f",
        "colab": {
          "base_uri": "https://localhost:8080/",
          "height": 731
        }
      },
      "source": [
        "model_dt = dTree(X_train, Y_train)\n",
        "model_rf = randomForest(X_train, Y_train)\n",
        "model_ab = adaBoost(X_train, Y_train)\n",
        "model_gbrt = gbrt(X_train, Y_train)\n",
        "\n",
        "model = model_dt\n",
        "\n",
        "for i in range(3):\n",
        "    if i ==0:\n",
        "        model = model_gbrt\n",
        "    if i == 1:\n",
        "        model = model_rf\n",
        "    if i ==2:\n",
        "        model = model_ab\n",
        "\n",
        "    print(\"Result for %s is:\"%(model))\n",
        "    # For train set\n",
        "    Y_train_pred = model.predict(X_train)\n",
        "    print(\"Train set result:\")\n",
        "    print('Mean squared Error: ',mean_squared_error(Y_train,Y_train_pred))\n",
        "    print(\"Correlation score:%f\"%(model.score(X_train,Y_train)))\n",
        "\n",
        "\n",
        "\n",
        "    # For validation set\n",
        "    print(\"Validation set result:\")\n",
        "    Y_valid_pred = model.predict(X_valid)\n",
        "    print('Mean squared Error: ',mean_squared_error(Y_valid,Y_valid_pred)) \n",
        "    print(\"Correlation score:%f\"%(model.score(X_valid,Y_valid)))\n",
        "\n",
        "    print(\"\\n\")"
      ],
      "execution_count": 199,
      "outputs": [
        {
          "output_type": "stream",
          "text": [
            "Result for GradientBoostingRegressor(alpha=0.9, ccp_alpha=0.0, criterion='friedman_mse',\n",
            "                          init=None, learning_rate=0.1, loss='ls', max_depth=3,\n",
            "                          max_features=None, max_leaf_nodes=None,\n",
            "                          min_impurity_decrease=0.0, min_impurity_split=None,\n",
            "                          min_samples_leaf=1, min_samples_split=2,\n",
            "                          min_weight_fraction_leaf=0.0, n_estimators=500,\n",
            "                          n_iter_no_change=None, presort='deprecated',\n",
            "                          random_state=None, subsample=1.0, tol=0.0001,\n",
            "                          validation_fraction=0.1, verbose=0, warm_start=False) is:\n",
            "Train set result:\n",
            "Mean squared Error:  0.0014830084442258337\n",
            "Correlation score:0.744886\n",
            "Validation set result:\n",
            "Mean squared Error:  0.012127514861620399\n",
            "Correlation score:0.057647\n",
            "\n",
            "\n",
            "Result for RandomForestRegressor(bootstrap=True, ccp_alpha=0.0, criterion='mse',\n",
            "                      max_depth=None, max_features='auto', max_leaf_nodes=None,\n",
            "                      max_samples=None, min_impurity_decrease=0.0,\n",
            "                      min_impurity_split=None, min_samples_leaf=1,\n",
            "                      min_samples_split=2, min_weight_fraction_leaf=0.0,\n",
            "                      n_estimators=500, n_jobs=None, oob_score=True,\n",
            "                      random_state=100, verbose=0, warm_start=False) is:\n",
            "Train set result:\n",
            "Mean squared Error:  0.0006021570702981528\n",
            "Correlation score:0.896414\n",
            "Validation set result:\n",
            "Mean squared Error:  0.012241327394271195\n",
            "Correlation score:0.048804\n",
            "\n",
            "\n",
            "Result for AdaBoostRegressor(base_estimator=None, learning_rate=1.0, loss='linear',\n",
            "                  n_estimators=500, random_state=None) is:\n",
            "Train set result:\n",
            "Mean squared Error:  0.003960687239361883\n",
            "Correlation score:0.318663\n",
            "Validation set result:\n",
            "Mean squared Error:  0.014358238983523548\n",
            "Correlation score:-0.115688\n",
            "\n",
            "\n"
          ],
          "name": "stdout"
        }
      ]
    },
    {
      "cell_type": "code",
      "metadata": {
        "id": "mLZT13bSILkm",
        "colab_type": "code",
        "colab": {}
      },
      "source": [
        ""
      ],
      "execution_count": 0,
      "outputs": []
    }
  ]
}